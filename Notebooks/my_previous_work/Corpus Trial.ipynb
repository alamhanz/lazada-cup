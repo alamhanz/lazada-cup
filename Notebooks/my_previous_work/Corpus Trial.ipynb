{
 "cells": [
  {
   "cell_type": "code",
   "execution_count": 1,
   "metadata": {},
   "outputs": [],
   "source": [
    "## https://towardsdatascience.com/multi-label-text-classification-with-scikit-learn-30714b7819c5\n",
    "\n",
    "## https://github.com/aboSamoor/polyglot/issues/80\n",
    "# conda install -c conda-forge pyicu morfessor icu -y && pip install pycld2 polyglot\n",
    "\n",
    "\n",
    "# polyglot download TASK:ner2\n",
    "# polyglot download TASK:embeddings2"
   ]
  },
  {
   "cell_type": "code",
   "execution_count": 2,
   "metadata": {},
   "outputs": [],
   "source": [
    "data_path='../data/'\n",
    "data_raw_path=\"../data/raw/\"\n",
    "data_man_path=\"../data/manipulate/\"\n",
    "model_path=\"../model/modeling1/\"\n",
    "model_path3=\"../model/modeling3/\"\n",
    "w2v_path=\"../data/w2v/\""
   ]
  },
  {
   "cell_type": "code",
   "execution_count": 3,
   "metadata": {},
   "outputs": [],
   "source": [
    "%matplotlib inline\n",
    "import re\n",
    "import matplotlib\n",
    "import numpy as np\n",
    "import matplotlib.pyplot as plt\n",
    "import pandas as pd\n",
    "from sklearn.model_selection import train_test_split\n",
    "from sklearn.feature_extraction.text import TfidfVectorizer\n",
    "from sklearn.naive_bayes import MultinomialNB\n",
    "from sklearn.metrics import accuracy_score,roc_auc_score\n",
    "from sklearn.multiclass import OneVsRestClassifier\n",
    "# from nltk.corpus import stopwords\n",
    "# stop_words = set(stopwords.words('english'))\n",
    "from sklearn.svm import LinearSVC\n",
    "from sklearn.linear_model import LogisticRegression\n",
    "from sklearn.pipeline import Pipeline\n",
    "from sklearn.externals import joblib\n",
    "from sklearn.linear_model import SGDClassifier\n",
    "import seaborn as sns\n",
    "import nltk\n",
    "from string import digits\n",
    "import ast\n",
    "\n",
    "import polyglot\n",
    "from polyglot.text import Text, Word"
   ]
  },
  {
   "cell_type": "markdown",
   "metadata": {},
   "source": [
    "## Try polyglot and Gensim"
   ]
  },
  {
   "cell_type": "code",
   "execution_count": 4,
   "metadata": {},
   "outputs": [],
   "source": [
    "# polyglot download pos2.id\n",
    "# polyglot download embedding.id\n",
    "# polyglot download morph2.id\n",
    "# polyglot download sgns2.id"
   ]
  },
  {
   "cell_type": "code",
   "execution_count": 5,
   "metadata": {},
   "outputs": [],
   "source": [
    "text = Text(\"halo semua\")"
   ]
  },
  {
   "cell_type": "code",
   "execution_count": 6,
   "metadata": {},
   "outputs": [
    {
     "data": {
      "text/plain": [
       "('id', 'Indonesian')"
      ]
     },
     "execution_count": 6,
     "metadata": {},
     "output_type": "execute_result"
    }
   ],
   "source": [
    "text.language.code, text.language.name"
   ]
  },
  {
   "cell_type": "code",
   "execution_count": null,
   "metadata": {},
   "outputs": [],
   "source": []
  },
  {
   "cell_type": "code",
   "execution_count": 7,
   "metadata": {},
   "outputs": [
    {
     "name": "stdout",
     "output_type": "stream",
     "text": [
      "Word            POS Tag\n",
      "------------------------------\n",
      "Saya            PRON\n",
      "lahir           VERB\n",
      "beberapa        DET\n",
      "tahun           NOUN\n",
      "lalu            ADJ\n",
      "Ibu             PROPN\n",
      "budi            NOUN\n",
      "memasak         VERB\n",
      "Ayam            NOUN\n",
      "Soeharto        PROPN\n",
      "di              ADP\n",
      "Monas           PROPN\n",
      "dan             CONJ\n",
      "KFC             PROPN\n"
     ]
    }
   ],
   "source": [
    "## Pos tagging\n",
    "# text = Text(u\"O primeiro uso de desobediência civil em massa ocorreu em setembro de 1906.\")\n",
    "text = Text(u\"Saya lahir beberapa tahun lalu Ibu budi memasak Ayam Soeharto di Monas dan KFC\")\n",
    "\n",
    "\n",
    "print(\"{:<16}{}\".format(\"Word\", \"POS Tag\")+\"\\n\"+\"-\"*30)\n",
    "for word, tag in text.pos_tags:\n",
    "    print(u\"{:<16}{:>2}\".format(word, tag))\n"
   ]
  },
  {
   "cell_type": "code",
   "execution_count": 8,
   "metadata": {},
   "outputs": [
    {
     "data": {
      "text/plain": [
       "[I-PER(['Soeharto']), I-LOC(['Monas'])]"
      ]
     },
     "execution_count": 8,
     "metadata": {},
     "output_type": "execute_result"
    }
   ],
   "source": [
    "# NER\n",
    "text.entities"
   ]
  },
  {
   "cell_type": "code",
   "execution_count": null,
   "metadata": {},
   "outputs": [],
   "source": []
  },
  {
   "cell_type": "code",
   "execution_count": 9,
   "metadata": {},
   "outputs": [
    {
     "name": "stderr",
     "output_type": "stream",
     "text": [
      "Detector is not able to detect the language reliably.\n"
     ]
    },
    {
     "name": "stdout",
     "output_type": "stream",
     "text": [
      "['meng', 'gambar', 'kan']\n",
      "['me', 'warna', 'i']\n",
      "['menya', 'pu']\n",
      "['ambil', 'kan']\n",
      "['beli', 'kan']\n"
     ]
    }
   ],
   "source": [
    "for te in [\"menggambarkan\",\"mewarnai\",\"menyapu\",\"ambilkan\",\"belikan\"]:\n",
    "    word = Text(te).words[0]\n",
    "    print(word.morphemes)"
   ]
  },
  {
   "cell_type": "code",
   "execution_count": null,
   "metadata": {},
   "outputs": [],
   "source": []
  },
  {
   "cell_type": "code",
   "execution_count": 10,
   "metadata": {},
   "outputs": [],
   "source": [
    "word = Word(\"nasi\", language=\"id\",)\n",
    "# lontong, sate, soto, mie"
   ]
  },
  {
   "cell_type": "code",
   "execution_count": 12,
   "metadata": {},
   "outputs": [
    {
     "name": "stderr",
     "output_type": "stream",
     "text": [
      "/Users/alamhanz/anaconda/envs/py36/lib/python3.6/site-packages/numpy/linalg/linalg.py:2390: RuntimeWarning: invalid value encountered in sqrt\n",
      "  return sqrt(add.reduce(s, axis=axis, keepdims=keepdims))\n"
     ]
    },
    {
     "data": {
      "text/plain": [
       "['sup',\n",
       " 'saus',\n",
       " 'goreng',\n",
       " 'bumbu',\n",
       " 'kuah',\n",
       " 'roti',\n",
       " 'sambal',\n",
       " 'lauk',\n",
       " 'hidangan',\n",
       " 'sate']"
      ]
     },
     "execution_count": 12,
     "metadata": {},
     "output_type": "execute_result"
    }
   ],
   "source": [
    "word.neighbors"
   ]
  },
  {
   "cell_type": "code",
   "execution_count": 13,
   "metadata": {},
   "outputs": [],
   "source": [
    "# https://polyglot.readthedocs.io/en/latest/Embeddings.html\n",
    "from polyglot.mapping import Embedding\n",
    "from polyglot.mapping import CaseExpander, DigitExpander\n",
    "from gensim.models import Word2Vec\n",
    "from gensim.models.wrappers import FastText\n",
    "from gensim.models import KeyedVectors\n"
   ]
  },
  {
   "cell_type": "code",
   "execution_count": 14,
   "metadata": {},
   "outputs": [],
   "source": [
    "embd0=Embedding.load(\"/Users/alamhanz/polyglot_data/embeddings2/id/embeddings_pkl.tar.bz2\")\n",
    "# embd1=Embedding.load(w2v_path+\"idwiki-latest-pages-articles.xml.bz2\")\n",
    "# embd=Embedding.load(w2v_path+\"id/id.bin\",)\n",
    "embd2=Word2Vec.load(w2v_path+\"id/id.bin\")\n",
    "embd_f= KeyedVectors.load_word2vec_format(w2v_path+\"id_f/id.vec\")\n",
    "# embd_f.load_binary_data(w2v_path+\"id_f/id.bin\")\n"
   ]
  },
  {
   "cell_type": "code",
   "execution_count": 15,
   "metadata": {},
   "outputs": [
    {
     "name": "stderr",
     "output_type": "stream",
     "text": [
      "/Users/alamhanz/anaconda/envs/py36/lib/python3.6/site-packages/ipykernel/__main__.py:1: DeprecationWarning: Call to deprecated `wv` (Attribute will be removed in 4.0.0, use self instead).\n",
      "  if __name__ == '__main__':\n",
      "/Users/alamhanz/anaconda/envs/py36/lib/python3.6/site-packages/gensim/matutils.py:737: FutureWarning: Conversion of the second argument of issubdtype from `int` to `np.signedinteger` is deprecated. In future, it will be treated as `np.int64 == np.dtype(int).type`.\n",
      "  if np.issubdtype(vec.dtype, np.int):\n"
     ]
    },
    {
     "data": {
      "text/plain": [
       "[('printed', 0.6384546756744385),\n",
       " ('printing', 0.6215873956680298),\n",
       " ('scanner', 0.6171170473098755),\n",
       " ('print', 0.595815896987915),\n",
       " ('pemindai', 0.5931501984596252),\n",
       " ('postscript', 0.5672675371170044),\n",
       " ('komputer', 0.564993679523468),\n",
       " ('laptop', 0.5594507455825806),\n",
       " ('desktop', 0.5570290088653564),\n",
       " ('proyektor', 0.555558443069458),\n",
       " ('device', 0.539400577545166),\n",
       " ('server', 0.536881685256958),\n",
       " ('workstation', 0.5296144485473633),\n",
       " ('konektor', 0.5256128907203674),\n",
       " ('pencetakan', 0.5204428434371948)]"
      ]
     },
     "execution_count": 15,
     "metadata": {},
     "output_type": "execute_result"
    }
   ],
   "source": [
    "embd_f.wv.most_similar(positive=\"printer\",topn=15)"
   ]
  },
  {
   "cell_type": "code",
   "execution_count": 121,
   "metadata": {},
   "outputs": [
    {
     "name": "stderr",
     "output_type": "stream",
     "text": [
      "/Users/alamhanz/anaconda/envs/py36/lib/python3.6/site-packages/gensim/matutils.py:737: FutureWarning: Conversion of the second argument of issubdtype from `int` to `np.signedinteger` is deprecated. In future, it will be treated as `np.int64 == np.dtype(int).type`.\n",
      "  if np.issubdtype(vec.dtype, np.int):\n"
     ]
    },
    {
     "data": {
      "text/plain": [
       "[('bulir', 0.5916192531585693),\n",
       " ('buah-buah', 0.575148344039917),\n",
       " ('apel', 0.5720770359039307),\n",
       " ('biji', 0.5710320472717285),\n",
       " ('mangga', 0.5555548667907715),\n",
       " ('polong', 0.5521262884140015),\n",
       " ('ceri', 0.5376574993133545),\n",
       " ('helai', 0.5246707797050476),\n",
       " ('bijinya', 0.517110288143158),\n",
       " ('tangkai', 0.5115572810173035)]"
      ]
     },
     "execution_count": 121,
     "metadata": {},
     "output_type": "execute_result"
    }
   ],
   "source": [
    "embd2.wv.most_similar(positive=\"buah\",topn=10)"
   ]
  },
  {
   "cell_type": "code",
   "execution_count": 123,
   "metadata": {},
   "outputs": [
    {
     "name": "stderr",
     "output_type": "stream",
     "text": [
      "/Users/alamhanz/anaconda/envs/py36/lib/python3.6/site-packages/numpy/linalg/linalg.py:2390: RuntimeWarning: invalid value encountered in sqrt\n",
      "  return sqrt(add.reduce(s, axis=axis, keepdims=keepdims))\n"
     ]
    },
    {
     "data": {
      "text/plain": [
       "['jenis',\n",
       " 'potongan',\n",
       " 'daun',\n",
       " 'koleksi',\n",
       " 'ekor',\n",
       " 'warna',\n",
       " 'dinding',\n",
       " 'relief',\n",
       " 'karakter',\n",
       " 'kulit']"
      ]
     },
     "execution_count": 123,
     "metadata": {},
     "output_type": "execute_result"
    }
   ],
   "source": [
    "embd.nearest_neighbors(\"buah\")"
   ]
  },
  {
   "cell_type": "code",
   "execution_count": null,
   "metadata": {},
   "outputs": [],
   "source": []
  },
  {
   "cell_type": "code",
   "execution_count": null,
   "metadata": {},
   "outputs": [],
   "source": []
  },
  {
   "cell_type": "markdown",
   "metadata": {},
   "source": [
    "# Get The Data and create our word embedding"
   ]
  },
  {
   "cell_type": "code",
   "execution_count": 92,
   "metadata": {},
   "outputs": [],
   "source": [
    "# http://kavita-ganesan.com/gensim-word2vec-tutorial-starter-code/#.W7MeoBMzY3E\n",
    "# https://machinelearningmastery.com/develop-word-embeddings-python-gensim/\n",
    "# https://github.com/RaRe-Technologies/gensim/issues/814"
   ]
  },
  {
   "cell_type": "code",
   "execution_count": 124,
   "metadata": {},
   "outputs": [],
   "source": [
    "def remove_one(X):\n",
    "    X2=[]\n",
    "    for c in X:\n",
    "        if len(c)>=2:\n",
    "            X2.append(c)\n",
    "    return X2"
   ]
  },
  {
   "cell_type": "code",
   "execution_count": 93,
   "metadata": {},
   "outputs": [],
   "source": [
    "from gensim.models import Word2Vec\n",
    "# define training data"
   ]
  },
  {
   "cell_type": "code",
   "execution_count": 94,
   "metadata": {},
   "outputs": [],
   "source": [
    "# dtext=pd.read_csv(data_raw_path+\"data_text_goshop_2.csv\")\n",
    "# dtag=pd.read_csv(data_raw_path+\"data_tag_goshop.csv\")\n",
    "\n",
    "dtext1=pd.read_csv(data_raw_path+\"data_text_goshop_2.csv\")\n",
    "dtext2=pd.read_csv(data_raw_path+\"data_raw_path_w_label.csv\").dropna()\n",
    "dtext2[\"real_tags\"]=dtext2.real_tags.apply(lambda x : set(ast.literal_eval(x)))\n",
    "dtag=pd.read_csv(data_raw_path+\"data_tag_goshop.csv\")"
   ]
  },
  {
   "cell_type": "code",
   "execution_count": 110,
   "metadata": {},
   "outputs": [
    {
     "data": {
      "text/html": [
       "<div>\n",
       "<style scoped>\n",
       "    .dataframe tbody tr th:only-of-type {\n",
       "        vertical-align: middle;\n",
       "    }\n",
       "\n",
       "    .dataframe tbody tr th {\n",
       "        vertical-align: top;\n",
       "    }\n",
       "\n",
       "    .dataframe thead th {\n",
       "        text-align: right;\n",
       "    }\n",
       "</style>\n",
       "<table border=\"1\" class=\"dataframe\">\n",
       "  <thead>\n",
       "    <tr style=\"text-align: right;\">\n",
       "      <th></th>\n",
       "      <th>order_no</th>\n",
       "      <th>item_list_cln2</th>\n",
       "      <th>real_tags</th>\n",
       "      <th>num_tags</th>\n",
       "      <th>num_text</th>\n",
       "    </tr>\n",
       "  </thead>\n",
       "  <tbody>\n",
       "    <tr>\n",
       "      <th>714526</th>\n",
       "      <td>248518512</td>\n",
       "      <td>mie bangka komplit satu gapake toge</td>\n",
       "      <td>{toge, mie}</td>\n",
       "      <td>2</td>\n",
       "      <td>6</td>\n",
       "    </tr>\n",
       "    <tr>\n",
       "      <th>135155</th>\n",
       "      <td>259046237</td>\n",
       "      <td>pizza</td>\n",
       "      <td>{pizza}</td>\n",
       "      <td>1</td>\n",
       "      <td>1</td>\n",
       "    </tr>\n",
       "    <tr>\n",
       "      <th>950635</th>\n",
       "      <td>283917513</td>\n",
       "      <td>kue medan napoleon rasa cheese</td>\n",
       "      <td>{kue}</td>\n",
       "      <td>1</td>\n",
       "      <td>5</td>\n",
       "    </tr>\n",
       "    <tr>\n",
       "      <th>873501</th>\n",
       "      <td>346976743</td>\n",
       "      <td>nasi ulam x nasi kuning x</td>\n",
       "      <td>{nasi kuning, nasi}</td>\n",
       "      <td>2</td>\n",
       "      <td>6</td>\n",
       "    </tr>\n",
       "    <tr>\n",
       "      <th>927842</th>\n",
       "      <td>360214856</td>\n",
       "      <td>sop buah</td>\n",
       "      <td>{}</td>\n",
       "      <td>0</td>\n",
       "      <td>2</td>\n",
       "    </tr>\n",
       "    <tr>\n",
       "      <th>256435</th>\n",
       "      <td>417159019</td>\n",
       "      <td>obat jerawat buah krim pemutih i buah</td>\n",
       "      <td>{krim pemutih, obat jerawat, pemutih, obat, acne}</td>\n",
       "      <td>5</td>\n",
       "      <td>7</td>\n",
       "    </tr>\n",
       "    <tr>\n",
       "      <th>360450</th>\n",
       "      <td>437198170</td>\n",
       "      <td>cal stripnexium strip</td>\n",
       "      <td>{}</td>\n",
       "      <td>0</td>\n",
       "      <td>3</td>\n",
       "    </tr>\n",
       "    <tr>\n",
       "      <th>972036</th>\n",
       "      <td>451994147</td>\n",
       "      <td>roti rasa kacang tanah roti keju</td>\n",
       "      <td>{roti, kacang}</td>\n",
       "      <td>2</td>\n",
       "      <td>6</td>\n",
       "    </tr>\n",
       "    <tr>\n",
       "      <th>475252</th>\n",
       "      <td>456534638</td>\n",
       "      <td>mylanta cair untuk sakit maag</td>\n",
       "      <td>{}</td>\n",
       "      <td>0</td>\n",
       "      <td>5</td>\n",
       "    </tr>\n",
       "    <tr>\n",
       "      <th>579718</th>\n",
       "      <td>468317272</td>\n",
       "      <td>tasel waran toska sam hitam</td>\n",
       "      <td>{}</td>\n",
       "      <td>0</td>\n",
       "      <td>5</td>\n",
       "    </tr>\n",
       "    <tr>\n",
       "      <th>225801</th>\n",
       "      <td>479267553</td>\n",
       "      <td>menu sop ikan sudah di infokan</td>\n",
       "      <td>{ikan}</td>\n",
       "      <td>1</td>\n",
       "      <td>6</td>\n",
       "    </tr>\n",
       "    <tr>\n",
       "      <th>983110</th>\n",
       "      <td>482317396</td>\n",
       "      <td>rit sliting</td>\n",
       "      <td>{}</td>\n",
       "      <td>0</td>\n",
       "      <td>2</td>\n",
       "    </tr>\n",
       "    <tr>\n",
       "      <th>1123341</th>\n",
       "      <td>483183450</td>\n",
       "      <td>bubble tiup anak anak beli</td>\n",
       "      <td>{}</td>\n",
       "      <td>0</td>\n",
       "      <td>5</td>\n",
       "    </tr>\n",
       "    <tr>\n",
       "      <th>978163</th>\n",
       "      <td>484229676</td>\n",
       "      <td>rendang jengkol</td>\n",
       "      <td>{rendang}</td>\n",
       "      <td>1</td>\n",
       "      <td>2</td>\n",
       "    </tr>\n",
       "    <tr>\n",
       "      <th>67251</th>\n",
       "      <td>484611195</td>\n",
       "      <td>sate kambing serdadu kumis porsi</td>\n",
       "      <td>{sate kambing, kambing, sate}</td>\n",
       "      <td>3</td>\n",
       "      <td>5</td>\n",
       "    </tr>\n",
       "  </tbody>\n",
       "</table>\n",
       "</div>"
      ],
      "text/plain": [
       "          order_no                         item_list_cln2  \\\n",
       "714526   248518512    mie bangka komplit satu gapake toge   \n",
       "135155   259046237                                  pizza   \n",
       "950635   283917513         kue medan napoleon rasa cheese   \n",
       "873501   346976743              nasi ulam x nasi kuning x   \n",
       "927842   360214856                               sop buah   \n",
       "256435   417159019  obat jerawat buah krim pemutih i buah   \n",
       "360450   437198170                  cal stripnexium strip   \n",
       "972036   451994147       roti rasa kacang tanah roti keju   \n",
       "475252   456534638          mylanta cair untuk sakit maag   \n",
       "579718   468317272            tasel waran toska sam hitam   \n",
       "225801   479267553         menu sop ikan sudah di infokan   \n",
       "983110   482317396                            rit sliting   \n",
       "1123341  483183450             bubble tiup anak anak beli   \n",
       "978163   484229676                        rendang jengkol   \n",
       "67251    484611195       sate kambing serdadu kumis porsi   \n",
       "\n",
       "                                                 real_tags  num_tags  num_text  \n",
       "714526                                         {toge, mie}         2         6  \n",
       "135155                                             {pizza}         1         1  \n",
       "950635                                               {kue}         1         5  \n",
       "873501                                 {nasi kuning, nasi}         2         6  \n",
       "927842                                                  {}         0         2  \n",
       "256435   {krim pemutih, obat jerawat, pemutih, obat, acne}         5         7  \n",
       "360450                                                  {}         0         3  \n",
       "972036                                      {roti, kacang}         2         6  \n",
       "475252                                                  {}         0         5  \n",
       "579718                                                  {}         0         5  \n",
       "225801                                              {ikan}         1         6  \n",
       "983110                                                  {}         0         2  \n",
       "1123341                                                 {}         0         5  \n",
       "978163                                           {rendang}         1         2  \n",
       "67251                        {sate kambing, kambing, sate}         3         5  "
      ]
     },
     "execution_count": 110,
     "metadata": {},
     "output_type": "execute_result"
    }
   ],
   "source": [
    "dtext2.sample(15,random_state=100).sort_values(\"order_no\")"
   ]
  },
  {
   "cell_type": "code",
   "execution_count": 112,
   "metadata": {},
   "outputs": [
    {
     "data": {
      "text/html": [
       "<div>\n",
       "<style scoped>\n",
       "    .dataframe tbody tr th:only-of-type {\n",
       "        vertical-align: middle;\n",
       "    }\n",
       "\n",
       "    .dataframe tbody tr th {\n",
       "        vertical-align: top;\n",
       "    }\n",
       "\n",
       "    .dataframe thead th {\n",
       "        text-align: right;\n",
       "    }\n",
       "</style>\n",
       "<table border=\"1\" class=\"dataframe\">\n",
       "  <thead>\n",
       "    <tr style=\"text-align: right;\">\n",
       "      <th></th>\n",
       "      <th>booking_time</th>\n",
       "      <th>order_no</th>\n",
       "      <th>voucher_id</th>\n",
       "      <th>item_list</th>\n",
       "      <th>payment_method_name</th>\n",
       "    </tr>\n",
       "  </thead>\n",
       "  <tbody>\n",
       "    <tr>\n",
       "      <th>714526</th>\n",
       "      <td>2016-11-11 23:21:19</td>\n",
       "      <td>248518512</td>\n",
       "      <td>NaN</td>\n",
       "      <td>2 mie bangka komplit satu gapake toge</td>\n",
       "      <td>CASH</td>\n",
       "    </tr>\n",
       "    <tr>\n",
       "      <th>135155</th>\n",
       "      <td>2016-11-27 03:03:18</td>\n",
       "      <td>259046237</td>\n",
       "      <td>NaN</td>\n",
       "      <td>Pizza</td>\n",
       "      <td>GO-PAY</td>\n",
       "    </tr>\n",
       "    <tr>\n",
       "      <th>950635</th>\n",
       "      <td>2017-02-05 08:12:45</td>\n",
       "      <td>283917513</td>\n",
       "      <td>NaN</td>\n",
       "      <td>Kue medan napoleon rasa cheese</td>\n",
       "      <td>CASH</td>\n",
       "    </tr>\n",
       "    <tr>\n",
       "      <th>873501</th>\n",
       "      <td>2017-08-02 23:50:42</td>\n",
       "      <td>346976743</td>\n",
       "      <td>NaN</td>\n",
       "      <td>nasi ulam x4, nasi kuning x4</td>\n",
       "      <td>CASH</td>\n",
       "    </tr>\n",
       "    <tr>\n",
       "      <th>927842</th>\n",
       "      <td>2017-09-07 05:20:33</td>\n",
       "      <td>360214856</td>\n",
       "      <td>NaN</td>\n",
       "      <td>sop buah</td>\n",
       "      <td>CASH</td>\n",
       "    </tr>\n",
       "    <tr>\n",
       "      <th>256435</th>\n",
       "      <td>2017-12-29 01:40:27</td>\n",
       "      <td>417159019</td>\n",
       "      <td>NaN</td>\n",
       "      <td>Obat Jerawat (1buah) dan Krim Pemutih I (1buah)</td>\n",
       "      <td>CASH</td>\n",
       "    </tr>\n",
       "    <tr>\n",
       "      <th>360450</th>\n",
       "      <td>2018-02-05 13:46:28</td>\n",
       "      <td>437198170</td>\n",
       "      <td>NaN</td>\n",
       "      <td>Cal 95, 2 stripNexium 1 strip</td>\n",
       "      <td>CASH</td>\n",
       "    </tr>\n",
       "    <tr>\n",
       "      <th>972036</th>\n",
       "      <td>2018-03-06 02:42:37</td>\n",
       "      <td>451994147</td>\n",
       "      <td>NaN</td>\n",
       "      <td>roti rasa kacang tanah 2 dan roti keju 2</td>\n",
       "      <td>PARTIAL_PAYMENT</td>\n",
       "    </tr>\n",
       "    <tr>\n",
       "      <th>475252</th>\n",
       "      <td>2018-03-13 23:13:37</td>\n",
       "      <td>456534638</td>\n",
       "      <td>NaN</td>\n",
       "      <td>mylanta cair (untuk sakit maag)</td>\n",
       "      <td>CASH</td>\n",
       "    </tr>\n",
       "    <tr>\n",
       "      <th>579718</th>\n",
       "      <td>2018-04-06 06:35:10</td>\n",
       "      <td>468317272</td>\n",
       "      <td>NaN</td>\n",
       "      <td>tasel waran toska sam hitam</td>\n",
       "      <td>CASH</td>\n",
       "    </tr>\n",
       "    <tr>\n",
       "      <th>225801</th>\n",
       "      <td>2018-06-21 05:05:33</td>\n",
       "      <td>479267553</td>\n",
       "      <td>NaN</td>\n",
       "      <td>menu sop ikan (sudah di infokan)</td>\n",
       "      <td>GO-PAY</td>\n",
       "    </tr>\n",
       "    <tr>\n",
       "      <th>983110</th>\n",
       "      <td>2018-08-09 06:54:09</td>\n",
       "      <td>482317396</td>\n",
       "      <td>NaN</td>\n",
       "      <td>rit sliting</td>\n",
       "      <td>PARTIAL_PAYMENT</td>\n",
       "    </tr>\n",
       "    <tr>\n",
       "      <th>1123341</th>\n",
       "      <td>2018-08-22 08:09:14</td>\n",
       "      <td>483183450</td>\n",
       "      <td>NaN</td>\n",
       "      <td>bubble tiup anak-anak, beli 2</td>\n",
       "      <td>CASH</td>\n",
       "    </tr>\n",
       "    <tr>\n",
       "      <th>978163</th>\n",
       "      <td>2018-09-07 04:41:39</td>\n",
       "      <td>484229676</td>\n",
       "      <td>NaN</td>\n",
       "      <td>rendang jengkol</td>\n",
       "      <td>CASH</td>\n",
       "    </tr>\n",
       "    <tr>\n",
       "      <th>67251</th>\n",
       "      <td>2018-09-13 05:42:53</td>\n",
       "      <td>484611195</td>\n",
       "      <td>NaN</td>\n",
       "      <td>Sate kambing serdadu kumis 5 porsi</td>\n",
       "      <td>CASH</td>\n",
       "    </tr>\n",
       "  </tbody>\n",
       "</table>\n",
       "</div>"
      ],
      "text/plain": [
       "                booking_time   order_no  voucher_id  \\\n",
       "714526   2016-11-11 23:21:19  248518512         NaN   \n",
       "135155   2016-11-27 03:03:18  259046237         NaN   \n",
       "950635   2017-02-05 08:12:45  283917513         NaN   \n",
       "873501   2017-08-02 23:50:42  346976743         NaN   \n",
       "927842   2017-09-07 05:20:33  360214856         NaN   \n",
       "256435   2017-12-29 01:40:27  417159019         NaN   \n",
       "360450   2018-02-05 13:46:28  437198170         NaN   \n",
       "972036   2018-03-06 02:42:37  451994147         NaN   \n",
       "475252   2018-03-13 23:13:37  456534638         NaN   \n",
       "579718   2018-04-06 06:35:10  468317272         NaN   \n",
       "225801   2018-06-21 05:05:33  479267553         NaN   \n",
       "983110   2018-08-09 06:54:09  482317396         NaN   \n",
       "1123341  2018-08-22 08:09:14  483183450         NaN   \n",
       "978163   2018-09-07 04:41:39  484229676         NaN   \n",
       "67251    2018-09-13 05:42:53  484611195         NaN   \n",
       "\n",
       "                                               item_list payment_method_name  \n",
       "714526             2 mie bangka komplit satu gapake toge                CASH  \n",
       "135155                                             Pizza              GO-PAY  \n",
       "950635                    Kue medan napoleon rasa cheese                CASH  \n",
       "873501                      nasi ulam x4, nasi kuning x4                CASH  \n",
       "927842                                          sop buah                CASH  \n",
       "256435   Obat Jerawat (1buah) dan Krim Pemutih I (1buah)                CASH  \n",
       "360450                     Cal 95, 2 stripNexium 1 strip                CASH  \n",
       "972036          roti rasa kacang tanah 2 dan roti keju 2     PARTIAL_PAYMENT  \n",
       "475252                   mylanta cair (untuk sakit maag)                CASH  \n",
       "579718                       tasel waran toska sam hitam                CASH  \n",
       "225801                  menu sop ikan (sudah di infokan)              GO-PAY  \n",
       "983110                                       rit sliting     PARTIAL_PAYMENT  \n",
       "1123341                    bubble tiup anak-anak, beli 2                CASH  \n",
       "978163                                   rendang jengkol                CASH  \n",
       "67251                 Sate kambing serdadu kumis 5 porsi                CASH  "
      ]
     },
     "execution_count": 112,
     "metadata": {},
     "output_type": "execute_result"
    }
   ],
   "source": [
    "dtext1[dtext1.order_no.isin(dtext2.sample(15,random_state=100).order_no)].sort_values(\"order_no\")"
   ]
  },
  {
   "cell_type": "code",
   "execution_count": 113,
   "metadata": {},
   "outputs": [
    {
     "data": {
      "text/plain": [
       "1199644"
      ]
     },
     "execution_count": 113,
     "metadata": {},
     "output_type": "execute_result"
    }
   ],
   "source": [
    "len(dtext2.item_list_cln2)"
   ]
  },
  {
   "cell_type": "code",
   "execution_count": 135,
   "metadata": {},
   "outputs": [],
   "source": [
    "sentence=[]\n",
    "# for il in dtext2.sample(15,random_state=100).item_list_cln2.tolist()[:10]:\n",
    "for il in dtext2.item_list_cln2.tolist():\n",
    "    il2=il.split(\" \")\n",
    "#     sentence.append(il2)\n",
    "    sentence.append(remove_one(il2))    "
   ]
  },
  {
   "cell_type": "code",
   "execution_count": 147,
   "metadata": {},
   "outputs": [
    {
     "data": {
      "text/plain": [
       "1199644"
      ]
     },
     "execution_count": 147,
     "metadata": {},
     "output_type": "execute_result"
    }
   ],
   "source": [
    "len(sentence)"
   ]
  },
  {
   "cell_type": "code",
   "execution_count": 148,
   "metadata": {},
   "outputs": [],
   "source": [
    "model_emb = Word2Vec(sentence,size=80,\n",
    "        window=6,min_count=30,workers=5)"
   ]
  },
  {
   "cell_type": "code",
   "execution_count": 149,
   "metadata": {},
   "outputs": [
    {
     "data": {
      "text/plain": [
       "(60583568, 75019560)"
      ]
     },
     "execution_count": 149,
     "metadata": {},
     "output_type": "execute_result"
    }
   ],
   "source": [
    "model_emb.train(sentence, total_examples=len(sentence), epochs=10)"
   ]
  },
  {
   "cell_type": "code",
   "execution_count": 202,
   "metadata": {},
   "outputs": [
    {
     "name": "stderr",
     "output_type": "stream",
     "text": [
      "/Users/alamhanz/anaconda/envs/py36/lib/python3.6/site-packages/gensim/matutils.py:737: FutureWarning: Conversion of the second argument of issubdtype from `int` to `np.signedinteger` is deprecated. In future, it will be treated as `np.int64 == np.dtype(int).type`.\n",
      "  if np.issubdtype(vec.dtype, np.int):\n"
     ]
    },
    {
     "data": {
      "text/plain": [
       "[('buahsusu', 0.6979660987854004),\n",
       " ('bungkussusu', 0.6309378147125244),\n",
       " ('pcssusu', 0.6245038509368896),\n",
       " ('vanila', 0.6141861081123352),\n",
       " ('coklat', 0.5720795392990112),\n",
       " ('cokelat', 0.557187557220459),\n",
       " ('vanilla', 0.5562208890914917),\n",
       " ('stroberi', 0.5549497604370117),\n",
       " ('fullcream', 0.5339739322662354),\n",
       " ('kgsusu', 0.5332074165344238),\n",
       " ('grsusu', 0.5322357416152954),\n",
       " ('rasa', 0.5305217504501343),\n",
       " ('strawbery', 0.5304673910140991),\n",
       " ('plain', 0.5208612680435181),\n",
       " ('fortigro', 0.5077904462814331),\n",
       " ('lowfat', 0.504540741443634),\n",
       " ('astor', 0.4982825815677643),\n",
       " ('strawberry', 0.4969242811203003),\n",
       " ('kotaksusu', 0.4945349097251892),\n",
       " ('skm', 0.4919523000717163)]"
      ]
     },
     "execution_count": 202,
     "metadata": {},
     "output_type": "execute_result"
    }
   ],
   "source": [
    "model_emb.wv.most_similar(positive=\"susu\",topn=20)"
   ]
  },
  {
   "cell_type": "code",
   "execution_count": 196,
   "metadata": {},
   "outputs": [
    {
     "name": "stderr",
     "output_type": "stream",
     "text": [
      "/Users/alamhanz/anaconda/envs/py36/lib/python3.6/site-packages/ipykernel/__main__.py:1: DeprecationWarning: Call to deprecated `wv` (Attribute will be removed in 4.0.0, use self instead).\n",
      "  if __name__ == '__main__':\n",
      "/Users/alamhanz/anaconda/envs/py36/lib/python3.6/site-packages/gensim/matutils.py:737: FutureWarning: Conversion of the second argument of issubdtype from `int` to `np.signedinteger` is deprecated. In future, it will be treated as `np.int64 == np.dtype(int).type`.\n",
      "  if np.issubdtype(vec.dtype, np.int):\n"
     ]
    },
    {
     "data": {
      "text/plain": [
       "[('numar', 0.6330020427703857),\n",
       " ('numct', 0.6221692562103271),\n",
       " ('italian', 0.6202102303504944),\n",
       " ('german', 0.608043909072876),\n",
       " ('vietnamese', 0.5989323854446411),\n",
       " ('numdep', 0.5952830910682678),\n",
       " ('numreg', 0.589381754398346),\n",
       " ('spanish', 0.5845186710357666),\n",
       " ('danish', 0.5767771601676941),\n",
       " ('chercher', 0.5730003118515015),\n",
       " ('insee', 0.5698051452636719),\n",
       " ('tnccnom', 0.5644235610961914),\n",
       " ('and', 0.5535695552825928),\n",
       " ('russian', 0.5498571991920471),\n",
       " ('portuguese', 0.546777606010437),\n",
       " ('hungarian', 0.5460720062255859),\n",
       " ('belgian', 0.5427613258361816),\n",
       " ('japanese', 0.5391103029251099),\n",
       " ('romanian', 0.5364443063735962),\n",
       " ('cultures', 0.5354399085044861)]"
      ]
     },
     "execution_count": 196,
     "metadata": {},
     "output_type": "execute_result"
    }
   ],
   "source": [
    "embd_f.wv.most_similar(positive=\"french\",topn=20)"
   ]
  },
  {
   "cell_type": "code",
   "execution_count": 201,
   "metadata": {},
   "outputs": [
    {
     "name": "stderr",
     "output_type": "stream",
     "text": [
      "/Users/alamhanz/anaconda/envs/py36/lib/python3.6/site-packages/gensim/matutils.py:737: FutureWarning: Conversion of the second argument of issubdtype from `int` to `np.signedinteger` is deprecated. In future, it will be treated as `np.int64 == np.dtype(int).type`.\n",
      "  if np.issubdtype(vec.dtype, np.int):\n"
     ]
    },
    {
     "data": {
      "text/plain": [
       "0.85250556"
      ]
     },
     "execution_count": 201,
     "metadata": {},
     "output_type": "execute_result"
    }
   ],
   "source": [
    "model_emb.wv.similarity(w1=\"lenovo\",w2=\"handphone\")"
   ]
  },
  {
   "cell_type": "code",
   "execution_count": 198,
   "metadata": {},
   "outputs": [],
   "source": [
    "model_emb.save(w2v_path+'our_vocab.bin')"
   ]
  },
  {
   "cell_type": "code",
   "execution_count": null,
   "metadata": {},
   "outputs": [],
   "source": []
  }
 ],
 "metadata": {
  "kernelspec": {
   "display_name": "py36",
   "language": "python",
   "name": "myenv"
  },
  "language_info": {
   "codemirror_mode": {
    "name": "ipython",
    "version": 3
   },
   "file_extension": ".py",
   "mimetype": "text/x-python",
   "name": "python",
   "nbconvert_exporter": "python",
   "pygments_lexer": "ipython3",
   "version": "3.6.5"
  }
 },
 "nbformat": 4,
 "nbformat_minor": 2
}
