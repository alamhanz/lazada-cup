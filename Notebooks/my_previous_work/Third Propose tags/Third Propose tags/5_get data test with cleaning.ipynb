{
 "cells": [
  {
   "cell_type": "code",
   "execution_count": 3,
   "metadata": {},
   "outputs": [],
   "source": [
    "import pandas as pd\n",
    "import re\n",
    "from string import digits"
   ]
  },
  {
   "cell_type": "markdown",
   "metadata": {},
   "source": [
    "# Get The Data Test"
   ]
  },
  {
   "cell_type": "code",
   "execution_count": 4,
   "metadata": {},
   "outputs": [],
   "source": [
    "data_path='../../data/'\n",
    "data_raw_path=\"../../data/raw/for third propose/\"\n",
    "data_man_path=\"../../data/manipulate/for third propose/\"\n",
    "model_path=\"../../model/modeling_third_propose/\""
   ]
  },
  {
   "cell_type": "code",
   "execution_count": 5,
   "metadata": {},
   "outputs": [],
   "source": [
    "# qq1='''select booking_time,order_no,voucher_id,\n",
    "#       item_list, payment_method_name\n",
    "#     from `access.sd_goshop_booking` \n",
    "#     where status_id=3 and _PARTITIONTIME >= \"2016-01-01\"\n",
    "#     and length(item_list)>=3'''\n",
    "qq2='''(select booking_time,order_no, payment_method_name, \"-\" merchant_name, \"shop\" type,\n",
    "    item_list\n",
    "    from `access.sd_goshop_booking` \n",
    "    where status_id=3 and _PARTITIONTIME >= \"2018-05-02\"\n",
    "    and _PARTITIONTIME <= \"2018-10-02\"\n",
    "    and length(item_list)>=3\n",
    "    order by rand()\n",
    "    limit 550000)\n",
    "    \n",
    "    union all\n",
    "\n",
    "    (select booking_time,order_no, payment_method_name, \"-\" merchant_name, \"mart\" type,\n",
    "          string_agg(REGEXP_REPLACE(lower(il.item_name),r\"[,.;@#?!&$]+\\ *\", \" \"),\",\") item_list\n",
    "        from `access.sd_gomart_booking`, unnest(item_list) il\n",
    "    where status_id=3 and _PARTITIONTIME >= \"2018-05-02\"\n",
    "        and _PARTITIONTIME <= \"2018-10-02\"\n",
    "    group by 1,2,3,4,5\n",
    "    order by rand()\n",
    "    limit 350000)\n",
    "\n",
    "    union all\n",
    "\n",
    "    (select booking_time,order_no, payment_method_name, merchant_name , \"food\" type,\n",
    "        string_agg(REGEXP_REPLACE(lower(il.item_name),r\"[,.;@#?!&$]+\\ *\", \" \"),\",\") item_list\n",
    "    from `access.sd_gofood_booking`, unnest(item_list) il\n",
    "    where status_id=3 and _PARTITIONTIME >= \"2018-05-02\"\n",
    "        and _PARTITIONTIME <= \"2018-10-02\"\n",
    "        and service_area_name in (\"JABODETABEK\",\"SURABAYA\",\"BANDUNG\",'YOGYAKARTA')\n",
    "\n",
    "    group by 1,2,3,4,5\n",
    "\n",
    "    having LENGTH(string_agg(lower(il.item_name))) - \n",
    "      LENGTH(REGEXP_REPLACE(string_agg(lower(il.item_name)),\" \",\"\"))<10\n",
    "    order by rand()\n",
    "    limit 150000)\n",
    "    '''\n",
    "\n",
    "dtesting=pd.read_gbq(qq2,project_id=\"bi-gojek\",dialect=\"standard\")\n",
    "# dtag=pd.read_gbq(qq3,project_id=\"bi-gojek\",dialect=\"standard\")"
   ]
  },
  {
   "cell_type": "code",
   "execution_count": 6,
   "metadata": {},
   "outputs": [],
   "source": [
    "dtesting.to_csv(data_raw_path+\"data_test_gocommerce_items.csv\",index=False)"
   ]
  },
  {
   "cell_type": "code",
   "execution_count": 7,
   "metadata": {},
   "outputs": [],
   "source": [
    "## Cleaning it\n",
    "dtesting[\"item_list_cln1\"]=dtesting.item_list.apply(lambda x: re.sub( '\\s+', ' ',re.sub(r\"[@#?!$-:]\\ *\", \" \",\n",
    "                                            x.replace(\":\",\"|\").replace(\"&\",\"|\").replace(\" dan \",\"|\").replace(\"+\",\"|\").replace(\n",
    "                                            \"-\",\"|\").replace(\"~\",\"|\").replace(\n",
    "                                            \",,,\",\"|\").replace(\"...\",\"|\").replace(\n",
    "                                            \",,\",\"|\").replace(\"..\",\"|\").replace(\n",
    "                                            \",\",\"|\").replace(\".\",\"|\").replace(\n",
    "                                            \";\",\"|\").replace(\"+\",\"|\")).translate(\n",
    "                                            digits).lower().replace(\"=\",\n",
    "                                            \" \").replace('\"',\" \").replace(\" dan \",\"|\").replace(\" and \",\"|\").replace(\n",
    "                                            \"\\_\",\" \").replace(\"/\",\" \").replace(\"|\",\",\")).strip())\n",
    "\n",
    "dtesting[\"item_list_cln2\"]=dtesting.item_list.apply(lambda x: re.sub( '\\s+', ' ',re.sub(r\"[@#?!$-:]\\ *\", \" \",\n",
    "                                            x.replace(\":\",\"|\").replace(\"&\",\"|\").replace(\" dan \",\"|\").replace(\"+\",\"|\").replace(\n",
    "                                            \"-\",\"|\").replace(\"~\",\"|\").replace(\n",
    "                                            \",,,\",\"|\").replace(\"...\",\"|\").replace(\n",
    "                                            \",,\",\"|\").replace(\"..\",\"|\").replace(\n",
    "                                            \",\",\"|\").replace(\".\",\"|\").replace(\n",
    "                                            \";\",\"|\").replace(\"+\",\"|\")).translate(\n",
    "                                            digits).lower().replace(\"=\",\n",
    "                                            \" \").replace('\"',\" \").replace(\" dan \",\"|\").replace(\" and \",\"|\").replace(\n",
    "                                            \"\\_\",\" \").replace(\"/\",\" \").replace(\"|\",\" \")).strip())"
   ]
  },
  {
   "cell_type": "code",
   "execution_count": 8,
   "metadata": {},
   "outputs": [],
   "source": [
    "dtesting.to_csv(data_man_path+\"data_test_gocommerce_items_cln.csv\",index=False)"
   ]
  },
  {
   "cell_type": "code",
   "execution_count": 9,
   "metadata": {},
   "outputs": [],
   "source": [
    "# dtesting"
   ]
  },
  {
   "cell_type": "code",
   "execution_count": null,
   "metadata": {},
   "outputs": [],
   "source": []
  }
 ],
 "metadata": {
  "anaconda-cloud": {},
  "kernelspec": {
   "display_name": "Python [conda env:py36]",
   "language": "python",
   "name": "conda-env-py36-py"
  },
  "language_info": {
   "codemirror_mode": {
    "name": "ipython",
    "version": 3
   },
   "file_extension": ".py",
   "mimetype": "text/x-python",
   "name": "python",
   "nbconvert_exporter": "python",
   "pygments_lexer": "ipython3",
   "version": "3.6.5"
  }
 },
 "nbformat": 4,
 "nbformat_minor": 2
}
