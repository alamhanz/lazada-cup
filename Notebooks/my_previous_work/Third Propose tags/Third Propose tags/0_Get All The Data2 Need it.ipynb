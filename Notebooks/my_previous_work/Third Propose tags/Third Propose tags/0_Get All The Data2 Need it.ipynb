{
 "cells": [
  {
   "cell_type": "code",
   "execution_count": 1,
   "metadata": {},
   "outputs": [],
   "source": [
    "data_path='../../data/'\n",
    "data_raw_path=\"../../data/raw/for third propose/\"\n",
    "data_man_path=\"../../data/manipulate/for third propose/\"\n",
    "model_path=\"../../model/modeling_third_propose/\""
   ]
  },
  {
   "cell_type": "code",
   "execution_count": 2,
   "metadata": {},
   "outputs": [],
   "source": [
    "import pandas as pd"
   ]
  },
  {
   "cell_type": "code",
   "execution_count": 3,
   "metadata": {},
   "outputs": [],
   "source": [
    "qq1='''(select booking_time,order_no, payment_method_name, \"-\" merchant_name, \"shop\" type,\n",
    "    item_list\n",
    "    from `access.sd_goshop_booking` \n",
    "    where status_id=3 and _PARTITIONTIME >= \"2016-05-01\"\n",
    "    and _PARTITIONTIME <= \"2018-05-01\"\n",
    "    and length(item_list)>=3\n",
    "    order by rand()\n",
    "    limit 1600000)\n",
    "    \n",
    "    union all\n",
    "\n",
    "    (select booking_time,order_no, payment_method_name, \"-\" merchant_name, \"mart\" type,\n",
    "          string_agg(REGEXP_REPLACE(lower(il.item_name),r\"[,.;@#?!&$]+\\ *\", \" \"),\",\") item_list\n",
    "        from `access.sd_gomart_booking`, unnest(item_list) il\n",
    "    where status_id=3 and _PARTITIONTIME >= \"2016-05-01\"\n",
    "        and _PARTITIONTIME <= \"2018-05-01\"\n",
    "    group by 1,2,3,4,5\n",
    "    order by rand()\n",
    "    limit 1200000)\n",
    "\n",
    "    union all\n",
    "\n",
    "    (select booking_time,order_no, payment_method_name, merchant_name , \"food\" type,\n",
    "        string_agg(REGEXP_REPLACE(lower(il.item_name),r\"[,.;@#?!&$]+\\ *\", \" \"),\",\") item_list\n",
    "    from `access.sd_gofood_booking`, unnest(item_list) il\n",
    "    where status_id=3 and _PARTITIONTIME >= \"2017-05-01\"\n",
    "        and _PARTITIONTIME <= \"2018-05-01\"\n",
    "        and service_area_name in (\"JABODETABEK\",\"SURABAYA\",\"BANDUNG\",'YOGYAKARTA')\n",
    "\n",
    "    group by 1,2,3,4,5\n",
    "\n",
    "    having LENGTH(string_agg(lower(il.item_name))) - \n",
    "      LENGTH(REGEXP_REPLACE(string_agg(lower(il.item_name)),\" \",\"\"))<10\n",
    "    order by rand()\n",
    "    limit 800000)\n",
    "    '''\n",
    "# qq2='''select *\n",
    "# from `playground.xx_go_shop_item_data2` \n",
    "# order by rand()\n",
    "# limit 1500000'''\n",
    "\n",
    "qq3='''select * from access_commerce.dx_gocommerce_sample'''\n",
    "\n",
    "dtext=pd.read_gbq(qq1,project_id=\"bi-gojek\",dialect=\"standard\")\n",
    "# dtag=pd.read_gbq(qq3,project_id=\"bi-gojek\",dialect=\"standard\")"
   ]
  },
  {
   "cell_type": "code",
   "execution_count": 4,
   "metadata": {},
   "outputs": [
    {
     "data": {
      "text/html": [
       "<div>\n",
       "<style scoped>\n",
       "    .dataframe tbody tr th:only-of-type {\n",
       "        vertical-align: middle;\n",
       "    }\n",
       "\n",
       "    .dataframe tbody tr th {\n",
       "        vertical-align: top;\n",
       "    }\n",
       "\n",
       "    .dataframe thead th {\n",
       "        text-align: right;\n",
       "    }\n",
       "</style>\n",
       "<table border=\"1\" class=\"dataframe\">\n",
       "  <thead>\n",
       "    <tr style=\"text-align: right;\">\n",
       "      <th></th>\n",
       "      <th>booking_time</th>\n",
       "      <th>order_no</th>\n",
       "      <th>payment_method_name</th>\n",
       "      <th>merchant_name</th>\n",
       "      <th>type</th>\n",
       "      <th>item_list</th>\n",
       "    </tr>\n",
       "  </thead>\n",
       "  <tbody>\n",
       "    <tr>\n",
       "      <th>0</th>\n",
       "      <td>2018-03-16 07:17:35</td>\n",
       "      <td>457815035</td>\n",
       "      <td>CASH</td>\n",
       "      <td>-</td>\n",
       "      <td>mart</td>\n",
       "      <td>fanta stroberi 390 ml</td>\n",
       "    </tr>\n",
       "    <tr>\n",
       "      <th>1</th>\n",
       "      <td>2016-10-17 15:16:40</td>\n",
       "      <td>231213726</td>\n",
       "      <td>GO-PAY</td>\n",
       "      <td>-</td>\n",
       "      <td>mart</td>\n",
       "      <td>aqua - 1500 ml air mineral</td>\n",
       "    </tr>\n",
       "    <tr>\n",
       "      <th>2</th>\n",
       "      <td>2017-12-22 13:24:26</td>\n",
       "      <td>413928537</td>\n",
       "      <td>PARTIAL_PAYMENT</td>\n",
       "      <td>-</td>\n",
       "      <td>mart</td>\n",
       "      <td>samyang buldak cheese hot chicken ramen 140 gr...</td>\n",
       "    </tr>\n",
       "    <tr>\n",
       "      <th>3</th>\n",
       "      <td>2018-02-03 14:23:40</td>\n",
       "      <td>436103314</td>\n",
       "      <td>GO-PAY</td>\n",
       "      <td>-</td>\n",
       "      <td>mart</td>\n",
       "      <td>heineken multipack pint 330 ml x 4 pcs</td>\n",
       "    </tr>\n",
       "    <tr>\n",
       "      <th>4</th>\n",
       "      <td>2018-03-27 15:43:51</td>\n",
       "      <td>464218735</td>\n",
       "      <td>PARTIAL_PAYMENT</td>\n",
       "      <td>-</td>\n",
       "      <td>mart</td>\n",
       "      <td>aqua - 1 5 l,yakult - 5 pcs,sari roti coklat 1...</td>\n",
       "    </tr>\n",
       "  </tbody>\n",
       "</table>\n",
       "</div>"
      ],
      "text/plain": [
       "         booking_time   order_no payment_method_name merchant_name  type  \\\n",
       "0 2018-03-16 07:17:35  457815035                CASH             -  mart   \n",
       "1 2016-10-17 15:16:40  231213726              GO-PAY             -  mart   \n",
       "2 2017-12-22 13:24:26  413928537     PARTIAL_PAYMENT             -  mart   \n",
       "3 2018-02-03 14:23:40  436103314              GO-PAY             -  mart   \n",
       "4 2018-03-27 15:43:51  464218735     PARTIAL_PAYMENT             -  mart   \n",
       "\n",
       "                                           item_list  \n",
       "0                              fanta stroberi 390 ml  \n",
       "1                         aqua - 1500 ml air mineral  \n",
       "2  samyang buldak cheese hot chicken ramen 140 gr...  \n",
       "3             heineken multipack pint 330 ml x 4 pcs  \n",
       "4  aqua - 1 5 l,yakult - 5 pcs,sari roti coklat 1...  "
      ]
     },
     "execution_count": 4,
     "metadata": {},
     "output_type": "execute_result"
    }
   ],
   "source": [
    "dtext.head()"
   ]
  },
  {
   "cell_type": "code",
   "execution_count": 5,
   "metadata": {},
   "outputs": [],
   "source": [
    "dtext.to_csv(data_raw_path+\"data_gocommerce_items_sample_1.csv\",index=False)"
   ]
  },
  {
   "cell_type": "code",
   "execution_count": 6,
   "metadata": {},
   "outputs": [],
   "source": [
    "dtag=pd.read_csv(data_man_path+\"data_tag_goshop3_unique.csv\")"
   ]
  },
  {
   "cell_type": "code",
   "execution_count": 7,
   "metadata": {},
   "outputs": [
    {
     "data": {
      "text/plain": [
       "0"
      ]
     },
     "execution_count": 7,
     "metadata": {},
     "output_type": "execute_result"
    }
   ],
   "source": [
    "len(dtag.Keywords.unique())-len(dtag)"
   ]
  },
  {
   "cell_type": "code",
   "execution_count": 8,
   "metadata": {},
   "outputs": [
    {
     "data": {
      "text/plain": [
       "Series([], Name: Tags, dtype: int64)"
      ]
     },
     "execution_count": 8,
     "metadata": {},
     "output_type": "execute_result"
    }
   ],
   "source": [
    "XX=dtag.groupby(\"Keywords\").Tags.size()\n",
    "XX[XX>1]"
   ]
  },
  {
   "cell_type": "code",
   "execution_count": null,
   "metadata": {},
   "outputs": [],
   "source": []
  }
 ],
 "metadata": {
  "kernelspec": {
   "display_name": "Python [conda env:py36]",
   "language": "python",
   "name": "conda-env-py36-py"
  },
  "language_info": {
   "codemirror_mode": {
    "name": "ipython",
    "version": 3
   },
   "file_extension": ".py",
   "mimetype": "text/x-python",
   "name": "python",
   "nbconvert_exporter": "python",
   "pygments_lexer": "ipython3",
   "version": "3.6.5"
  }
 },
 "nbformat": 4,
 "nbformat_minor": 2
}
