{
 "cells": [
  {
   "cell_type": "markdown",
   "metadata": {},
   "source": [
    "## Word2Vec LAC 2017 (concise case)"
   ]
  },
  {
   "cell_type": "markdown",
   "metadata": {},
   "source": [
    "modelling concise case of LAC 2017 use Skip Gram on Word2Vec gensim as word embedding"
   ]
  },
  {
   "cell_type": "code",
   "execution_count": 1,
   "metadata": {},
   "outputs": [
    {
     "name": "stderr",
     "output_type": "stream",
     "text": [
      "C:\\Users\\Aska\\Anaconda3\\envs\\py36\\lib\\site-packages\\ipykernel\\parentpoller.py:116: UserWarning: Parent poll failed.  If the frontend dies,\n",
      "                the kernel may be left running.  Please let us know\n",
      "                about your system (bitness, Python, etc.) at\n",
      "                ipython-dev@scipy.org\n",
      "  ipython-dev@scipy.org\"\"\")\n",
      "C:\\Users\\Aska\\Anaconda3\\envs\\py36\\lib\\site-packages\\gensim\\utils.py:1212: UserWarning: detected Windows; aliasing chunkize to chunkize_serial\n",
      "  warnings.warn(\"detected Windows; aliasing chunkize to chunkize_serial\")\n"
     ]
    }
   ],
   "source": [
    "import pandas as pd\n",
    "import numpy as np\n",
    "import re\n",
    "from bs4 import BeautifulSoup\n",
    "from gensim.models import Word2Vec\n",
    "import ast\n",
    "from sklearn.feature_extraction.text import TfidfTransformer\n",
    "from sklearn.externals import joblib"
   ]
  },
  {
   "cell_type": "code",
   "execution_count": null,
   "metadata": {},
   "outputs": [
    {
     "name": "stderr",
     "output_type": "stream",
     "text": [
      "Using TensorFlow backend.\n"
     ]
    }
   ],
   "source": [
    "from keras.preprocessing.text import Tokenizer\n",
    "from keras.preprocessing.sequence import pad_sequences\n",
    "from keras.models import Sequential\n",
    "from keras.layers import Dense, Flatten, Embedding, Dropout\n",
    "from keras.layers.convolutional import Conv1D\n",
    "from keras.layers.convolutional import MaxPooling1D\n",
    "from keras.models import model_from_json\n",
    "from keras.callbacks import CSVLogger"
   ]
  },
  {
   "cell_type": "code",
   "execution_count": null,
   "metadata": {},
   "outputs": [],
   "source": [
    "DATA_PATH=\"../Data/Raw/\"\n",
    "DATA_PATH2=\"../..//Data/Manipulation/\"\n",
    "MODEL_PATH=\"../../Models/\""
   ]
  },
  {
   "cell_type": "code",
   "execution_count": null,
   "metadata": {},
   "outputs": [],
   "source": []
  },
  {
   "cell_type": "markdown",
   "metadata": {},
   "source": [
    "### Word2Vec Vectorize"
   ]
  },
  {
   "cell_type": "code",
   "execution_count": null,
   "metadata": {},
   "outputs": [],
   "source": [
    "dta_tr=pd.read_csv(DATA_PATH2+\"data_train_tokenize_concise_only2_train.csv\")\n",
    "dta_te=pd.read_csv(DATA_PATH2+\"data_train_tokenize_concise_only2_test.csv\")"
   ]
  },
  {
   "cell_type": "code",
   "execution_count": null,
   "metadata": {},
   "outputs": [],
   "source": [
    "dta_tr[\"true_text\"]=dta_tr.token_short_des.apply(lambda x: \" \".join(ast.literal_eval(x)))\n",
    "dta_te[\"true_text\"]=dta_te.token_short_des.apply(lambda x: \" \".join(ast.literal_eval(x)))"
   ]
  },
  {
   "cell_type": "code",
   "execution_count": null,
   "metadata": {},
   "outputs": [],
   "source": [
    "s0=dta_tr.token_short_des.tolist()\n",
    "sentence=[ast.literal_eval(x) for x in s0]"
   ]
  },
  {
   "cell_type": "code",
   "execution_count": null,
   "metadata": {},
   "outputs": [],
   "source": [
    "%%time\n",
    "model_emb75 = Word2Vec(sentence,size=75,\n",
    "        window=8,min_count=10,workers=5)\n",
    "\n",
    "model_emb75.train(sentence, total_examples=len(sentence), epochs=8)"
   ]
  },
  {
   "cell_type": "code",
   "execution_count": null,
   "metadata": {},
   "outputs": [],
   "source": [
    "%%time\n",
    "model_emb150 = Word2Vec(sentence,size=150,\n",
    "        window=8,min_count=10,workers=5)\n",
    "\n",
    "model_emb150.train(sentence, total_examples=len(sentence), epochs=8)"
   ]
  },
  {
   "cell_type": "code",
   "execution_count": null,
   "metadata": {},
   "outputs": [],
   "source": [
    "%%time\n",
    "model_emb225 = Word2Vec(sentence,size=225,\n",
    "        window=8,min_count=10,workers=5)\n",
    "\n",
    "model_emb225.train(sentence, total_examples=len(sentence), epochs=8)"
   ]
  },
  {
   "cell_type": "code",
   "execution_count": null,
   "metadata": {},
   "outputs": [],
   "source": [
    "# model_emb4.wv[\"apple\"]"
   ]
  },
  {
   "cell_type": "code",
   "execution_count": null,
   "metadata": {},
   "outputs": [],
   "source": [
    "model_emb75.save(MODEL_PATH+'concise_vocab_75.bin')\n",
    "model_emb150.save(MODEL_PATH+'concise_vocab_150.bin')\n",
    "model_emb225.save(MODEL_PATH+'concise_vocab_225.bin')"
   ]
  },
  {
   "cell_type": "code",
   "execution_count": null,
   "metadata": {},
   "outputs": [],
   "source": [
    "# model_emb150.layer1_size"
   ]
  },
  {
   "cell_type": "code",
   "execution_count": null,
   "metadata": {},
   "outputs": [],
   "source": []
  },
  {
   "cell_type": "markdown",
   "metadata": {},
   "source": [
    "### Modeling Part"
   ]
  },
  {
   "cell_type": "code",
   "execution_count": null,
   "metadata": {},
   "outputs": [],
   "source": [
    "EPOCH=8\n",
    "BATCH=595"
   ]
  },
  {
   "cell_type": "code",
   "execution_count": null,
   "metadata": {},
   "outputs": [],
   "source": [
    "def get_weight_matrix(embedding, vocab):\n",
    "    # total vocabulary size plus 0 for unknown words\n",
    "    vocab_size = len(vocab) + 1\n",
    "    # define weight matrix dimensions with all 0\n",
    "    weight_matrix = np.zeros((vocab_size, embedding.layer1_size))\n",
    "    # step vocab, store vectors using the Tokenizer's integer mapping\n",
    "    for word, i in vocab.items():\n",
    "        try:\n",
    "            weight_matrix[i] = embedding[word]\n",
    "        except:\n",
    "            weight_matrix[i] = np.zeros(embedding.layer1_size)*0.0001\n",
    "    return weight_matrix\n",
    "\n",
    "def Emb_Lay(X_train,tokenizer,model_emb):\n",
    "#     max_length = 20\n",
    "    max_length = 25\n",
    "    encoded_docs = tokenizer.texts_to_sequences(X_train)\n",
    "    Xtr2 = pad_sequences(encoded_docs, maxlen=max_length, padding='post')\n",
    "\n",
    "    vocab_size = len(tokenizer.word_index) + 1\n",
    "    embedding_vectors = get_weight_matrix(model_emb, tokenizer.word_index)\n",
    "    embedding_layer = Embedding(vocab_size, model_emb.layer1_size, weights=[embedding_vectors], \n",
    "                                input_length=max_length, trainable=False)\n",
    "    return embedding_layer,Xtr2\n",
    "\n",
    "def cur_model(X,tokenizer,emb):\n",
    "    Emb_Layer=Emb_Lay(X,tokenizer,emb)\n",
    "    model = Sequential()\n",
    "    model.add(Emb_Layer[0])\n",
    "#     model.add(Conv1D(filters=24, kernel_size=6, activation='relu'))\n",
    "    model.add(Conv1D(filters=380, kernel_size=10, activation='relu'))\n",
    "#     model.add(Conv1D(filters=100, kernel_size=5, activation='relu'))\n",
    "\n",
    "#     model.add(MaxPooling1D(pool_size=3))\n",
    "    model.add(Flatten())\n",
    "    model.add(Dropout(0.7))\n",
    "    \n",
    "    model.add(Dense(200, activation='relu'))\n",
    "    model.add(Dense(200, activation='relu'))\n",
    "    model.add(Dropout(0.8))\n",
    "    model.add(Dense(70, activation='relu'))\n",
    "    model.add(Dense(70, activation='relu'))\n",
    "    model.add(Dropout(0.8))\n",
    "    model.add(Dense(15, activation='relu'))\n",
    "    model.add(Dense(15, activation='relu'))\n",
    "    model.add(Dense(1, activation='sigmoid'))\n",
    "    print(model.summary())\n",
    "    model.compile(loss='binary_crossentropy', optimizer='adam', metrics=['accuracy'])\n",
    "    return model,Emb_Layer[1]"
   ]
  },
  {
   "cell_type": "code",
   "execution_count": null,
   "metadata": {},
   "outputs": [],
   "source": [
    "Y_true=dta_tr[\"conci\"]\n",
    "X_tr=dta_tr.true_text"
   ]
  },
  {
   "cell_type": "code",
   "execution_count": null,
   "metadata": {},
   "outputs": [],
   "source": [
    "## Tokenizer\n",
    "\n",
    "tokenizer_x = Tokenizer()\n",
    "tokenizer_x.fit_on_texts(X_tr)"
   ]
  },
  {
   "cell_type": "code",
   "execution_count": null,
   "metadata": {},
   "outputs": [],
   "source": [
    "## Model 75\n",
    "model75,X75=cur_model(X_tr,tokenizer_x,model_emb75)"
   ]
  },
  {
   "cell_type": "code",
   "execution_count": null,
   "metadata": {
    "scrolled": true
   },
   "outputs": [],
   "source": [
    "%%time\n",
    "csv_logger = CSVLogger(DATA_PATH2+'wemb_log75.csv', append=True, separator=',')\n",
    "model75.fit(X75, Y_true, epochs=EPOCH, batch_size=BATCH,verbose=0,callbacks=[csv_logger])"
   ]
  },
  {
   "cell_type": "code",
   "execution_count": null,
   "metadata": {},
   "outputs": [],
   "source": []
  },
  {
   "cell_type": "code",
   "execution_count": null,
   "metadata": {},
   "outputs": [],
   "source": [
    "## Model 150\n",
    "model150,X150=cur_model(X_tr,tokenizer_x,model_emb150)"
   ]
  },
  {
   "cell_type": "code",
   "execution_count": null,
   "metadata": {
    "scrolled": true
   },
   "outputs": [],
   "source": [
    "%%time\n",
    "csv_logger = CSVLogger(DATA_PATH2+'wemb_log150.csv', append=True, separator=',')\n",
    "model150.fit(X150, Y_true, epochs=EPOCH, batch_size=BATCH,verbose=0,callbacks=[csv_logger])"
   ]
  },
  {
   "cell_type": "code",
   "execution_count": null,
   "metadata": {},
   "outputs": [],
   "source": []
  },
  {
   "cell_type": "code",
   "execution_count": null,
   "metadata": {},
   "outputs": [],
   "source": [
    "## Model 225\n",
    "model225,X225=cur_model(X_tr,tokenizer_x,model_emb225)"
   ]
  },
  {
   "cell_type": "code",
   "execution_count": null,
   "metadata": {},
   "outputs": [],
   "source": [
    "%%time\n",
    "csv_logger = CSVLogger(DATA_PATH2+'wemb_log225.csv', append=True, separator=',')\n",
    "model225.fit(X225, Y_true, epochs=EPOCH, batch_size=BATCH,verbose=0,callbacks=[csv_logger])"
   ]
  },
  {
   "cell_type": "code",
   "execution_count": null,
   "metadata": {},
   "outputs": [],
   "source": []
  },
  {
   "cell_type": "code",
   "execution_count": null,
   "metadata": {},
   "outputs": [],
   "source": [
    "# Model Saving\n",
    "\n",
    "# serialize model to JSON\n",
    "for model,mod_name in [(model75,\"wemb_model75\"),(model150,\"wemb_model150\"),(model225,\"wemb_model225\")]:\n",
    "    model_json = model.to_json()\n",
    "    with open(MODEL_PATH+mod_name+\".json\", \"w\") as json_file:\n",
    "        json_file.write(model_json)\n",
    "    # serialize weights to HDF5\n",
    "    model.save_weights(MODEL_PATH+mod_name+\"_weight.h5\")\n",
    "    print(\"Saved model to disk\")"
   ]
  },
  {
   "cell_type": "code",
   "execution_count": null,
   "metadata": {},
   "outputs": [],
   "source": []
  },
  {
   "cell_type": "code",
   "execution_count": null,
   "metadata": {},
   "outputs": [],
   "source": []
  },
  {
   "cell_type": "markdown",
   "metadata": {},
   "source": [
    "### Evaluate"
   ]
  },
  {
   "cell_type": "code",
   "execution_count": null,
   "metadata": {},
   "outputs": [],
   "source": [
    "for model,X in [(model75,X75),(model150,X150),(model225,X225)]:\n",
    "    loss, acc = model.evaluate(X, Y_true, verbose=0)\n",
    "    print('Train Accuracy: %f' % (acc*100))"
   ]
  },
  {
   "cell_type": "code",
   "execution_count": null,
   "metadata": {},
   "outputs": [],
   "source": [
    "X_te=dta_te.true_text\n",
    "\n",
    "X75_te=Emb_Lay(X_te,tokenizer_x,model_emb75)[1]\n",
    "X150_te=Emb_Lay(X_te,tokenizer_x,model_emb150)[1]\n",
    "X225_te=Emb_Lay(X_te,tokenizer_x,model_emb225)[1]\n",
    "\n",
    "Y_test=dta_te.conci "
   ]
  },
  {
   "cell_type": "code",
   "execution_count": null,
   "metadata": {},
   "outputs": [],
   "source": [
    "for model,X in [(model75,X75_te),(model150,X150_te),(model225,X225_te)]:\n",
    "    loss, acc = model.evaluate(X, Y_test, verbose=0)\n",
    "    print('Test Accuracy: %f' % (acc*100))"
   ]
  },
  {
   "cell_type": "code",
   "execution_count": null,
   "metadata": {},
   "outputs": [],
   "source": []
  },
  {
   "cell_type": "code",
   "execution_count": null,
   "metadata": {},
   "outputs": [],
   "source": [
    "# https://fasttext.cc/docs/en/crawl-vectors.html"
   ]
  },
  {
   "cell_type": "code",
   "execution_count": null,
   "metadata": {},
   "outputs": [],
   "source": []
  }
 ],
 "metadata": {
  "kernelspec": {
   "display_name": "py36",
   "language": "python",
   "name": "myenv"
  },
  "language_info": {
   "codemirror_mode": {
    "name": "ipython",
    "version": 3
   },
   "file_extension": ".py",
   "mimetype": "text/x-python",
   "name": "python",
   "nbconvert_exporter": "python",
   "pygments_lexer": "ipython3",
   "version": "3.6.5"
  }
 },
 "nbformat": 4,
 "nbformat_minor": 2
}
