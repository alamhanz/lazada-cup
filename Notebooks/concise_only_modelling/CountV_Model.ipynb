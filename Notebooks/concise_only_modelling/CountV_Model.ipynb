{
 "cells": [
  {
   "cell_type": "markdown",
   "metadata": {},
   "source": [
    "## CountV LAC 2017 (concise case)"
   ]
  },
  {
   "cell_type": "markdown",
   "metadata": {},
   "source": [
    "modelling concise case of LAC 2017 use Count Vector as word embedding"
   ]
  },
  {
   "cell_type": "code",
   "execution_count": 1,
   "metadata": {},
   "outputs": [
    {
     "name": "stderr",
     "output_type": "stream",
     "text": [
      "C:\\Users\\Aska\\Anaconda3\\envs\\py36\\lib\\site-packages\\gensim\\utils.py:1212: UserWarning: detected Windows; aliasing chunkize to chunkize_serial\n",
      "  warnings.warn(\"detected Windows; aliasing chunkize to chunkize_serial\")\n"
     ]
    }
   ],
   "source": [
    "import pandas as pd\n",
    "import numpy as np\n",
    "import re\n",
    "from bs4 import BeautifulSoup\n",
    "from gensim.models import Word2Vec\n",
    "import ast\n",
    "from sklearn.feature_extraction.text import CountVectorizer\n",
    "from sklearn.externals import joblib"
   ]
  },
  {
   "cell_type": "code",
   "execution_count": 2,
   "metadata": {},
   "outputs": [
    {
     "name": "stderr",
     "output_type": "stream",
     "text": [
      "Using TensorFlow backend.\n"
     ]
    }
   ],
   "source": [
    "# for model\n",
    "from keras.preprocessing.text import Tokenizer\n",
    "from keras.preprocessing.sequence import pad_sequences\n",
    "from keras.models import Sequential\n",
    "from keras.layers import Dense, Dropout\n",
    "from keras.layers import Flatten\n",
    "from keras.layers import Embedding\n",
    "from keras.layers.convolutional import Conv1D\n",
    "from keras.layers.convolutional import MaxPooling1D\n",
    "from keras.models import model_from_json\n",
    "from keras.callbacks import CSVLogger\n"
   ]
  },
  {
   "cell_type": "code",
   "execution_count": 3,
   "metadata": {},
   "outputs": [],
   "source": [
    "DATA_PATH=\"../Data/Raw/\"\n",
    "DATA_PATH2=\"../..//Data/Manipulation/\"\n",
    "MODEL_PATH=\"../../Models/\""
   ]
  },
  {
   "cell_type": "code",
   "execution_count": null,
   "metadata": {},
   "outputs": [],
   "source": []
  },
  {
   "cell_type": "markdown",
   "metadata": {},
   "source": [
    "### CountV Vectorize"
   ]
  },
  {
   "cell_type": "code",
   "execution_count": 4,
   "metadata": {},
   "outputs": [],
   "source": [
    "dta_tr=pd.read_csv(DATA_PATH2+\"data_train_tokenize_concise_only2_train.csv\")\n",
    "dta_te=pd.read_csv(DATA_PATH2+\"data_train_tokenize_concise_only2_test.csv\")"
   ]
  },
  {
   "cell_type": "code",
   "execution_count": 5,
   "metadata": {},
   "outputs": [],
   "source": [
    "dta_tr[\"true_text\"]=dta_tr.token_short_des.apply(lambda x: \" \".join(ast.literal_eval(x)))\n",
    "dta_te[\"true_text\"]=dta_te.token_short_des.apply(lambda x: \" \".join(ast.literal_eval(x)))"
   ]
  },
  {
   "cell_type": "code",
   "execution_count": 6,
   "metadata": {},
   "outputs": [],
   "source": [
    "docs=dta_tr.true_text.tolist()\n",
    "docs_te=dta_te.true_text.tolist()"
   ]
  },
  {
   "cell_type": "code",
   "execution_count": 7,
   "metadata": {},
   "outputs": [
    {
     "data": {
      "text/plain": [
       "['formulated oil free hydrating botanicals remarkably improves skin texture abused hands restores soft smooth refined hands',\n",
       " '150cm mini microphone compatible iphone various smartphones also ipad apple computer macbook dual headed design allows two people using simultaneously features high sensitivity omni directional sounds output perfect audio video recording 3 5mm standard connector jack convenient clip design clip collar 3 5mm standard connector jack convenient clip design clip collar']"
      ]
     },
     "execution_count": 7,
     "metadata": {},
     "output_type": "execute_result"
    }
   ],
   "source": [
    "docs[:2]"
   ]
  },
  {
   "cell_type": "code",
   "execution_count": null,
   "metadata": {},
   "outputs": [],
   "source": []
  },
  {
   "cell_type": "code",
   "execution_count": 8,
   "metadata": {},
   "outputs": [
    {
     "name": "stdout",
     "output_type": "stream",
     "text": [
      "Wall time: 1.34 s\n"
     ]
    }
   ],
   "source": [
    "%%time\n",
    "countv_trans_75=CountVectorizer(max_features=75)\n",
    "countv_trans_75.fit(docs)"
   ]
  },
  {
   "cell_type": "code",
   "execution_count": 9,
   "metadata": {},
   "outputs": [
    {
     "name": "stdout",
     "output_type": "stream",
     "text": [
      "Wall time: 1.31 s\n"
     ]
    }
   ],
   "source": [
    "%%time\n",
    "countv_trans_150=CountVectorizer(max_features=150)\n",
    "countv_trans_150.fit(docs)"
   ]
  },
  {
   "cell_type": "code",
   "execution_count": 10,
   "metadata": {},
   "outputs": [
    {
     "name": "stdout",
     "output_type": "stream",
     "text": [
      "Wall time: 1.32 s\n"
     ]
    }
   ],
   "source": [
    "%%time\n",
    "countv_trans_225=CountVectorizer(max_features=225)\n",
    "countv_trans_225.fit(docs)"
   ]
  },
  {
   "cell_type": "code",
   "execution_count": null,
   "metadata": {},
   "outputs": [],
   "source": []
  },
  {
   "cell_type": "code",
   "execution_count": 11,
   "metadata": {},
   "outputs": [],
   "source": [
    "A=countv_trans_75.transform([docs[0]])"
   ]
  },
  {
   "cell_type": "code",
   "execution_count": 12,
   "metadata": {},
   "outputs": [
    {
     "data": {
      "text/plain": [
       "array([[0, 0, 0, 0, 0, 0, 0, 0, 0, 0, 0, 0, 0, 0, 0, 0, 0, 0, 0, 0, 0, 0,\n",
       "        0, 1, 0, 0, 0, 0, 0, 0, 0, 0, 0, 0, 0, 0, 0, 0, 0, 0, 0, 0, 0, 0,\n",
       "        0, 0, 0, 0, 0, 0, 0, 0, 0, 0, 0, 0, 0, 1, 0, 1, 0, 0, 0, 0, 0, 0,\n",
       "        0, 0, 0, 0, 0, 0, 0, 0, 0]], dtype=int64)"
      ]
     },
     "execution_count": 12,
     "metadata": {},
     "output_type": "execute_result"
    }
   ],
   "source": [
    "A.toarray()"
   ]
  },
  {
   "cell_type": "code",
   "execution_count": 13,
   "metadata": {},
   "outputs": [
    {
     "data": {
      "text/plain": [
       "['../../Models/countv225_transform.pkl']"
      ]
     },
     "execution_count": 13,
     "metadata": {},
     "output_type": "execute_result"
    }
   ],
   "source": [
    "joblib.dump(countv_trans_75,MODEL_PATH+\"countv75_transform.pkl\")\n",
    "joblib.dump(countv_trans_150,MODEL_PATH+\"countv150_transform.pkl\")\n",
    "joblib.dump(countv_trans_225,MODEL_PATH+\"countv225_transform.pkl\")"
   ]
  },
  {
   "cell_type": "code",
   "execution_count": null,
   "metadata": {},
   "outputs": [],
   "source": []
  },
  {
   "cell_type": "markdown",
   "metadata": {},
   "source": [
    "### Modeling Part"
   ]
  },
  {
   "cell_type": "code",
   "execution_count": 41,
   "metadata": {},
   "outputs": [],
   "source": [
    "EPOCH=8\n",
    "BATCH=595"
   ]
  },
  {
   "cell_type": "code",
   "execution_count": 42,
   "metadata": {},
   "outputs": [],
   "source": [
    "def cur_model(input_size):\n",
    "    model = Sequential()\n",
    "#     model.add(Embedding(50, 12, input_length=input_size))\n",
    "    \n",
    "#     Embedding(vocab_size, embd2.layer1_size, weights=[embedding_vectors], \n",
    "#                             input_length=max_length, trainable=False)\n",
    "    \n",
    "#     model.add(Conv1D(filters=8, kernel_size=5, activation='relu'))\n",
    "#     model.add(MaxPooling1D(pool_size=3))\n",
    "#     model.add(Flatten())\n",
    "    model.add(Dense(200,input_dim=input_size, activation='relu'))\n",
    "    model.add(Dense(200,input_dim=input_size, activation='relu'))\n",
    "    model.add(Dropout(0.8))\n",
    "    model.add(Dense(70, activation='relu'))\n",
    "    model.add(Dense(70, activation='relu'))\n",
    "    model.add(Dropout(0.8))\n",
    "    model.add(Dense(15, activation='relu'))\n",
    "    model.add(Dense(15, activation='relu'))\n",
    "    model.add(Dense(1, activation='sigmoid'))\n",
    "    print(model.summary())\n",
    "    model.compile(loss='binary_crossentropy', optimizer='adam', metrics=['accuracy'])\n",
    "    return model"
   ]
  },
  {
   "cell_type": "code",
   "execution_count": 43,
   "metadata": {},
   "outputs": [],
   "source": [
    "Y_true=dta_tr[\"conci\"]"
   ]
  },
  {
   "cell_type": "code",
   "execution_count": 44,
   "metadata": {},
   "outputs": [],
   "source": [
    "X75=countv_trans_75.transform(dta_tr.true_text)\n",
    "X150=countv_trans_150.transform(dta_tr.true_text)\n",
    "X225=countv_trans_225.transform(dta_tr.true_text)"
   ]
  },
  {
   "cell_type": "code",
   "execution_count": 45,
   "metadata": {},
   "outputs": [
    {
     "name": "stdout",
     "output_type": "stream",
     "text": [
      "_________________________________________________________________\n",
      "Layer (type)                 Output Shape              Param #   \n",
      "=================================================================\n",
      "dense_43 (Dense)             (None, 200)               15200     \n",
      "_________________________________________________________________\n",
      "dense_44 (Dense)             (None, 200)               40200     \n",
      "_________________________________________________________________\n",
      "dropout_13 (Dropout)         (None, 200)               0         \n",
      "_________________________________________________________________\n",
      "dense_45 (Dense)             (None, 70)                14070     \n",
      "_________________________________________________________________\n",
      "dense_46 (Dense)             (None, 70)                4970      \n",
      "_________________________________________________________________\n",
      "dropout_14 (Dropout)         (None, 70)                0         \n",
      "_________________________________________________________________\n",
      "dense_47 (Dense)             (None, 15)                1065      \n",
      "_________________________________________________________________\n",
      "dense_48 (Dense)             (None, 15)                240       \n",
      "_________________________________________________________________\n",
      "dense_49 (Dense)             (None, 1)                 16        \n",
      "=================================================================\n",
      "Total params: 75,761\n",
      "Trainable params: 75,761\n",
      "Non-trainable params: 0\n",
      "_________________________________________________________________\n",
      "None\n"
     ]
    }
   ],
   "source": [
    "# define model 75\n",
    "model75=cur_model(75)"
   ]
  },
  {
   "cell_type": "code",
   "execution_count": 46,
   "metadata": {},
   "outputs": [
    {
     "name": "stdout",
     "output_type": "stream",
     "text": [
      "Wall time: 18.1 s\n"
     ]
    }
   ],
   "source": [
    "%%time\n",
    "csv_logger = CSVLogger(DATA_PATH2+'countv_log75.csv', append=True, separator=',')\n",
    "model75.fit(X75, Y_true, epochs=EPOCH, batch_size=BATCH,verbose=0,callbacks=[csv_logger])"
   ]
  },
  {
   "cell_type": "code",
   "execution_count": null,
   "metadata": {},
   "outputs": [],
   "source": []
  },
  {
   "cell_type": "code",
   "execution_count": 47,
   "metadata": {},
   "outputs": [
    {
     "name": "stdout",
     "output_type": "stream",
     "text": [
      "_________________________________________________________________\n",
      "Layer (type)                 Output Shape              Param #   \n",
      "=================================================================\n",
      "dense_50 (Dense)             (None, 200)               30200     \n",
      "_________________________________________________________________\n",
      "dense_51 (Dense)             (None, 200)               40200     \n",
      "_________________________________________________________________\n",
      "dropout_15 (Dropout)         (None, 200)               0         \n",
      "_________________________________________________________________\n",
      "dense_52 (Dense)             (None, 70)                14070     \n",
      "_________________________________________________________________\n",
      "dense_53 (Dense)             (None, 70)                4970      \n",
      "_________________________________________________________________\n",
      "dropout_16 (Dropout)         (None, 70)                0         \n",
      "_________________________________________________________________\n",
      "dense_54 (Dense)             (None, 15)                1065      \n",
      "_________________________________________________________________\n",
      "dense_55 (Dense)             (None, 15)                240       \n",
      "_________________________________________________________________\n",
      "dense_56 (Dense)             (None, 1)                 16        \n",
      "=================================================================\n",
      "Total params: 90,761\n",
      "Trainable params: 90,761\n",
      "Non-trainable params: 0\n",
      "_________________________________________________________________\n",
      "None\n"
     ]
    }
   ],
   "source": [
    "# define model 150\n",
    "model150=cur_model(150)"
   ]
  },
  {
   "cell_type": "code",
   "execution_count": 48,
   "metadata": {},
   "outputs": [
    {
     "name": "stdout",
     "output_type": "stream",
     "text": [
      "Wall time: 12.7 s\n"
     ]
    }
   ],
   "source": [
    "%%time\n",
    "csv_logger = CSVLogger(DATA_PATH2+'countv_log150.csv', append=True, separator=',')\n",
    "model150.fit(X150, Y_true, epochs=EPOCH, batch_size=BATCH,verbose=0,callbacks=[csv_logger])"
   ]
  },
  {
   "cell_type": "code",
   "execution_count": null,
   "metadata": {},
   "outputs": [],
   "source": []
  },
  {
   "cell_type": "code",
   "execution_count": 49,
   "metadata": {},
   "outputs": [
    {
     "name": "stdout",
     "output_type": "stream",
     "text": [
      "_________________________________________________________________\n",
      "Layer (type)                 Output Shape              Param #   \n",
      "=================================================================\n",
      "dense_57 (Dense)             (None, 200)               45200     \n",
      "_________________________________________________________________\n",
      "dense_58 (Dense)             (None, 200)               40200     \n",
      "_________________________________________________________________\n",
      "dropout_17 (Dropout)         (None, 200)               0         \n",
      "_________________________________________________________________\n",
      "dense_59 (Dense)             (None, 70)                14070     \n",
      "_________________________________________________________________\n",
      "dense_60 (Dense)             (None, 70)                4970      \n",
      "_________________________________________________________________\n",
      "dropout_18 (Dropout)         (None, 70)                0         \n",
      "_________________________________________________________________\n",
      "dense_61 (Dense)             (None, 15)                1065      \n",
      "_________________________________________________________________\n",
      "dense_62 (Dense)             (None, 15)                240       \n",
      "_________________________________________________________________\n",
      "dense_63 (Dense)             (None, 1)                 16        \n",
      "=================================================================\n",
      "Total params: 105,761\n",
      "Trainable params: 105,761\n",
      "Non-trainable params: 0\n",
      "_________________________________________________________________\n",
      "None\n"
     ]
    }
   ],
   "source": [
    "# define model 225\n",
    "model225=cur_model(225)"
   ]
  },
  {
   "cell_type": "code",
   "execution_count": 50,
   "metadata": {},
   "outputs": [
    {
     "name": "stdout",
     "output_type": "stream",
     "text": [
      "Wall time: 22.7 s\n"
     ]
    }
   ],
   "source": [
    "%%time\n",
    "csv_logger = CSVLogger(DATA_PATH2+'countv_log225.csv', append=True, separator=',')\n",
    "model225.fit(X225, Y_true, epochs=EPOCH, batch_size=BATCH,verbose=0,callbacks=[csv_logger])"
   ]
  },
  {
   "cell_type": "code",
   "execution_count": null,
   "metadata": {},
   "outputs": [],
   "source": []
  },
  {
   "cell_type": "code",
   "execution_count": 51,
   "metadata": {},
   "outputs": [
    {
     "name": "stdout",
     "output_type": "stream",
     "text": [
      "Saved model to disk\n",
      "Saved model to disk\n",
      "Saved model to disk\n"
     ]
    }
   ],
   "source": [
    "# Model Saving\n",
    "\n",
    "# serialize model to JSON\n",
    "for model,mod_name in [(model75,\"countv_model75\"),(model150,\"countv_model150\"),(model225,\"countv_model225\")]:\n",
    "    model_json = model.to_json()\n",
    "    with open(MODEL_PATH+mod_name+\".json\", \"w\") as json_file:\n",
    "        json_file.write(model_json)\n",
    "    # serialize weights to HDF5\n",
    "    model.save_weights(MODEL_PATH+mod_name+\"_weight.h5\")\n",
    "    print(\"Saved model to disk\")"
   ]
  },
  {
   "cell_type": "code",
   "execution_count": null,
   "metadata": {},
   "outputs": [],
   "source": []
  },
  {
   "cell_type": "markdown",
   "metadata": {},
   "source": [
    "### Evaluate"
   ]
  },
  {
   "cell_type": "code",
   "execution_count": 52,
   "metadata": {},
   "outputs": [
    {
     "name": "stdout",
     "output_type": "stream",
     "text": [
      "Train Accuracy: 72.634244\n",
      "Train Accuracy: 74.195227\n",
      "Train Accuracy: 75.992091\n"
     ]
    }
   ],
   "source": [
    "for model,X in [(model75,X75),(model150,X150),(model225,X225)]:\n",
    "    loss, acc = model.evaluate(X, Y_true, verbose=0)\n",
    "    print('Train Accuracy: %f' % (acc*100))"
   ]
  },
  {
   "cell_type": "code",
   "execution_count": 53,
   "metadata": {},
   "outputs": [],
   "source": [
    "X75_te=countv_trans_75.transform(dta_te.true_text)\n",
    "X150_te=countv_trans_150.transform(dta_te.true_text)\n",
    "X225_te=countv_trans_225.transform(dta_te.true_text)\n",
    "\n",
    "Y_test=dta_te.conci"
   ]
  },
  {
   "cell_type": "code",
   "execution_count": 54,
   "metadata": {},
   "outputs": [
    {
     "name": "stdout",
     "output_type": "stream",
     "text": [
      "Test Accuracy: 71.859155\n",
      "Test Accuracy: 72.408451\n",
      "Test Accuracy: 73.591549\n"
     ]
    }
   ],
   "source": [
    "for model,X in [(model75,X75_te),(model150,X150_te),(model225,X225_te)]:\n",
    "    loss, acc = model.evaluate(X, Y_test, verbose=0)\n",
    "    print('Test Accuracy: %f' % (acc*100))"
   ]
  },
  {
   "cell_type": "code",
   "execution_count": null,
   "metadata": {},
   "outputs": [],
   "source": []
  }
 ],
 "metadata": {
  "kernelspec": {
   "display_name": "py36",
   "language": "python",
   "name": "myenv"
  },
  "language_info": {
   "codemirror_mode": {
    "name": "ipython",
    "version": 3
   },
   "file_extension": ".py",
   "mimetype": "text/x-python",
   "name": "python",
   "nbconvert_exporter": "python",
   "pygments_lexer": "ipython3",
   "version": "3.6.5"
  }
 },
 "nbformat": 4,
 "nbformat_minor": 2
}
