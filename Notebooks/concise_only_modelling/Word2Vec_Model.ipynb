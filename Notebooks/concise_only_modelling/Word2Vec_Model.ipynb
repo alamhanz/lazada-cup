{
 "cells": [
  {
   "cell_type": "markdown",
   "metadata": {},
   "source": [
    "## Word2Vec LAC 2017 (concise case)"
   ]
  },
  {
   "cell_type": "markdown",
   "metadata": {},
   "source": [
    "modelling concise case of LAC 2017 use Skip Gram on Word2Vec gensim as word embedding"
   ]
  },
  {
   "cell_type": "code",
   "execution_count": 92,
   "metadata": {},
   "outputs": [],
   "source": [
    "import pandas as pd\n",
    "import numpy as np\n",
    "import re\n",
    "from bs4 import BeautifulSoup\n",
    "from gensim.models import Word2Vec\n",
    "import ast\n",
    "from sklearn.feature_extraction.text import TfidfTransformer\n",
    "from sklearn.externals import joblib"
   ]
  },
  {
   "cell_type": "code",
   "execution_count": 93,
   "metadata": {},
   "outputs": [],
   "source": [
    "from keras.preprocessing.text import Tokenizer\n",
    "from keras.preprocessing.sequence import pad_sequences\n",
    "from keras.models import Sequential\n",
    "from keras.layers import Dense, Flatten, Embedding, Dropout\n",
    "from keras.layers.convolutional import Conv1D\n",
    "from keras.layers.convolutional import MaxPooling1D\n",
    "from keras.models import model_from_json\n",
    "from keras.callbacks import CSVLogger"
   ]
  },
  {
   "cell_type": "code",
   "execution_count": 94,
   "metadata": {},
   "outputs": [],
   "source": [
    "DATA_PATH=\"../Data/Raw/\"\n",
    "DATA_PATH2=\"../..//Data/Manipulation/\"\n",
    "MODEL_PATH=\"../../Models/\""
   ]
  },
  {
   "cell_type": "code",
   "execution_count": null,
   "metadata": {},
   "outputs": [],
   "source": []
  },
  {
   "cell_type": "markdown",
   "metadata": {},
   "source": [
    "### Word2Vec Vectorize"
   ]
  },
  {
   "cell_type": "code",
   "execution_count": 95,
   "metadata": {},
   "outputs": [],
   "source": [
    "dta_tr=pd.read_csv(DATA_PATH2+\"data_train_tokenize_concise_only2_train.csv\")\n",
    "dta_te=pd.read_csv(DATA_PATH2+\"data_train_tokenize_concise_only2_test.csv\")"
   ]
  },
  {
   "cell_type": "code",
   "execution_count": 96,
   "metadata": {},
   "outputs": [],
   "source": [
    "dta_tr[\"true_text\"]=dta_tr.token_short_des.apply(lambda x: \" \".join(ast.literal_eval(x)))\n",
    "dta_te[\"true_text\"]=dta_te.token_short_des.apply(lambda x: \" \".join(ast.literal_eval(x)))"
   ]
  },
  {
   "cell_type": "code",
   "execution_count": 97,
   "metadata": {},
   "outputs": [],
   "source": [
    "s0=dta_tr.token_short_des.tolist()\n",
    "sentence=[ast.literal_eval(x) for x in s0]"
   ]
  },
  {
   "cell_type": "code",
   "execution_count": 98,
   "metadata": {},
   "outputs": [
    {
     "name": "stdout",
     "output_type": "stream",
     "text": [
      "Wall time: 14.9 s\n"
     ]
    }
   ],
   "source": [
    "%%time\n",
    "model_emb75 = Word2Vec(sentence,size=75,\n",
    "        window=8,min_count=10,workers=5)\n",
    "\n",
    "model_emb75.train(sentence, total_examples=len(sentence), epochs=8)"
   ]
  },
  {
   "cell_type": "code",
   "execution_count": 99,
   "metadata": {},
   "outputs": [
    {
     "name": "stdout",
     "output_type": "stream",
     "text": [
      "Wall time: 15.6 s\n"
     ]
    }
   ],
   "source": [
    "%%time\n",
    "model_emb150 = Word2Vec(sentence,size=150,\n",
    "        window=8,min_count=10,workers=5)\n",
    "\n",
    "model_emb150.train(sentence, total_examples=len(sentence), epochs=8)"
   ]
  },
  {
   "cell_type": "code",
   "execution_count": 100,
   "metadata": {},
   "outputs": [
    {
     "name": "stdout",
     "output_type": "stream",
     "text": [
      "Wall time: 19 s\n"
     ]
    }
   ],
   "source": [
    "%%time\n",
    "model_emb225 = Word2Vec(sentence,size=225,\n",
    "        window=8,min_count=10,workers=5)\n",
    "\n",
    "model_emb225.train(sentence, total_examples=len(sentence), epochs=8)"
   ]
  },
  {
   "cell_type": "code",
   "execution_count": 101,
   "metadata": {},
   "outputs": [],
   "source": [
    "# model_emb4.wv[\"apple\"]"
   ]
  },
  {
   "cell_type": "code",
   "execution_count": 102,
   "metadata": {},
   "outputs": [],
   "source": [
    "model_emb75.save(MODEL_PATH+'concise_vocab_75.bin')\n",
    "model_emb150.save(MODEL_PATH+'concise_vocab_150.bin')\n",
    "model_emb225.save(MODEL_PATH+'concise_vocab_225.bin')"
   ]
  },
  {
   "cell_type": "code",
   "execution_count": 103,
   "metadata": {},
   "outputs": [],
   "source": [
    "# model_emb150.layer1_size"
   ]
  },
  {
   "cell_type": "code",
   "execution_count": null,
   "metadata": {},
   "outputs": [],
   "source": []
  },
  {
   "cell_type": "markdown",
   "metadata": {},
   "source": [
    "### Modeling Part"
   ]
  },
  {
   "cell_type": "code",
   "execution_count": 120,
   "metadata": {},
   "outputs": [],
   "source": [
    "EPOCH=8\n",
    "BATCH=595"
   ]
  },
  {
   "cell_type": "code",
   "execution_count": 121,
   "metadata": {},
   "outputs": [],
   "source": [
    "def get_weight_matrix(embedding, vocab):\n",
    "    # total vocabulary size plus 0 for unknown words\n",
    "    vocab_size = len(vocab) + 1\n",
    "    # define weight matrix dimensions with all 0\n",
    "    weight_matrix = np.zeros((vocab_size, embedding.layer1_size))\n",
    "    # step vocab, store vectors using the Tokenizer's integer mapping\n",
    "    for word, i in vocab.items():\n",
    "        try:\n",
    "            weight_matrix[i] = embedding[word]\n",
    "        except:\n",
    "            weight_matrix[i] = np.zeros(embedding.layer1_size)*0.0001\n",
    "    return weight_matrix\n",
    "\n",
    "def Emb_Lay(X_train,tokenizer,model_emb):\n",
    "#     max_length = 20\n",
    "    max_length = 25\n",
    "    encoded_docs = tokenizer.texts_to_sequences(X_train)\n",
    "    Xtr2 = pad_sequences(encoded_docs, maxlen=max_length, padding='post')\n",
    "\n",
    "    vocab_size = len(tokenizer.word_index) + 1\n",
    "    embedding_vectors = get_weight_matrix(model_emb, tokenizer.word_index)\n",
    "    embedding_layer = Embedding(vocab_size, model_emb.layer1_size, weights=[embedding_vectors], \n",
    "                                input_length=max_length, trainable=False)\n",
    "    return embedding_layer,Xtr2\n",
    "\n",
    "def cur_model(X,tokenizer,emb):\n",
    "    Emb_Layer=Emb_Lay(X,tokenizer,emb)\n",
    "    model = Sequential()\n",
    "    model.add(Emb_Layer[0])\n",
    "##     model.add(Conv1D(filters=200, kernel_size=6, activation='relu')) OKAY\n",
    "    model.add(Conv1D(filters=250, kernel_size=8, activation='relu'))\n",
    "#     model.add(MaxPooling1D(pool_size=7))\n",
    "    model.add(Flatten())\n",
    "##     model.add(Dropout(0.4)) OKAY\n",
    "    model.add(Dropout(0.55))\n",
    "\n",
    "    \n",
    "    model.add(Dense(200, activation='relu'))\n",
    "    model.add(Dense(200, activation='relu'))\n",
    "    model.add(Dropout(0.8))\n",
    "    model.add(Dense(70, activation='relu'))\n",
    "    model.add(Dense(70, activation='relu'))\n",
    "    model.add(Dropout(0.8))\n",
    "    model.add(Dense(15, activation='relu'))\n",
    "    model.add(Dense(15, activation='relu'))\n",
    "    model.add(Dense(1, activation='sigmoid'))\n",
    "    print(model.summary())\n",
    "    model.compile(loss='binary_crossentropy', optimizer='adam', metrics=['accuracy'])\n",
    "    return model,Emb_Layer[1]"
   ]
  },
  {
   "cell_type": "code",
   "execution_count": 122,
   "metadata": {},
   "outputs": [],
   "source": [
    "Y_true=dta_tr[\"conci\"]\n",
    "X_tr=dta_tr.true_text"
   ]
  },
  {
   "cell_type": "code",
   "execution_count": 123,
   "metadata": {},
   "outputs": [],
   "source": [
    "## Tokenizer\n",
    "\n",
    "tokenizer_x = Tokenizer()\n",
    "tokenizer_x.fit_on_texts(X_tr)"
   ]
  },
  {
   "cell_type": "code",
   "execution_count": 124,
   "metadata": {},
   "outputs": [
    {
     "name": "stderr",
     "output_type": "stream",
     "text": [
      "C:\\Users\\Aska\\Anaconda3\\envs\\py36\\lib\\site-packages\\ipykernel_launcher.py:5: DeprecationWarning: Call to deprecated `layer1_size` (Attribute will be removed in 4.0.0, use self.trainables.layer1_size instead).\n",
      "  \"\"\"\n",
      "C:\\Users\\Aska\\Anaconda3\\envs\\py36\\lib\\site-packages\\ipykernel_launcher.py:9: DeprecationWarning: Call to deprecated `__getitem__` (Method will be removed in 4.0.0, use self.wv.__getitem__() instead).\n",
      "  if __name__ == '__main__':\n",
      "C:\\Users\\Aska\\Anaconda3\\envs\\py36\\lib\\site-packages\\ipykernel_launcher.py:11: DeprecationWarning: Call to deprecated `layer1_size` (Attribute will be removed in 4.0.0, use self.trainables.layer1_size instead).\n",
      "  # This is added back by InteractiveShellApp.init_path()\n",
      "C:\\Users\\Aska\\Anaconda3\\envs\\py36\\lib\\site-packages\\ipykernel_launcher.py:22: DeprecationWarning: Call to deprecated `layer1_size` (Attribute will be removed in 4.0.0, use self.trainables.layer1_size instead).\n"
     ]
    },
    {
     "name": "stdout",
     "output_type": "stream",
     "text": [
      "_________________________________________________________________\n",
      "Layer (type)                 Output Shape              Param #   \n",
      "=================================================================\n",
      "embedding_37 (Embedding)     (None, 25, 75)            2689575   \n",
      "_________________________________________________________________\n",
      "conv1d_19 (Conv1D)           (None, 18, 250)           150250    \n",
      "_________________________________________________________________\n",
      "flatten_19 (Flatten)         (None, 4500)              0         \n",
      "_________________________________________________________________\n",
      "dropout_55 (Dropout)         (None, 4500)              0         \n",
      "_________________________________________________________________\n",
      "dense_127 (Dense)            (None, 200)               900200    \n",
      "_________________________________________________________________\n",
      "dense_128 (Dense)            (None, 200)               40200     \n",
      "_________________________________________________________________\n",
      "dropout_56 (Dropout)         (None, 200)               0         \n",
      "_________________________________________________________________\n",
      "dense_129 (Dense)            (None, 70)                14070     \n",
      "_________________________________________________________________\n",
      "dense_130 (Dense)            (None, 70)                4970      \n",
      "_________________________________________________________________\n",
      "dropout_57 (Dropout)         (None, 70)                0         \n",
      "_________________________________________________________________\n",
      "dense_131 (Dense)            (None, 15)                1065      \n",
      "_________________________________________________________________\n",
      "dense_132 (Dense)            (None, 15)                240       \n",
      "_________________________________________________________________\n",
      "dense_133 (Dense)            (None, 1)                 16        \n",
      "=================================================================\n",
      "Total params: 3,800,586\n",
      "Trainable params: 1,111,011\n",
      "Non-trainable params: 2,689,575\n",
      "_________________________________________________________________\n",
      "None\n"
     ]
    }
   ],
   "source": [
    "## Model 75\n",
    "model75,X75=cur_model(X_tr,tokenizer_x,model_emb75)"
   ]
  },
  {
   "cell_type": "code",
   "execution_count": 125,
   "metadata": {
    "scrolled": true
   },
   "outputs": [
    {
     "name": "stdout",
     "output_type": "stream",
     "text": [
      "Wall time: 3min 6s\n"
     ]
    }
   ],
   "source": [
    "%%time\n",
    "csv_logger = CSVLogger(DATA_PATH2+'wemb_log75.csv', append=True, separator=',')\n",
    "model75.fit(X75, Y_true, epochs=EPOCH, batch_size=BATCH,verbose=0,callbacks=[csv_logger])"
   ]
  },
  {
   "cell_type": "code",
   "execution_count": null,
   "metadata": {},
   "outputs": [],
   "source": []
  },
  {
   "cell_type": "code",
   "execution_count": 126,
   "metadata": {},
   "outputs": [
    {
     "name": "stderr",
     "output_type": "stream",
     "text": [
      "C:\\Users\\Aska\\Anaconda3\\envs\\py36\\lib\\site-packages\\ipykernel_launcher.py:5: DeprecationWarning: Call to deprecated `layer1_size` (Attribute will be removed in 4.0.0, use self.trainables.layer1_size instead).\n",
      "  \"\"\"\n",
      "C:\\Users\\Aska\\Anaconda3\\envs\\py36\\lib\\site-packages\\ipykernel_launcher.py:9: DeprecationWarning: Call to deprecated `__getitem__` (Method will be removed in 4.0.0, use self.wv.__getitem__() instead).\n",
      "  if __name__ == '__main__':\n",
      "C:\\Users\\Aska\\Anaconda3\\envs\\py36\\lib\\site-packages\\ipykernel_launcher.py:11: DeprecationWarning: Call to deprecated `layer1_size` (Attribute will be removed in 4.0.0, use self.trainables.layer1_size instead).\n",
      "  # This is added back by InteractiveShellApp.init_path()\n",
      "C:\\Users\\Aska\\Anaconda3\\envs\\py36\\lib\\site-packages\\ipykernel_launcher.py:22: DeprecationWarning: Call to deprecated `layer1_size` (Attribute will be removed in 4.0.0, use self.trainables.layer1_size instead).\n"
     ]
    },
    {
     "name": "stdout",
     "output_type": "stream",
     "text": [
      "_________________________________________________________________\n",
      "Layer (type)                 Output Shape              Param #   \n",
      "=================================================================\n",
      "embedding_38 (Embedding)     (None, 25, 150)           5379150   \n",
      "_________________________________________________________________\n",
      "conv1d_20 (Conv1D)           (None, 18, 250)           300250    \n",
      "_________________________________________________________________\n",
      "flatten_20 (Flatten)         (None, 4500)              0         \n",
      "_________________________________________________________________\n",
      "dropout_58 (Dropout)         (None, 4500)              0         \n",
      "_________________________________________________________________\n",
      "dense_134 (Dense)            (None, 200)               900200    \n",
      "_________________________________________________________________\n",
      "dense_135 (Dense)            (None, 200)               40200     \n",
      "_________________________________________________________________\n",
      "dropout_59 (Dropout)         (None, 200)               0         \n",
      "_________________________________________________________________\n",
      "dense_136 (Dense)            (None, 70)                14070     \n",
      "_________________________________________________________________\n",
      "dense_137 (Dense)            (None, 70)                4970      \n",
      "_________________________________________________________________\n",
      "dropout_60 (Dropout)         (None, 70)                0         \n",
      "_________________________________________________________________\n",
      "dense_138 (Dense)            (None, 15)                1065      \n",
      "_________________________________________________________________\n",
      "dense_139 (Dense)            (None, 15)                240       \n",
      "_________________________________________________________________\n",
      "dense_140 (Dense)            (None, 1)                 16        \n",
      "=================================================================\n",
      "Total params: 6,640,161\n",
      "Trainable params: 1,261,011\n",
      "Non-trainable params: 5,379,150\n",
      "_________________________________________________________________\n",
      "None\n"
     ]
    }
   ],
   "source": [
    "## Model 150\n",
    "model150,X150=cur_model(X_tr,tokenizer_x,model_emb150)"
   ]
  },
  {
   "cell_type": "code",
   "execution_count": 127,
   "metadata": {
    "scrolled": true
   },
   "outputs": [
    {
     "name": "stdout",
     "output_type": "stream",
     "text": [
      "Wall time: 4min 33s\n"
     ]
    }
   ],
   "source": [
    "%%time\n",
    "csv_logger = CSVLogger(DATA_PATH2+'wemb_log150.csv', append=True, separator=',')\n",
    "model150.fit(X150, Y_true, epochs=EPOCH, batch_size=BATCH,verbose=0,callbacks=[csv_logger])"
   ]
  },
  {
   "cell_type": "code",
   "execution_count": null,
   "metadata": {},
   "outputs": [],
   "source": []
  },
  {
   "cell_type": "code",
   "execution_count": 128,
   "metadata": {},
   "outputs": [
    {
     "name": "stderr",
     "output_type": "stream",
     "text": [
      "C:\\Users\\Aska\\Anaconda3\\envs\\py36\\lib\\site-packages\\ipykernel_launcher.py:5: DeprecationWarning: Call to deprecated `layer1_size` (Attribute will be removed in 4.0.0, use self.trainables.layer1_size instead).\n",
      "  \"\"\"\n",
      "C:\\Users\\Aska\\Anaconda3\\envs\\py36\\lib\\site-packages\\ipykernel_launcher.py:9: DeprecationWarning: Call to deprecated `__getitem__` (Method will be removed in 4.0.0, use self.wv.__getitem__() instead).\n",
      "  if __name__ == '__main__':\n",
      "C:\\Users\\Aska\\Anaconda3\\envs\\py36\\lib\\site-packages\\ipykernel_launcher.py:11: DeprecationWarning: Call to deprecated `layer1_size` (Attribute will be removed in 4.0.0, use self.trainables.layer1_size instead).\n",
      "  # This is added back by InteractiveShellApp.init_path()\n",
      "C:\\Users\\Aska\\Anaconda3\\envs\\py36\\lib\\site-packages\\ipykernel_launcher.py:22: DeprecationWarning: Call to deprecated `layer1_size` (Attribute will be removed in 4.0.0, use self.trainables.layer1_size instead).\n"
     ]
    },
    {
     "name": "stdout",
     "output_type": "stream",
     "text": [
      "_________________________________________________________________\n",
      "Layer (type)                 Output Shape              Param #   \n",
      "=================================================================\n",
      "embedding_39 (Embedding)     (None, 25, 225)           8068725   \n",
      "_________________________________________________________________\n",
      "conv1d_21 (Conv1D)           (None, 18, 250)           450250    \n",
      "_________________________________________________________________\n",
      "flatten_21 (Flatten)         (None, 4500)              0         \n",
      "_________________________________________________________________\n",
      "dropout_61 (Dropout)         (None, 4500)              0         \n",
      "_________________________________________________________________\n",
      "dense_141 (Dense)            (None, 200)               900200    \n",
      "_________________________________________________________________\n",
      "dense_142 (Dense)            (None, 200)               40200     \n",
      "_________________________________________________________________\n",
      "dropout_62 (Dropout)         (None, 200)               0         \n",
      "_________________________________________________________________\n",
      "dense_143 (Dense)            (None, 70)                14070     \n",
      "_________________________________________________________________\n",
      "dense_144 (Dense)            (None, 70)                4970      \n",
      "_________________________________________________________________\n",
      "dropout_63 (Dropout)         (None, 70)                0         \n",
      "_________________________________________________________________\n",
      "dense_145 (Dense)            (None, 15)                1065      \n",
      "_________________________________________________________________\n",
      "dense_146 (Dense)            (None, 15)                240       \n",
      "_________________________________________________________________\n",
      "dense_147 (Dense)            (None, 1)                 16        \n",
      "=================================================================\n",
      "Total params: 9,479,736\n",
      "Trainable params: 1,411,011\n",
      "Non-trainable params: 8,068,725\n",
      "_________________________________________________________________\n",
      "None\n"
     ]
    }
   ],
   "source": [
    "## Model 225\n",
    "model225,X225=cur_model(X_tr,tokenizer_x,model_emb225)"
   ]
  },
  {
   "cell_type": "code",
   "execution_count": 129,
   "metadata": {},
   "outputs": [
    {
     "name": "stdout",
     "output_type": "stream",
     "text": [
      "Wall time: 6min 14s\n"
     ]
    }
   ],
   "source": [
    "%%time\n",
    "csv_logger = CSVLogger(DATA_PATH2+'wemb_log225.csv', append=True, separator=',')\n",
    "model225.fit(X225, Y_true, epochs=EPOCH, batch_size=BATCH,verbose=0,callbacks=[csv_logger])"
   ]
  },
  {
   "cell_type": "code",
   "execution_count": null,
   "metadata": {},
   "outputs": [],
   "source": []
  },
  {
   "cell_type": "code",
   "execution_count": 130,
   "metadata": {},
   "outputs": [
    {
     "name": "stdout",
     "output_type": "stream",
     "text": [
      "Saved model to disk\n",
      "Saved model to disk\n",
      "Saved model to disk\n"
     ]
    }
   ],
   "source": [
    "# Model Saving\n",
    "\n",
    "# serialize model to JSON\n",
    "for model,mod_name in [(model75,\"wemb_model75\"),(model150,\"wemb_model150\"),(model225,\"wemb_model225\")]:\n",
    "    model_json = model.to_json()\n",
    "    with open(MODEL_PATH+mod_name+\".json\", \"w\") as json_file:\n",
    "        json_file.write(model_json)\n",
    "    # serialize weights to HDF5\n",
    "    model.save_weights(MODEL_PATH+mod_name+\"_weight.h5\")\n",
    "    print(\"Saved model to disk\")"
   ]
  },
  {
   "cell_type": "code",
   "execution_count": null,
   "metadata": {},
   "outputs": [],
   "source": []
  },
  {
   "cell_type": "code",
   "execution_count": null,
   "metadata": {},
   "outputs": [],
   "source": []
  },
  {
   "cell_type": "markdown",
   "metadata": {},
   "source": [
    "### Evaluate"
   ]
  },
  {
   "cell_type": "code",
   "execution_count": 131,
   "metadata": {},
   "outputs": [
    {
     "name": "stdout",
     "output_type": "stream",
     "text": [
      "Train Accuracy: 76.429166\n",
      "Train Accuracy: 77.188844\n",
      "Train Accuracy: 77.986680\n"
     ]
    }
   ],
   "source": [
    "for model,X in [(model75,X75),(model150,X150),(model225,X225)]:\n",
    "    loss, acc = model.evaluate(X, Y_true, verbose=0)\n",
    "    print('Train Accuracy: %f' % (acc*100))"
   ]
  },
  {
   "cell_type": "code",
   "execution_count": 132,
   "metadata": {},
   "outputs": [
    {
     "name": "stderr",
     "output_type": "stream",
     "text": [
      "C:\\Users\\Aska\\Anaconda3\\envs\\py36\\lib\\site-packages\\ipykernel_launcher.py:5: DeprecationWarning: Call to deprecated `layer1_size` (Attribute will be removed in 4.0.0, use self.trainables.layer1_size instead).\n",
      "  \"\"\"\n",
      "C:\\Users\\Aska\\Anaconda3\\envs\\py36\\lib\\site-packages\\ipykernel_launcher.py:9: DeprecationWarning: Call to deprecated `__getitem__` (Method will be removed in 4.0.0, use self.wv.__getitem__() instead).\n",
      "  if __name__ == '__main__':\n",
      "C:\\Users\\Aska\\Anaconda3\\envs\\py36\\lib\\site-packages\\ipykernel_launcher.py:11: DeprecationWarning: Call to deprecated `layer1_size` (Attribute will be removed in 4.0.0, use self.trainables.layer1_size instead).\n",
      "  # This is added back by InteractiveShellApp.init_path()\n",
      "C:\\Users\\Aska\\Anaconda3\\envs\\py36\\lib\\site-packages\\ipykernel_launcher.py:22: DeprecationWarning: Call to deprecated `layer1_size` (Attribute will be removed in 4.0.0, use self.trainables.layer1_size instead).\n"
     ]
    }
   ],
   "source": [
    "X_te=dta_te.true_text\n",
    "\n",
    "X75_te=Emb_Lay(X_te,tokenizer_x,model_emb75)[1]\n",
    "X150_te=Emb_Lay(X_te,tokenizer_x,model_emb150)[1]\n",
    "X225_te=Emb_Lay(X_te,tokenizer_x,model_emb225)[1]\n",
    "\n",
    "Y_test=dta_te.conci "
   ]
  },
  {
   "cell_type": "code",
   "execution_count": 133,
   "metadata": {},
   "outputs": [
    {
     "name": "stdout",
     "output_type": "stream",
     "text": [
      "Test Accuracy: 70.169014\n",
      "Test Accuracy: 71.295775\n",
      "Test Accuracy: 73.577465\n"
     ]
    }
   ],
   "source": [
    "for model,X in [(model75,X75_te),(model150,X150_te),(model225,X225_te)]:\n",
    "    loss, acc = model.evaluate(X, Y_test, verbose=0)\n",
    "    print('Test Accuracy: %f' % (acc*100))"
   ]
  },
  {
   "cell_type": "code",
   "execution_count": null,
   "metadata": {},
   "outputs": [],
   "source": []
  },
  {
   "cell_type": "code",
   "execution_count": 134,
   "metadata": {},
   "outputs": [],
   "source": [
    "# https://fasttext.cc/docs/en/crawl-vectors.html"
   ]
  },
  {
   "cell_type": "code",
   "execution_count": null,
   "metadata": {},
   "outputs": [],
   "source": []
  }
 ],
 "metadata": {
  "kernelspec": {
   "display_name": "py36",
   "language": "python",
   "name": "myenv"
  },
  "language_info": {
   "codemirror_mode": {
    "name": "ipython",
    "version": 3
   },
   "file_extension": ".py",
   "mimetype": "text/x-python",
   "name": "python",
   "nbconvert_exporter": "python",
   "pygments_lexer": "ipython3",
   "version": "3.6.5"
  }
 },
 "nbformat": 4,
 "nbformat_minor": 2
}
