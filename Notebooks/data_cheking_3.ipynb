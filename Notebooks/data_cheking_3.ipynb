{
 "cells": [
  {
   "cell_type": "code",
   "execution_count": 1,
   "metadata": {
    "collapsed": true
   },
   "outputs": [],
   "source": [
    "# https://competitions.codalab.org/competitions/16652\n",
    "import pandas as pd\n",
    "import numpy as np\n",
    "import re\n",
    "from nltk.corpus import stopwords\n",
    "from nltk.tokenize import RegexpTokenizer\n",
    "from bs4 import BeautifulSoup"
   ]
  },
  {
   "cell_type": "code",
   "execution_count": 2,
   "metadata": {
    "collapsed": true
   },
   "outputs": [],
   "source": [
    "base_dir_tr='training/'\n",
    "base_dir_vl='validation/'"
   ]
  },
  {
   "cell_type": "code",
   "execution_count": 3,
   "metadata": {
    "collapsed": true
   },
   "outputs": [],
   "source": [
    "dtr=pd.read_csv(base_dir_tr+'data_train.csv',header=None)\n",
    "col_names=['country','sku_id','title','category_lvl_1','category_lvl_2','category_lvl_3','short_description','price','product_type']\n",
    "dtr.columns=col_names\n",
    "\n",
    "#### conciseness_train\n",
    "xtr=open(base_dir_tr+'conciseness_train.labels')\n",
    "concise=[]\n",
    "for l in xtr:\n",
    "    concise.append(int(l))\n",
    "    \n",
    "#### clarity_train\n",
    "xtr=open(base_dir_tr+'clarity_train.labels')\n",
    "clarity=[]\n",
    "for l in xtr:\n",
    "    clarity.append(int(l))\n",
    "\n",
    "dtr['conci']=concise\n",
    "dtr['clari']=clarity"
   ]
  },
  {
   "cell_type": "code",
   "execution_count": 4,
   "metadata": {
    "collapsed": true
   },
   "outputs": [],
   "source": [
    "dvl=pd.read_csv(base_dir_vl+'data_valid.csv',header=None)\n",
    "col_names=['country','sku_id','title','category_lvl_1','category_lvl_2','category_lvl_3','short_description','price','product_type']\n",
    "dvl.columns=col_names"
   ]
  },
  {
   "cell_type": "code",
   "execution_count": null,
   "metadata": {
    "collapsed": true
   },
   "outputs": [],
   "source": []
  },
  {
   "cell_type": "code",
   "execution_count": 5,
   "metadata": {
    "collapsed": true
   },
   "outputs": [],
   "source": [
    "#### data manipulation 1"
   ]
  },
  {
   "cell_type": "code",
   "execution_count": 6,
   "metadata": {
    "collapsed": true
   },
   "outputs": [],
   "source": [
    "dtr_cat=dtr[['sku_id','category_lvl_1','category_lvl_2','category_lvl_3']]\n",
    "dvl_cat=dvl[['sku_id','category_lvl_1','category_lvl_2','category_lvl_3']]"
   ]
  },
  {
   "cell_type": "code",
   "execution_count": 7,
   "metadata": {},
   "outputs": [
    {
     "name": "stderr",
     "output_type": "stream",
     "text": [
      "C:\\Users\\Aska\\Anaconda2\\envs\\snakes3_gpu\\lib\\site-packages\\pandas\\core\\generic.py:3554: SettingWithCopyWarning: \n",
      "A value is trying to be set on a copy of a slice from a DataFrame\n",
      "\n",
      "See the caveats in the documentation: http://pandas.pydata.org/pandas-docs/stable/indexing.html#indexing-view-versus-copy\n",
      "  self._update_inplace(new_data)\n"
     ]
    }
   ],
   "source": [
    "ddc=dict()\n",
    "for cc in dtr_cat:\n",
    "    if cc!='sku_id':\n",
    "        dcat_n=dtr_cat[cc].unique()\n",
    "        dict_c=dict(zip(dcat_n,[i+1 for i in range(len(dcat_n))]))\n",
    "        dtr_cat[cc].replace(dict_c,inplace=1)\n",
    "        ddc[cc]=dict_c\n",
    "        \n",
    "for cc in dvl_cat:\n",
    "    if cc!='sku_id':\n",
    "        dcat_n=dvl_cat[cc].unique()\n",
    "        dict_c=ddc[cc]\n",
    "        dvl_cat[cc].replace(dict_c,inplace=1)"
   ]
  },
  {
   "cell_type": "code",
   "execution_count": 8,
   "metadata": {
    "collapsed": true
   },
   "outputs": [],
   "source": [
    "dtr_cat.to_csv(base_dir_tr+'data_cat_tr.csv',index=0)\n",
    "dvl_cat.to_csv(base_dir_vl+'data_cat_vl.csv',index=0)"
   ]
  },
  {
   "cell_type": "code",
   "execution_count": null,
   "metadata": {
    "collapsed": true
   },
   "outputs": [],
   "source": []
  }
 ],
 "metadata": {
  "anaconda-cloud": {},
  "kernelspec": {
   "display_name": "Python [conda env:snakes3_gpu]",
   "language": "python",
   "name": "conda-env-snakes3_gpu-py"
  },
  "language_info": {
   "codemirror_mode": {
    "name": "ipython",
    "version": 3
   },
   "file_extension": ".py",
   "mimetype": "text/x-python",
   "name": "python",
   "nbconvert_exporter": "python",
   "pygments_lexer": "ipython3",
   "version": "3.5.2"
  }
 },
 "nbformat": 4,
 "nbformat_minor": 2
}
