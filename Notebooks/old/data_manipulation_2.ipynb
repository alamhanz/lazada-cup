{
 "cells": [
  {
   "cell_type": "code",
   "execution_count": 1,
   "metadata": {
    "collapsed": true
   },
   "outputs": [],
   "source": [
    "# https://competitions.codalab.org/competitions/16652\n",
    "import pandas as pd\n",
    "import numpy as np\n",
    "import re\n",
    "from nltk.corpus import stopwords\n",
    "from nltk.tokenize import RegexpTokenizer\n",
    "from bs4 import BeautifulSoup"
   ]
  },
  {
   "cell_type": "code",
   "execution_count": 2,
   "metadata": {
    "collapsed": true
   },
   "outputs": [],
   "source": [
    "base_dir_tr='training/'\n",
    "base_dir_vl='validation/'"
   ]
  },
  {
   "cell_type": "code",
   "execution_count": 3,
   "metadata": {
    "collapsed": true
   },
   "outputs": [],
   "source": [
    "dtr=pd.read_csv(base_dir_tr+'data_manipulation_15k_tr.csv',encoding='ISO-8859-1')\n",
    "dtr_ti=pd.read_csv(base_dir_tr+'data_title_15k_tr.csv',encoding='ISO-8859-1')\n",
    "dtr2=pd.merge(dtr[['sku_id','rank_short_des']],dtr_ti,how='left',on='sku_id')[['sku_id','rank_short_des','rank_title','conci','clari']]\n",
    "\n",
    "# dtr2=dtr[['sku_id','rank_short_des']]\n",
    "# dtr_ti2=dtr_ti[['sku_id','rank_title','conci','clari']]\n",
    "\n",
    "\n",
    "dvl=pd.read_csv(base_dir_vl+'data_manipulation_15k_vl.csv',encoding='ISO-8859-1')\n",
    "dvl_ti=pd.read_csv(base_dir_vl+'data_title_15k_vl.csv',encoding='ISO-8859-1')\n",
    "dvl2=pd.merge(dvl[['sku_id','rank_short_des']],dvl_ti,how='left',on='sku_id')[['sku_id','rank_short_des','rank_title']]\n"
   ]
  },
  {
   "cell_type": "code",
   "execution_count": 4,
   "metadata": {},
   "outputs": [
    {
     "data": {
      "text/html": [
       "<div>\n",
       "<table border=\"1\" class=\"dataframe\">\n",
       "  <thead>\n",
       "    <tr style=\"text-align: right;\">\n",
       "      <th></th>\n",
       "      <th>sku_id</th>\n",
       "      <th>rank_short_des</th>\n",
       "      <th>rank_title</th>\n",
       "      <th>conci</th>\n",
       "      <th>clari</th>\n",
       "    </tr>\n",
       "  </thead>\n",
       "  <tbody>\n",
       "    <tr>\n",
       "      <th>0</th>\n",
       "      <td>AD674FAASTLXANMY</td>\n",
       "      <td>[1, 89, 2710, 4230, 0, 2642, 13, 2642, 446, 24...</td>\n",
       "      <td>[0, 7533, 0, 363, 1959, 42, 37]</td>\n",
       "      <td>1</td>\n",
       "      <td>1</td>\n",
       "    </tr>\n",
       "    <tr>\n",
       "      <th>1</th>\n",
       "      <td>AE068HBAA3RPRDANMY</td>\n",
       "      <td>[1012, 282, 48, 2495, 4548, 13079, 1511, 33, 4...</td>\n",
       "      <td>[0, 0, 396, 313, 950, 381, 349, 8, 1782]</td>\n",
       "      <td>1</td>\n",
       "      <td>1</td>\n",
       "    </tr>\n",
       "    <tr>\n",
       "      <th>2</th>\n",
       "      <td>AN680ELAA9VN57ANMY</td>\n",
       "      <td>[3457, 184, 452, 37, 73, 776, 1005, 253, 326, ...</td>\n",
       "      <td>[2105, 4692, 1347, 408, 26, 108, 9468, 6905, 4...</td>\n",
       "      <td>0</td>\n",
       "      <td>1</td>\n",
       "    </tr>\n",
       "    <tr>\n",
       "      <th>3</th>\n",
       "      <td>AN957HBAAAHDF4ANMY</td>\n",
       "      <td>[0, 0, 1494, 167, 1695, 0, 2286, 6029, 693, 32...</td>\n",
       "      <td>[0, 0, 3009, 24, 0, 715, 0, 774, 885]</td>\n",
       "      <td>1</td>\n",
       "      <td>1</td>\n",
       "    </tr>\n",
       "    <tr>\n",
       "      <th>4</th>\n",
       "      <td>AR511HBAXNWAANMY</td>\n",
       "      <td>[15, 737, 0, 2079, 33, 34, 1675, 693, 1377, 1314]</td>\n",
       "      <td>[10204, 0, 43, 2794, 345, 116, 885]</td>\n",
       "      <td>1</td>\n",
       "      <td>1</td>\n",
       "    </tr>\n",
       "  </tbody>\n",
       "</table>\n",
       "</div>"
      ],
      "text/plain": [
       "               sku_id                                     rank_short_des  \\\n",
       "0    AD674FAASTLXANMY  [1, 89, 2710, 4230, 0, 2642, 13, 2642, 446, 24...   \n",
       "1  AE068HBAA3RPRDANMY  [1012, 282, 48, 2495, 4548, 13079, 1511, 33, 4...   \n",
       "2  AN680ELAA9VN57ANMY  [3457, 184, 452, 37, 73, 776, 1005, 253, 326, ...   \n",
       "3  AN957HBAAAHDF4ANMY  [0, 0, 1494, 167, 1695, 0, 2286, 6029, 693, 32...   \n",
       "4    AR511HBAXNWAANMY  [15, 737, 0, 2079, 33, 34, 1675, 693, 1377, 1314]   \n",
       "\n",
       "                                          rank_title  conci  clari  \n",
       "0                    [0, 7533, 0, 363, 1959, 42, 37]      1      1  \n",
       "1           [0, 0, 396, 313, 950, 381, 349, 8, 1782]      1      1  \n",
       "2  [2105, 4692, 1347, 408, 26, 108, 9468, 6905, 4...      0      1  \n",
       "3              [0, 0, 3009, 24, 0, 715, 0, 774, 885]      1      1  \n",
       "4                [10204, 0, 43, 2794, 345, 116, 885]      1      1  "
      ]
     },
     "execution_count": 4,
     "metadata": {},
     "output_type": "execute_result"
    }
   ],
   "source": [
    "dtr2.head()"
   ]
  },
  {
   "cell_type": "code",
   "execution_count": 5,
   "metadata": {},
   "outputs": [
    {
     "data": {
      "text/html": [
       "<div>\n",
       "<table border=\"1\" class=\"dataframe\">\n",
       "  <thead>\n",
       "    <tr style=\"text-align: right;\">\n",
       "      <th></th>\n",
       "      <th>sku_id</th>\n",
       "      <th>rank_short_des</th>\n",
       "      <th>rank_title</th>\n",
       "    </tr>\n",
       "  </thead>\n",
       "  <tbody>\n",
       "    <tr>\n",
       "      <th>0</th>\n",
       "      <td>AP564ELASSTWANMY</td>\n",
       "      <td>[469, 13, 7764, 408, 197, 2073, 245, 122, 1712...</td>\n",
       "      <td>[41, 297, 131, 0, 299, 1184, 253, 20, 92, 1056...</td>\n",
       "    </tr>\n",
       "    <tr>\n",
       "      <th>1</th>\n",
       "      <td>BR924HBAA5B3TLANMY</td>\n",
       "      <td>[11241, 141, 4417, 3285, 815, 0, 315, 1306, 23...</td>\n",
       "      <td>[166, 2085, 5471, 1295, 267, 3943, 22, 378, 18...</td>\n",
       "    </tr>\n",
       "    <tr>\n",
       "      <th>2</th>\n",
       "      <td>CA673ELAA5UG3XANMY</td>\n",
       "      <td>[388, 2067, 2177, 279, 971, 333, 4649, 30, 428...</td>\n",
       "      <td>[330, 1154, 2771, 2086, 78, 31, 6669, 253, 420...</td>\n",
       "    </tr>\n",
       "    <tr>\n",
       "      <th>3</th>\n",
       "      <td>DE759ELAA7QM1XANMY</td>\n",
       "      <td>[171, 982, 13, 1101, 405, 175, 926, 4517, 75, ...</td>\n",
       "      <td>[971, 33, 292, 1170, 0]</td>\n",
       "    </tr>\n",
       "    <tr>\n",
       "      <th>4</th>\n",
       "      <td>ES802OTAABHAY8ANMY</td>\n",
       "      <td>[54, 36, 19, 765, 314, 1474, 32, 119, 40, 203,...</td>\n",
       "      <td>[11990, 0, 12507, 5056, 1998, 0, 355, 10, 69, ...</td>\n",
       "    </tr>\n",
       "  </tbody>\n",
       "</table>\n",
       "</div>"
      ],
      "text/plain": [
       "               sku_id                                     rank_short_des  \\\n",
       "0    AP564ELASSTWANMY  [469, 13, 7764, 408, 197, 2073, 245, 122, 1712...   \n",
       "1  BR924HBAA5B3TLANMY  [11241, 141, 4417, 3285, 815, 0, 315, 1306, 23...   \n",
       "2  CA673ELAA5UG3XANMY  [388, 2067, 2177, 279, 971, 333, 4649, 30, 428...   \n",
       "3  DE759ELAA7QM1XANMY  [171, 982, 13, 1101, 405, 175, 926, 4517, 75, ...   \n",
       "4  ES802OTAABHAY8ANMY  [54, 36, 19, 765, 314, 1474, 32, 119, 40, 203,...   \n",
       "\n",
       "                                          rank_title  \n",
       "0  [41, 297, 131, 0, 299, 1184, 253, 20, 92, 1056...  \n",
       "1  [166, 2085, 5471, 1295, 267, 3943, 22, 378, 18...  \n",
       "2  [330, 1154, 2771, 2086, 78, 31, 6669, 253, 420...  \n",
       "3                            [971, 33, 292, 1170, 0]  \n",
       "4  [11990, 0, 12507, 5056, 1998, 0, 355, 10, 69, ...  "
      ]
     },
     "execution_count": 5,
     "metadata": {},
     "output_type": "execute_result"
    }
   ],
   "source": [
    "dvl2.head()"
   ]
  },
  {
   "cell_type": "code",
   "execution_count": 6,
   "metadata": {
    "collapsed": true
   },
   "outputs": [],
   "source": [
    "dtr2.to_csv(base_dir_tr+'data_manipulation_2_train.csv',index=0)\n",
    "dvl2.to_csv(base_dir_vl+'data_manipulation_2_valid.csv',index=0)"
   ]
  },
  {
   "cell_type": "code",
   "execution_count": null,
   "metadata": {
    "collapsed": true
   },
   "outputs": [],
   "source": []
  },
  {
   "cell_type": "code",
   "execution_count": null,
   "metadata": {
    "collapsed": true
   },
   "outputs": [],
   "source": []
  }
 ],
 "metadata": {
  "anaconda-cloud": {},
  "kernelspec": {
   "display_name": "Python [conda env:snakes3_gpu]",
   "language": "python",
   "name": "conda-env-snakes3_gpu-py"
  },
  "language_info": {
   "codemirror_mode": {
    "name": "ipython",
    "version": 3
   },
   "file_extension": ".py",
   "mimetype": "text/x-python",
   "name": "python",
   "nbconvert_exporter": "python",
   "pygments_lexer": "ipython3",
   "version": "3.5.2"
  }
 },
 "nbformat": 4,
 "nbformat_minor": 2
}
