{
 "cells": [
  {
   "cell_type": "code",
   "execution_count": 2,
   "metadata": {},
   "outputs": [
    {
     "name": "stderr",
     "output_type": "stream",
     "text": [
      "Using TensorFlow backend.\n"
     ]
    }
   ],
   "source": [
    "import numpy as np\n",
    "import pandas as pd\n",
    "from keras.preprocessing import sequence\n",
    "from keras.models import load_model\n",
    "from keras.preprocessing import sequence\n",
    "from keras.callbacks import TensorBoard\n",
    "import ast\n",
    "from sklearn.model_selection import train_test_split\n",
    "from sklearn.metrics import mean_squared_error as mse\n",
    "from sklearn.utils import class_weight"
   ]
  },
  {
   "cell_type": "code",
   "execution_count": null,
   "metadata": {
    "collapsed": true
   },
   "outputs": [],
   "source": []
  },
  {
   "cell_type": "code",
   "execution_count": 3,
   "metadata": {},
   "outputs": [],
   "source": [
    "base_dir_vl='validation/'\n",
    "top_words = 20000\n",
    "dtv_1=pd.read_csv(base_dir_vl+'data_manipulation_2_2_valid.csv',encoding='ISO-8859-1')"
   ]
  },
  {
   "cell_type": "code",
   "execution_count": 4,
   "metadata": {
    "collapsed": true
   },
   "outputs": [],
   "source": [
    "Xsd=dtv_1.rank_short_des.as_matrix()\n",
    "Xsd=np.array([ast.literal_eval(cd) for cd in Xsd])\n",
    "\n",
    "Xti=dtv_1.rank_title.as_matrix()\n",
    "Xti=np.array([ast.literal_eval(cd) for cd in Xti])"
   ]
  },
  {
   "cell_type": "code",
   "execution_count": 5,
   "metadata": {
    "collapsed": true
   },
   "outputs": [],
   "source": [
    "max_review_length = 100\n",
    "Xsd = sequence.pad_sequences(Xsd, maxlen=max_review_length)\n",
    "Xti = sequence.pad_sequences(Xti, maxlen=max_review_length)\n",
    "\n",
    "X=[]\n",
    "for i,j in zip(Xsd,Xti):\n",
    "    X.append(list(j)+list(i))\n",
    "X=np.array(X)"
   ]
  },
  {
   "cell_type": "markdown",
   "metadata": {},
   "source": [
    "#### yco and ycl result"
   ]
  },
  {
   "cell_type": "code",
   "execution_count": 6,
   "metadata": {},
   "outputs": [
    {
     "name": "stderr",
     "output_type": "stream",
     "text": [
      "C:\\Users\\Aska\\Anaconda2\\envs\\snakes3_gpu\\lib\\site-packages\\keras\\engine\\topology.py:1231: UserWarning: The `dropout` argument is no longer support in `Embedding`. You can apply a `keras.layers.SpatialDropout1D` layer right after the `Embedding` layer to get the same behavior.\n",
      "  return cls(**config)\n",
      "C:\\Users\\Aska\\Anaconda2\\envs\\snakes3_gpu\\lib\\site-packages\\keras\\engine\\topology.py:1231: UserWarning: Update your `Embedding` call to the Keras 2 API: `Embedding(input_dim=20000, embeddings_regularizer=None, output_dim=150, batch_input_shape=[None, 200..., embeddings_initializer=\"uniform\", trainable=True, input_dtype=\"int32\", input_length=200, activity_regularizer=None, mask_zero=False, name=\"embedding_4\", embeddings_constraint=None)`\n",
      "  return cls(**config)\n",
      "C:\\Users\\Aska\\Anaconda2\\envs\\snakes3_gpu\\lib\\site-packages\\keras\\engine\\topology.py:1231: UserWarning: Update your `Conv1D` call to the Keras 2 API: `Conv1D(kernel_size=3, name=\"convolution1d_17\", input_shape=(None, Non..., kernel_initializer=\"glorot_uniform\", strides=1, kernel_regularizer=None, padding=\"same\", bias_regularizer=None, kernel_constraint=None, filters=256, trainable=True, bias_constraint=None, use_bias=True, activation=\"linear\", activity_regularizer=None)`\n",
      "  return cls(**config)\n",
      "C:\\Users\\Aska\\Anaconda2\\envs\\snakes3_gpu\\lib\\site-packages\\keras\\engine\\topology.py:1231: UserWarning: Update your `Conv1D` call to the Keras 2 API: `Conv1D(kernel_size=3, name=\"convolution1d_18\", input_shape=(None, Non..., kernel_initializer=\"glorot_uniform\", strides=1, kernel_regularizer=None, padding=\"same\", bias_regularizer=None, kernel_constraint=None, filters=64, trainable=True, bias_constraint=None, use_bias=True, activation=\"linear\", activity_regularizer=None)`\n",
      "  return cls(**config)\n",
      "C:\\Users\\Aska\\Anaconda2\\envs\\snakes3_gpu\\lib\\site-packages\\keras\\engine\\topology.py:1231: UserWarning: Update your `Conv1D` call to the Keras 2 API: `Conv1D(kernel_size=3, name=\"convolution1d_19\", input_shape=(None, Non..., kernel_initializer=\"glorot_uniform\", strides=1, kernel_regularizer=None, padding=\"same\", bias_regularizer=None, kernel_constraint=None, filters=32, trainable=True, bias_constraint=None, use_bias=True, activation=\"linear\", activity_regularizer=None)`\n",
      "  return cls(**config)\n",
      "C:\\Users\\Aska\\Anaconda2\\envs\\snakes3_gpu\\lib\\site-packages\\keras\\engine\\topology.py:1231: UserWarning: Update your `Conv1D` call to the Keras 2 API: `Conv1D(kernel_size=3, name=\"convolution1d_20\", input_shape=(None, Non..., kernel_initializer=\"glorot_uniform\", strides=1, kernel_regularizer=None, padding=\"same\", bias_regularizer=None, kernel_constraint=None, filters=16, trainable=True, bias_constraint=None, use_bias=True, activation=\"linear\", activity_regularizer=None)`\n",
      "  return cls(**config)\n",
      "C:\\Users\\Aska\\Anaconda2\\envs\\snakes3_gpu\\lib\\site-packages\\keras\\engine\\topology.py:1231: UserWarning: Update your `Conv1D` call to the Keras 2 API: `Conv1D(kernel_size=3, name=\"convolution1d_21\", input_shape=(None, Non..., kernel_initializer=\"glorot_uniform\", strides=1, kernel_regularizer=None, padding=\"same\", bias_regularizer=None, kernel_constraint=None, filters=8, trainable=True, bias_constraint=None, use_bias=True, activation=\"linear\", activity_regularizer=None)`\n",
      "  return cls(**config)\n",
      "C:\\Users\\Aska\\Anaconda2\\envs\\snakes3_gpu\\lib\\site-packages\\keras\\engine\\topology.py:1231: UserWarning: Update your `Dropout` call to the Keras 2 API: `Dropout(name=\"dropout_7\", trainable=True, rate=0.2)`\n",
      "  return cls(**config)\n",
      "C:\\Users\\Aska\\Anaconda2\\envs\\snakes3_gpu\\lib\\site-packages\\keras\\engine\\topology.py:1231: UserWarning: Update your `Dense` call to the Keras 2 API: `Dense(input_dim=1600, bias_regularizer=None, units=180, name=\"dense_12\", kernel_constraint=None, use_bias=True, kernel_initializer=\"glorot_uniform\", trainable=True, bias_constraint=None, activation=\"sigmoid\", activity_regularizer=None, kernel_regularizer=None)`\n",
      "  return cls(**config)\n",
      "C:\\Users\\Aska\\Anaconda2\\envs\\snakes3_gpu\\lib\\site-packages\\keras\\engine\\topology.py:1231: UserWarning: Update your `Dropout` call to the Keras 2 API: `Dropout(name=\"dropout_8\", trainable=True, rate=0.2)`\n",
      "  return cls(**config)\n",
      "C:\\Users\\Aska\\Anaconda2\\envs\\snakes3_gpu\\lib\\site-packages\\keras\\engine\\topology.py:1231: UserWarning: Update your `Dense` call to the Keras 2 API: `Dense(input_dim=180, bias_regularizer=None, units=1, name=\"dense_13\", kernel_constraint=None, use_bias=True, kernel_initializer=\"glorot_uniform\", trainable=True, bias_constraint=None, activation=\"sigmoid\", activity_regularizer=None, kernel_regularizer=None)`\n",
      "  return cls(**config)\n"
     ]
    },
    {
     "ename": "ValueError",
     "evalue": "Optimizer weight shape (256,) not compatible with provided weight shape (3, 1, 150, 256)",
     "output_type": "error",
     "traceback": [
      "\u001b[1;31m---------------------------------------------------------------------------\u001b[0m",
      "\u001b[1;31mValueError\u001b[0m                                Traceback (most recent call last)",
      "\u001b[1;32m<ipython-input-6-aa34696d45b8>\u001b[0m in \u001b[0;36m<module>\u001b[1;34m()\u001b[0m\n\u001b[1;32m----> 1\u001b[1;33m \u001b[0myco_model\u001b[0m\u001b[1;33m=\u001b[0m\u001b[0mload_model\u001b[0m\u001b[1;33m(\u001b[0m\u001b[1;34m'model_yco_2_2.h5'\u001b[0m\u001b[1;33m)\u001b[0m\u001b[1;33m\u001b[0m\u001b[0m\n\u001b[0m\u001b[0;32m      2\u001b[0m \u001b[1;31m# ycl_model=load_model('model_ycl_2_1_2.h5')\u001b[0m\u001b[1;33m\u001b[0m\u001b[1;33m\u001b[0m\u001b[0m\n\u001b[0;32m      3\u001b[0m \u001b[1;33m\u001b[0m\u001b[0m\n\u001b[0;32m      4\u001b[0m \u001b[0myco_predp\u001b[0m\u001b[1;33m=\u001b[0m\u001b[0myco_model\u001b[0m\u001b[1;33m.\u001b[0m\u001b[0mpredict\u001b[0m\u001b[1;33m(\u001b[0m\u001b[0mX\u001b[0m\u001b[1;33m)\u001b[0m\u001b[1;33m\u001b[0m\u001b[0m\n\u001b[0;32m      5\u001b[0m \u001b[1;31m# ycl_predp=ycl_model.predict(X)\u001b[0m\u001b[1;33m\u001b[0m\u001b[1;33m\u001b[0m\u001b[0m\n",
      "\u001b[1;32mC:\\Users\\Aska\\Anaconda2\\envs\\snakes3_gpu\\lib\\site-packages\\keras\\models.py\u001b[0m in \u001b[0;36mload_model\u001b[1;34m(filepath, custom_objects)\u001b[0m\n\u001b[0;32m    278\u001b[0m         \u001b[0moptimizer_weight_names\u001b[0m \u001b[1;33m=\u001b[0m \u001b[1;33m[\u001b[0m\u001b[0mn\u001b[0m\u001b[1;33m.\u001b[0m\u001b[0mdecode\u001b[0m\u001b[1;33m(\u001b[0m\u001b[1;34m'utf8'\u001b[0m\u001b[1;33m)\u001b[0m \u001b[1;32mfor\u001b[0m \u001b[0mn\u001b[0m \u001b[1;32min\u001b[0m \u001b[0moptimizer_weights_group\u001b[0m\u001b[1;33m.\u001b[0m\u001b[0mattrs\u001b[0m\u001b[1;33m[\u001b[0m\u001b[1;34m'weight_names'\u001b[0m\u001b[1;33m]\u001b[0m\u001b[1;33m]\u001b[0m\u001b[1;33m\u001b[0m\u001b[0m\n\u001b[0;32m    279\u001b[0m         \u001b[0moptimizer_weight_values\u001b[0m \u001b[1;33m=\u001b[0m \u001b[1;33m[\u001b[0m\u001b[0moptimizer_weights_group\u001b[0m\u001b[1;33m[\u001b[0m\u001b[0mn\u001b[0m\u001b[1;33m]\u001b[0m \u001b[1;32mfor\u001b[0m \u001b[0mn\u001b[0m \u001b[1;32min\u001b[0m \u001b[0moptimizer_weight_names\u001b[0m\u001b[1;33m]\u001b[0m\u001b[1;33m\u001b[0m\u001b[0m\n\u001b[1;32m--> 280\u001b[1;33m         \u001b[0mmodel\u001b[0m\u001b[1;33m.\u001b[0m\u001b[0moptimizer\u001b[0m\u001b[1;33m.\u001b[0m\u001b[0mset_weights\u001b[0m\u001b[1;33m(\u001b[0m\u001b[0moptimizer_weight_values\u001b[0m\u001b[1;33m)\u001b[0m\u001b[1;33m\u001b[0m\u001b[0m\n\u001b[0m\u001b[0;32m    281\u001b[0m     \u001b[0mf\u001b[0m\u001b[1;33m.\u001b[0m\u001b[0mclose\u001b[0m\u001b[1;33m(\u001b[0m\u001b[1;33m)\u001b[0m\u001b[1;33m\u001b[0m\u001b[0m\n\u001b[0;32m    282\u001b[0m     \u001b[1;32mreturn\u001b[0m \u001b[0mmodel\u001b[0m\u001b[1;33m\u001b[0m\u001b[0m\n",
      "\u001b[1;32mC:\\Users\\Aska\\Anaconda2\\envs\\snakes3_gpu\\lib\\site-packages\\keras\\optimizers.py\u001b[0m in \u001b[0;36mset_weights\u001b[1;34m(self, weights)\u001b[0m\n\u001b[0;32m     77\u001b[0m                                  \u001b[0mstr\u001b[0m\u001b[1;33m(\u001b[0m\u001b[0mpv\u001b[0m\u001b[1;33m.\u001b[0m\u001b[0mshape\u001b[0m\u001b[1;33m)\u001b[0m \u001b[1;33m+\u001b[0m\u001b[1;33m\u001b[0m\u001b[0m\n\u001b[0;32m     78\u001b[0m                                  \u001b[1;34m' not compatible with '\u001b[0m\u001b[1;33m\u001b[0m\u001b[0m\n\u001b[1;32m---> 79\u001b[1;33m                                  'provided weight shape ' + str(w.shape))\n\u001b[0m\u001b[0;32m     80\u001b[0m             \u001b[0mweight_value_tuples\u001b[0m\u001b[1;33m.\u001b[0m\u001b[0mappend\u001b[0m\u001b[1;33m(\u001b[0m\u001b[1;33m(\u001b[0m\u001b[0mp\u001b[0m\u001b[1;33m,\u001b[0m \u001b[0mw\u001b[0m\u001b[1;33m)\u001b[0m\u001b[1;33m)\u001b[0m\u001b[1;33m\u001b[0m\u001b[0m\n\u001b[0;32m     81\u001b[0m         \u001b[0mK\u001b[0m\u001b[1;33m.\u001b[0m\u001b[0mbatch_set_value\u001b[0m\u001b[1;33m(\u001b[0m\u001b[0mweight_value_tuples\u001b[0m\u001b[1;33m)\u001b[0m\u001b[1;33m\u001b[0m\u001b[0m\n",
      "\u001b[1;31mValueError\u001b[0m: Optimizer weight shape (256,) not compatible with provided weight shape (3, 1, 150, 256)"
     ]
    }
   ],
   "source": [
    "yco_model=load_model('model_yco_2_2.h5')\n",
    "# ycl_model=load_model('model_ycl_2_1_2.h5')\n",
    "\n",
    "yco_predp=yco_model.predict(X)\n",
    "# ycl_predp=ycl_model.predict(X)"
   ]
  },
  {
   "cell_type": "code",
   "execution_count": 6,
   "metadata": {
    "collapsed": true
   },
   "outputs": [],
   "source": [
    "yco_predp=[i[0] for i in yco_predp]\n",
    "ycl_predp=[i[0] for i in ycl_predp]"
   ]
  },
  {
   "cell_type": "code",
   "execution_count": 7,
   "metadata": {
    "collapsed": true
   },
   "outputs": [],
   "source": [
    "with open('conciseness_valid.predict','w') as fco:\n",
    "    for pp in yco_predp:\n",
    "        fco.write(str(pp))\n",
    "        fco.write('\\n')\n",
    "fco.close()\n",
    "\n",
    "with open('clarity_valid.predict','w') as fcl:\n",
    "    for pp in ycl_predp:\n",
    "        fcl.write(str(pp))\n",
    "        fcl.write('\\n')\n",
    "fcl.close()"
   ]
  },
  {
   "cell_type": "code",
   "execution_count": 8,
   "metadata": {},
   "outputs": [
    {
     "name": "stdout",
     "output_type": "stream",
     "text": [
      "11838 11838\n"
     ]
    }
   ],
   "source": [
    "print(len(yco_predp),len(ycl_predp))"
   ]
  },
  {
   "cell_type": "code",
   "execution_count": null,
   "metadata": {
    "collapsed": true
   },
   "outputs": [],
   "source": []
  },
  {
   "cell_type": "code",
   "execution_count": null,
   "metadata": {
    "collapsed": true
   },
   "outputs": [],
   "source": []
  }
 ],
 "metadata": {
  "anaconda-cloud": {},
  "kernelspec": {
   "display_name": "Python [conda env:snakes3_gpu]",
   "language": "python",
   "name": "conda-env-snakes3_gpu-py"
  },
  "language_info": {
   "codemirror_mode": {
    "name": "ipython",
    "version": 3
   },
   "file_extension": ".py",
   "mimetype": "text/x-python",
   "name": "python",
   "nbconvert_exporter": "python",
   "pygments_lexer": "ipython3",
   "version": "3.5.2"
  }
 },
 "nbformat": 4,
 "nbformat_minor": 2
}
