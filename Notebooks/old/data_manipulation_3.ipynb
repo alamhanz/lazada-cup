{
 "cells": [
  {
   "cell_type": "code",
   "execution_count": 4,
   "metadata": {
    "collapsed": true
   },
   "outputs": [],
   "source": [
    "# https://competitions.codalab.org/competitions/16652\n",
    "import pandas as pd\n",
    "import numpy as np\n",
    "import re\n",
    "from nltk.corpus import stopwords\n",
    "from nltk.tokenize import RegexpTokenizer\n",
    "from bs4 import BeautifulSoup"
   ]
  },
  {
   "cell_type": "code",
   "execution_count": 5,
   "metadata": {
    "collapsed": true
   },
   "outputs": [],
   "source": [
    "base_dir_tr='training/'\n",
    "base_dir_vl='validation/'"
   ]
  },
  {
   "cell_type": "code",
   "execution_count": 6,
   "metadata": {
    "collapsed": true
   },
   "outputs": [],
   "source": [
    "dtr=pd.read_csv(base_dir_tr+'data_train.csv',encoding='ISO-8859-1')\n",
    "dvl=pd.read_csv(base_dir_vl+'data_valid.csv',encoding='ISO-8859-1')\n"
   ]
  },
  {
   "cell_type": "code",
   "execution_count": 7,
   "metadata": {},
   "outputs": [
    {
     "data": {
      "text/html": [
       "<div>\n",
       "<table border=\"1\" class=\"dataframe\">\n",
       "  <thead>\n",
       "    <tr style=\"text-align: right;\">\n",
       "      <th></th>\n",
       "      <th>my</th>\n",
       "      <th>AD674FAASTLXANMY</th>\n",
       "      <th>Adana Gallery Suri Square Hijab â Light Pink</th>\n",
       "      <th>Fashion</th>\n",
       "      <th>Women</th>\n",
       "      <th>Muslim Wear</th>\n",
       "      <th>&lt;ul&gt;&lt;li&gt;Material : Non sheer shimmer chiffon&lt;/li&gt;&lt;li&gt;Sizes : 52 x 52 inches OR 56 x 56 inches&lt;/li&gt;&lt;li&gt;CutÂ with curved ends&lt;/li&gt;&lt;/ul&gt;</th>\n",
       "      <th>49.0</th>\n",
       "      <th>local</th>\n",
       "    </tr>\n",
       "  </thead>\n",
       "  <tbody>\n",
       "    <tr>\n",
       "      <th>0</th>\n",
       "      <td>my</td>\n",
       "      <td>AE068HBAA3RPRDANMY</td>\n",
       "      <td>Cuba Heartbreaker Eau De Parfum Spray 100ml/3.3oz</td>\n",
       "      <td>Health &amp; Beauty</td>\n",
       "      <td>Bath &amp; Body</td>\n",
       "      <td>Hand &amp; Foot Care</td>\n",
       "      <td>Formulated with oil-free hydrating botanicals/...</td>\n",
       "      <td>128.00</td>\n",
       "      <td>international</td>\n",
       "    </tr>\n",
       "    <tr>\n",
       "      <th>1</th>\n",
       "      <td>my</td>\n",
       "      <td>AN680ELAA9VN57ANMY</td>\n",
       "      <td>Andoer 150cm Cellphone Smartphone Mini Dual-He...</td>\n",
       "      <td>TV, Audio / Video, Gaming &amp; Wearables</td>\n",
       "      <td>Audio</td>\n",
       "      <td>Live Sound &amp; Stage</td>\n",
       "      <td>&lt;ul&gt; &lt;li&gt;150cm mini microphone compatible for ...</td>\n",
       "      <td>25.07</td>\n",
       "      <td>international</td>\n",
       "    </tr>\n",
       "    <tr>\n",
       "      <th>2</th>\n",
       "      <td>my</td>\n",
       "      <td>AN957HBAAAHDF4ANMY</td>\n",
       "      <td>ANMYNA Complaint Silky Set æé¡ºæ´åé",
       "å¥ ...</td>\n",
       "      <td>Health &amp; Beauty</td>\n",
       "      <td>Hair Care</td>\n",
       "      <td>Shampoos &amp; Conditioners</td>\n",
       "      <td>&lt;ul&gt; &lt;li&gt;ANMYNA Complaint Silky Set (Shampoo 5...</td>\n",
       "      <td>118.00</td>\n",
       "      <td>local</td>\n",
       "    </tr>\n",
       "    <tr>\n",
       "      <th>3</th>\n",
       "      <td>my</td>\n",
       "      <td>AR511HBAXNWAANMY</td>\n",
       "      <td>Argital Argiltubo Green Clay For Face and Body...</td>\n",
       "      <td>Health &amp; Beauty</td>\n",
       "      <td>Men's Care</td>\n",
       "      <td>Body and Skin Care</td>\n",
       "      <td>&lt;ul&gt; &lt;li&gt;100% Authentic&lt;/li&gt; &lt;li&gt;Rrefresh and ...</td>\n",
       "      <td>114.80</td>\n",
       "      <td>international</td>\n",
       "    </tr>\n",
       "    <tr>\n",
       "      <th>4</th>\n",
       "      <td>my</td>\n",
       "      <td>AS575ELCMZ4WANMY</td>\n",
       "      <td>Asus TP300LJ-DW004H Transformer Book Flip 4GB ...</td>\n",
       "      <td>Computers &amp; Laptops</td>\n",
       "      <td>Laptops</td>\n",
       "      <td>Traditional Laptops</td>\n",
       "      <td>&lt;div class=\"prod_content\"&gt; &lt;div class=\"prod_de...</td>\n",
       "      <td>2599.00</td>\n",
       "      <td>local</td>\n",
       "    </tr>\n",
       "  </tbody>\n",
       "</table>\n",
       "</div>"
      ],
      "text/plain": [
       "   my    AD674FAASTLXANMY     Adana Gallery Suri Square Hijab â Light Pink  \\\n",
       "0  my  AE068HBAA3RPRDANMY  Cuba Heartbreaker Eau De Parfum Spray 100ml/3.3oz   \n",
       "1  my  AN680ELAA9VN57ANMY  Andoer 150cm Cellphone Smartphone Mini Dual-He...   \n",
       "2  my  AN957HBAAAHDF4ANMY  ANMYNA Complaint Silky Set æé¡ºæ´åé\n",
       "å¥ ...   \n",
       "3  my    AR511HBAXNWAANMY  Argital Argiltubo Green Clay For Face and Body...   \n",
       "4  my    AS575ELCMZ4WANMY  Asus TP300LJ-DW004H Transformer Book Flip 4GB ...   \n",
       "\n",
       "                                 Fashion        Women  \\\n",
       "0                        Health & Beauty  Bath & Body   \n",
       "1  TV, Audio / Video, Gaming & Wearables        Audio   \n",
       "2                        Health & Beauty    Hair Care   \n",
       "3                        Health & Beauty   Men's Care   \n",
       "4                    Computers & Laptops      Laptops   \n",
       "\n",
       "               Muslim Wear  \\\n",
       "0         Hand & Foot Care   \n",
       "1       Live Sound & Stage   \n",
       "2  Shampoos & Conditioners   \n",
       "3       Body and Skin Care   \n",
       "4      Traditional Laptops   \n",
       "\n",
       "  <ul><li>Material : Non sheer shimmer chiffon</li><li>Sizes : 52 x 52 inches OR 56 x 56 inches</li><li>CutÂ with curved ends</li></ul>  \\\n",
       "0  Formulated with oil-free hydrating botanicals/...                                                                                      \n",
       "1  <ul> <li>150cm mini microphone compatible for ...                                                                                      \n",
       "2  <ul> <li>ANMYNA Complaint Silky Set (Shampoo 5...                                                                                      \n",
       "3  <ul> <li>100% Authentic</li> <li>Rrefresh and ...                                                                                      \n",
       "4  <div class=\"prod_content\"> <div class=\"prod_de...                                                                                      \n",
       "\n",
       "      49.0          local  \n",
       "0   128.00  international  \n",
       "1    25.07  international  \n",
       "2   118.00          local  \n",
       "3   114.80  international  \n",
       "4  2599.00          local  "
      ]
     },
     "execution_count": 7,
     "metadata": {},
     "output_type": "execute_result"
    }
   ],
   "source": [
    "dtr.head()"
   ]
  },
  {
   "cell_type": "code",
   "execution_count": 5,
   "metadata": {},
   "outputs": [
    {
     "data": {
      "text/html": [
       "<div>\n",
       "<table border=\"1\" class=\"dataframe\">\n",
       "  <thead>\n",
       "    <tr style=\"text-align: right;\">\n",
       "      <th></th>\n",
       "      <th>sku_id</th>\n",
       "      <th>rank_short_des</th>\n",
       "      <th>rank_title</th>\n",
       "    </tr>\n",
       "  </thead>\n",
       "  <tbody>\n",
       "    <tr>\n",
       "      <th>0</th>\n",
       "      <td>AP564ELASSTWANMY</td>\n",
       "      <td>[469, 13, 7764, 408, 197, 2073, 245, 122, 1712...</td>\n",
       "      <td>[41, 297, 131, 0, 299, 1184, 253, 20, 92, 1056...</td>\n",
       "    </tr>\n",
       "    <tr>\n",
       "      <th>1</th>\n",
       "      <td>BR924HBAA5B3TLANMY</td>\n",
       "      <td>[11241, 141, 4417, 3285, 815, 0, 315, 1306, 23...</td>\n",
       "      <td>[166, 2085, 5471, 1295, 267, 3943, 22, 378, 18...</td>\n",
       "    </tr>\n",
       "    <tr>\n",
       "      <th>2</th>\n",
       "      <td>CA673ELAA5UG3XANMY</td>\n",
       "      <td>[388, 2067, 2177, 279, 971, 333, 4649, 30, 428...</td>\n",
       "      <td>[330, 1154, 2771, 2086, 78, 31, 6669, 253, 420...</td>\n",
       "    </tr>\n",
       "    <tr>\n",
       "      <th>3</th>\n",
       "      <td>DE759ELAA7QM1XANMY</td>\n",
       "      <td>[171, 982, 13, 1101, 405, 175, 926, 4517, 75, ...</td>\n",
       "      <td>[971, 33, 292, 1170, 0]</td>\n",
       "    </tr>\n",
       "    <tr>\n",
       "      <th>4</th>\n",
       "      <td>ES802OTAABHAY8ANMY</td>\n",
       "      <td>[54, 36, 19, 765, 314, 1474, 32, 119, 40, 203,...</td>\n",
       "      <td>[11990, 0, 12507, 5056, 1998, 0, 355, 10, 69, ...</td>\n",
       "    </tr>\n",
       "  </tbody>\n",
       "</table>\n",
       "</div>"
      ],
      "text/plain": [
       "               sku_id                                     rank_short_des  \\\n",
       "0    AP564ELASSTWANMY  [469, 13, 7764, 408, 197, 2073, 245, 122, 1712...   \n",
       "1  BR924HBAA5B3TLANMY  [11241, 141, 4417, 3285, 815, 0, 315, 1306, 23...   \n",
       "2  CA673ELAA5UG3XANMY  [388, 2067, 2177, 279, 971, 333, 4649, 30, 428...   \n",
       "3  DE759ELAA7QM1XANMY  [171, 982, 13, 1101, 405, 175, 926, 4517, 75, ...   \n",
       "4  ES802OTAABHAY8ANMY  [54, 36, 19, 765, 314, 1474, 32, 119, 40, 203,...   \n",
       "\n",
       "                                          rank_title  \n",
       "0  [41, 297, 131, 0, 299, 1184, 253, 20, 92, 1056...  \n",
       "1  [166, 2085, 5471, 1295, 267, 3943, 22, 378, 18...  \n",
       "2  [330, 1154, 2771, 2086, 78, 31, 6669, 253, 420...  \n",
       "3                            [971, 33, 292, 1170, 0]  \n",
       "4  [11990, 0, 12507, 5056, 1998, 0, 355, 10, 69, ...  "
      ]
     },
     "execution_count": 5,
     "metadata": {},
     "output_type": "execute_result"
    }
   ],
   "source": [
    "dvl2.head()"
   ]
  },
  {
   "cell_type": "code",
   "execution_count": 6,
   "metadata": {},
   "outputs": [
    {
     "data": {
      "text/html": [
       "<div>\n",
       "<table border=\"1\" class=\"dataframe\">\n",
       "  <thead>\n",
       "    <tr style=\"text-align: right;\">\n",
       "      <th></th>\n",
       "      <th>sku_id</th>\n",
       "      <th>rank_short_des</th>\n",
       "      <th>rank_title</th>\n",
       "    </tr>\n",
       "  </thead>\n",
       "  <tbody>\n",
       "    <tr>\n",
       "      <th>0</th>\n",
       "      <td>AP564ELASSTWANMY</td>\n",
       "      <td>[469, 13, 7764, 408, 197, 2073, 245, 122, 1712...</td>\n",
       "      <td>[41, 297, 131, 0, 299, 1184, 253, 20, 92, 1056...</td>\n",
       "    </tr>\n",
       "    <tr>\n",
       "      <th>1</th>\n",
       "      <td>BR924HBAA5B3TLANMY</td>\n",
       "      <td>[11241, 141, 4417, 3285, 815, 0, 315, 1306, 23...</td>\n",
       "      <td>[166, 2085, 5471, 1295, 267, 3943, 22, 378, 18...</td>\n",
       "    </tr>\n",
       "    <tr>\n",
       "      <th>2</th>\n",
       "      <td>CA673ELAA5UG3XANMY</td>\n",
       "      <td>[388, 2067, 2177, 279, 971, 333, 4649, 30, 428...</td>\n",
       "      <td>[330, 1154, 2771, 2086, 78, 31, 6669, 253, 420...</td>\n",
       "    </tr>\n",
       "    <tr>\n",
       "      <th>3</th>\n",
       "      <td>DE759ELAA7QM1XANMY</td>\n",
       "      <td>[171, 982, 13, 1101, 405, 175, 926, 4517, 75, ...</td>\n",
       "      <td>[971, 33, 292, 1170, 0]</td>\n",
       "    </tr>\n",
       "    <tr>\n",
       "      <th>4</th>\n",
       "      <td>ES802OTAABHAY8ANMY</td>\n",
       "      <td>[54, 36, 19, 765, 314, 1474, 32, 119, 40, 203,...</td>\n",
       "      <td>[11990, 0, 12507, 5056, 1998, 0, 355, 10, 69, ...</td>\n",
       "    </tr>\n",
       "  </tbody>\n",
       "</table>\n",
       "</div>"
      ],
      "text/plain": [
       "               sku_id                                     rank_short_des  \\\n",
       "0    AP564ELASSTWANMY  [469, 13, 7764, 408, 197, 2073, 245, 122, 1712...   \n",
       "1  BR924HBAA5B3TLANMY  [11241, 141, 4417, 3285, 815, 0, 315, 1306, 23...   \n",
       "2  CA673ELAA5UG3XANMY  [388, 2067, 2177, 279, 971, 333, 4649, 30, 428...   \n",
       "3  DE759ELAA7QM1XANMY  [171, 982, 13, 1101, 405, 175, 926, 4517, 75, ...   \n",
       "4  ES802OTAABHAY8ANMY  [54, 36, 19, 765, 314, 1474, 32, 119, 40, 203,...   \n",
       "\n",
       "                                          rank_title  \n",
       "0  [41, 297, 131, 0, 299, 1184, 253, 20, 92, 1056...  \n",
       "1  [166, 2085, 5471, 1295, 267, 3943, 22, 378, 18...  \n",
       "2  [330, 1154, 2771, 2086, 78, 31, 6669, 253, 420...  \n",
       "3                            [971, 33, 292, 1170, 0]  \n",
       "4  [11990, 0, 12507, 5056, 1998, 0, 355, 10, 69, ...  "
      ]
     },
     "execution_count": 6,
     "metadata": {},
     "output_type": "execute_result"
    }
   ],
   "source": [
    "dvl2.head()"
   ]
  },
  {
   "cell_type": "code",
   "execution_count": 7,
   "metadata": {
    "collapsed": true
   },
   "outputs": [],
   "source": [
    "dtr2.to_csv(base_dir_tr+'data_manipulation_2_2_train.csv',index=0)\n",
    "dvl2.to_csv(base_dir_vl+'data_manipulation_2_2_valid.csv',index=0)"
   ]
  },
  {
   "cell_type": "code",
   "execution_count": null,
   "metadata": {
    "collapsed": true
   },
   "outputs": [],
   "source": []
  },
  {
   "cell_type": "code",
   "execution_count": null,
   "metadata": {
    "collapsed": true
   },
   "outputs": [],
   "source": []
  }
 ],
 "metadata": {
  "anaconda-cloud": {},
  "kernelspec": {
   "display_name": "Python [conda env:snakes3_gpu]",
   "language": "python",
   "name": "conda-env-snakes3_gpu-py"
  },
  "language_info": {
   "codemirror_mode": {
    "name": "ipython",
    "version": 3
   },
   "file_extension": ".py",
   "mimetype": "text/x-python",
   "name": "python",
   "nbconvert_exporter": "python",
   "pygments_lexer": "ipython3",
   "version": "3.5.2"
  }
 },
 "nbformat": 4,
 "nbformat_minor": 2
}
