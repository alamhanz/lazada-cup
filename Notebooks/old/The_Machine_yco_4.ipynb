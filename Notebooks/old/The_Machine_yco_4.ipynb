{
 "cells": [
  {
   "cell_type": "code",
   "execution_count": 1,
   "metadata": {
    "collapsed": false
   },
   "outputs": [
    {
     "name": "stderr",
     "output_type": "stream",
     "text": [
      "Using TensorFlow backend.\n"
     ]
    },
    {
     "data": {
      "text/plain": [
       "'2.0.4'"
      ]
     },
     "execution_count": 1,
     "metadata": {},
     "output_type": "execute_result"
    }
   ],
   "source": [
    "%matplotlib inline\n",
    "import numpy as np\n",
    "import pandas as pd\n",
    "from keras.models import Sequential, load_model\n",
    "from keras.layers import LSTM, Convolution1D, Flatten, Dropout, MaxPooling1D, Dense, Merge\n",
    "# from keras.layers.convolution import \n",
    "from keras.layers.embeddings import Embedding\n",
    "from keras.preprocessing import sequence\n",
    "from keras.callbacks import TensorBoard\n",
    "import ast\n",
    "from sklearn.model_selection import train_test_split\n",
    "from sklearn.metrics import mean_squared_error as mse\n",
    "import keras as kr\n",
    "from keras.callbacks import ModelCheckpoint\n",
    "from sklearn.utils import class_weight\n",
    "from keras.optimizers import SGD,adam\n",
    "from keras.regularizers import l2\n",
    "\n",
    "from sklearn.preprocessing import LabelEncoder\n",
    "kr.__version__"
   ]
  },
  {
   "cell_type": "code",
   "execution_count": 2,
   "metadata": {
    "collapsed": true
   },
   "outputs": [],
   "source": [
    "base_dir_tr='training/'\n",
    "base_dir_vl='validation/'\n",
    "weight_log='weight_logs/'"
   ]
  },
  {
   "cell_type": "code",
   "execution_count": 3,
   "metadata": {
    "collapsed": true
   },
   "outputs": [],
   "source": [
    "top_words = 20000\n",
    "dtr_1=pd.read_csv(base_dir_tr+'data_manipulation_2_2_train.csv',encoding='ISO-8859-1')\n",
    "dtv_1=pd.read_csv(base_dir_vl+'data_manipulation_2_2_valid.csv',encoding='ISO-8859-1')\n",
    "dtr_2=pd.read_csv(base_dir_tr+'data_cat_tr.csv',encoding='ISO-8859-1')\n",
    "dtv_2=pd.read_csv(base_dir_vl+'data_cat_vl.csv',encoding='ISO-8859-1')"
   ]
  },
  {
   "cell_type": "code",
   "execution_count": 4,
   "metadata": {
    "collapsed": false
   },
   "outputs": [
    {
     "name": "stdout",
     "output_type": "stream",
     "text": [
      "36283 11838 251\n"
     ]
    }
   ],
   "source": [
    "#### category part\n",
    "dcat_l=[]\n",
    "for cc in range(3):\n",
    "    dum=pd.get_dummies(dtr_2[dtr_2.columns[cc+1]])\n",
    "    col_i=[dtr_2.columns[cc+1]+'_'+str(i) for i in dum.columns]\n",
    "    dum.columns=col_i\n",
    "    dcat_l.append(dum)\n",
    "dcat_tr_1=pd.concat(dcat_l,axis=1)\n",
    "Xcat_tr=dcat_tr_1.as_matrix()\n",
    "\n",
    "dcat_l=[]\n",
    "for cc in range(3):\n",
    "    dum=pd.get_dummies(dtv_2[dtv_2.columns[cc+1]])\n",
    "    col_i=[dtv_2.columns[cc+1]+'_'+str(i) for i in dum.columns]\n",
    "    dum.columns=col_i\n",
    "    dcat_l.append(dum)\n",
    "dcat_tv_1=pd.concat(dcat_l,axis=1)\n",
    "Xcat_tv=dcat_tv_1.as_matrix()\n",
    "\n",
    "print(len(dcat_tr_1),len(dcat_tv_1),len(dcat_tv_1.columns))"
   ]
  },
  {
   "cell_type": "code",
   "execution_count": null,
   "metadata": {
    "collapsed": true
   },
   "outputs": [],
   "source": []
  },
  {
   "cell_type": "code",
   "execution_count": 5,
   "metadata": {
    "collapsed": true,
    "scrolled": true
   },
   "outputs": [],
   "source": [
    "Xsd=dtr_1.rank_short_des.as_matrix()\n",
    "Xsd=np.array([ast.literal_eval(cd) for cd in Xsd])\n",
    "\n",
    "Xti=dtr_1.rank_title.as_matrix()\n",
    "Xti=np.array([ast.literal_eval(cd) for cd in Xti])\n",
    "\n",
    "yco=dtr_1.conci"
   ]
  },
  {
   "cell_type": "code",
   "execution_count": 6,
   "metadata": {
    "collapsed": true
   },
   "outputs": [],
   "source": [
    "Xsd_v=dtv_1.rank_short_des.as_matrix()\n",
    "Xsd_v=np.array([ast.literal_eval(cd) for cd in Xsd_v])\n",
    "\n",
    "Xti_v=dtv_1.rank_title.as_matrix()\n",
    "Xti_v=np.array([ast.literal_eval(cd) for cd in Xti_v])"
   ]
  },
  {
   "cell_type": "code",
   "execution_count": 7,
   "metadata": {
    "collapsed": true,
    "scrolled": true
   },
   "outputs": [],
   "source": [
    "# L_Xsd=[len(x) for x in Xsd]\n",
    "# L_Xti=[len(x) for x in Xti]\n",
    "\n",
    "# dLsd=pd.DataFrame(L_Xsd)\n",
    "# dLti=pd.DataFrame(L_Xti)\n",
    "\n",
    "# dLsd[dLsd<200].hist(bins=50)"
   ]
  },
  {
   "cell_type": "code",
   "execution_count": 8,
   "metadata": {
    "collapsed": true
   },
   "outputs": [],
   "source": [
    "max_review_length_s = 150\n",
    "max_review_length_t = 40\n",
    "Xsd = sequence.pad_sequences(Xsd, maxlen=max_review_length_s)\n",
    "Xti = sequence.pad_sequences(Xti, maxlen=max_review_length_t)\n",
    "\n",
    "Xsd_v = sequence.pad_sequences(Xsd_v, maxlen=max_review_length_s)\n",
    "Xti_v = sequence.pad_sequences(Xti_v, maxlen=max_review_length_t)"
   ]
  },
  {
   "cell_type": "code",
   "execution_count": 9,
   "metadata": {
    "collapsed": true
   },
   "outputs": [],
   "source": [
    "X=[]\n",
    "for i,j,k in zip(Xsd,Xti,Xcat_tr):\n",
    "    X.append(list(k)+list(j)+list(i))\n",
    "X=np.array(X)\n",
    "\n",
    "X_v=[]\n",
    "for i,j,k in zip(Xsd_v,Xti_v,Xcat_tv):\n",
    "    X_v.append(list(k)+list(j)+list(i))\n",
    "X_v=np.array(X_v)\n",
    "\n",
    "# np.savetxt(base_dir_vl+'data_input_yco_3_1.txt',X_v)\n",
    "np.savetxt(base_dir_vl+'data_input_yco_4_2.txt',X_v)"
   ]
  },
  {
   "cell_type": "code",
   "execution_count": 10,
   "metadata": {
    "collapsed": false
   },
   "outputs": [
    {
     "data": {
      "text/plain": [
       "True"
      ]
     },
     "execution_count": 10,
     "metadata": {},
     "output_type": "execute_result"
    }
   ],
   "source": [
    "len(X[0][251:])==len(np.array(list(Xti[0])+list(Xsd[0])))"
   ]
  },
  {
   "cell_type": "code",
   "execution_count": 11,
   "metadata": {
    "collapsed": false
   },
   "outputs": [
    {
     "data": {
      "text/plain": [
       "True"
      ]
     },
     "execution_count": 11,
     "metadata": {},
     "output_type": "execute_result"
    }
   ],
   "source": [
    "len(X[0][:251])==len(np.array(list(Xcat_tr[0])))"
   ]
  },
  {
   "cell_type": "markdown",
   "metadata": {},
   "source": [
    "#### yco model"
   ]
  },
  {
   "cell_type": "code",
   "execution_count": null,
   "metadata": {
    "collapsed": true
   },
   "outputs": [],
   "source": []
  },
  {
   "cell_type": "code",
   "execution_count": 12,
   "metadata": {
    "collapsed": false
   },
   "outputs": [
    {
     "data": {
      "text/plain": [
       "1    0.685335\n",
       "0    0.314665\n",
       "Name: conci, dtype: float64"
      ]
     },
     "execution_count": 12,
     "metadata": {},
     "output_type": "execute_result"
    }
   ],
   "source": [
    "# model.save('model_yco_1_2_3.h5') OKE (74.05%)\n",
    "yco.value_counts()/yco.value_counts().sum()"
   ]
  },
  {
   "cell_type": "code",
   "execution_count": null,
   "metadata": {
    "collapsed": true
   },
   "outputs": [],
   "source": []
  },
  {
   "cell_type": "code",
   "execution_count": 13,
   "metadata": {
    "collapsed": true
   },
   "outputs": [],
   "source": [
    "X_train, X_test, yco_train, yco_test = train_test_split(X, yco, test_size=0.3, random_state=21)\n",
    "\n",
    "X_train_nl=np.array([x[251:] for x in X_train])\n",
    "X_train_ct=np.array([x[:251] for x in X_train])\n",
    "\n",
    "X_test_nl=np.array([x[251:] for x in X_test])\n",
    "X_test_ct=np.array([x[:251] for x in X_test])"
   ]
  },
  {
   "cell_type": "code",
   "execution_count": 14,
   "metadata": {
    "collapsed": false
   },
   "outputs": [
    {
     "data": {
      "text/plain": [
       "1    0.686082\n",
       "0    0.313918\n",
       "Name: conci, dtype: float64"
      ]
     },
     "execution_count": 14,
     "metadata": {},
     "output_type": "execute_result"
    }
   ],
   "source": [
    "yco_test.value_counts()/yco_test.value_counts().sum()"
   ]
  },
  {
   "cell_type": "code",
   "execution_count": 15,
   "metadata": {
    "collapsed": false
   },
   "outputs": [
    {
     "data": {
      "text/plain": [
       "array([[    0,     0,     0, ...,    50,   135,  5013],\n",
       "       [    0,     0,     0, ...,   173,     6,   250],\n",
       "       [    0,     0,     0, ...,  4831,    21,   641],\n",
       "       ..., \n",
       "       [    0,     0,     0, ...,  1535,   233,   117],\n",
       "       [    0,     0,     0, ...,   962,    18, 14122],\n",
       "       [    1,     0,     0, ...,  2551,  3305,     0]], dtype=int32)"
      ]
     },
     "execution_count": 15,
     "metadata": {},
     "output_type": "execute_result"
    }
   ],
   "source": [
    "# len(X_train_nl)\n",
    "X_train"
   ]
  },
  {
   "cell_type": "code",
   "execution_count": 16,
   "metadata": {
    "collapsed": false
   },
   "outputs": [
    {
     "data": {
      "text/plain": [
       "array([[    0,     0,     0, ...,    50,   135,  5013],\n",
       "       [    0,     0,     0, ...,   173,     6,   250],\n",
       "       [    0,     0,     0, ...,  4831,    21,   641],\n",
       "       ..., \n",
       "       [    0,     0,     0, ...,  1535,   233,   117],\n",
       "       [    0,     0,     0, ...,   962,    18, 14122],\n",
       "       [    0,     0,     0, ...,  2551,  3305,     0]], dtype=int32)"
      ]
     },
     "execution_count": 16,
     "metadata": {},
     "output_type": "execute_result"
    }
   ],
   "source": [
    "X_train_nl"
   ]
  },
  {
   "cell_type": "code",
   "execution_count": 21,
   "metadata": {
    "collapsed": false,
    "scrolled": false
   },
   "outputs": [
    {
     "name": "stderr",
     "output_type": "stream",
     "text": [
      "/home/dataanalysis/anaconda2/envs/python3.5/lib/python3.5/site-packages/ipykernel/__main__.py:6: UserWarning: Update your `Conv1D` call to the Keras 2 API: `Conv1D(128, 3, padding=\"same\")`\n",
      "/home/dataanalysis/anaconda2/envs/python3.5/lib/python3.5/site-packages/ipykernel/__main__.py:7: UserWarning: Update your `Conv1D` call to the Keras 2 API: `Conv1D(32, 3, padding=\"same\")`\n",
      "/home/dataanalysis/anaconda2/envs/python3.5/lib/python3.5/site-packages/ipykernel/__main__.py:11: UserWarning: Update your `Dense` call to the Keras 2 API: `Dense(100, kernel_regularizer=<keras.reg..., activation=\"relu\")`\n",
      "/home/dataanalysis/anaconda2/envs/python3.5/lib/python3.5/site-packages/ipykernel/__main__.py:31: UserWarning: The `Merge` layer is deprecated and will be removed after 08/2017. Use instead layers from `keras.layers.merge`, e.g. `add`, `concatenate`, etc.\n"
     ]
    }
   ],
   "source": [
    "np.random.seed(21)\n",
    "#### Creating the model_1\n",
    "embedding_vecor_length = 150\n",
    "model_nl = Sequential()\n",
    "model_nl.add(Embedding(top_words, embedding_vecor_length, input_length=max_review_length_s+max_review_length_t))\n",
    "model_nl.add(Convolution1D(128, 3, border_mode='same'))\n",
    "model_nl.add(Convolution1D(32, 3, border_mode='same'))\n",
    "# model_nl.add(LSTM(30))\n",
    "model_nl.add(Flatten())\n",
    "model_nl.add(Dropout(0.1))\n",
    "model_nl.add(Dense(100,activation='relu', W_regularizer = l2(.01)))\n",
    "# model_nl.add(Dense(100,activation='relu', W_regularizer = l2(.01)))\n",
    "model_nl.add(Dropout(0.1))\n",
    "model_nl.add(Dense(3,activation='relu'))\n",
    "\n",
    "\n",
    "# W_regularizer = l2(.01)\n",
    "#### Creating the model_2\n",
    "model_ct = Sequential()\n",
    "model_ct.add(Dense(50, input_shape=(251,),activation='relu'))\n",
    "model_ct.add(Dense(50, input_shape=(251,),activation='relu'))\n",
    "model_ct.add(Dense(50, input_shape=(251,),activation='relu'))\n",
    "model_ct.add(Dense(25, input_shape=(251,),activation='relu'))\n",
    "model_ct.add(Dense(25, input_shape=(251,),activation='relu'))\n",
    "model_ct.add(Dense(12, input_shape=(251,),activation='relu'))\n",
    "model_ct.add(Dropout(0.1))\n",
    "model_ct.add(Dense(2,activation='relu'))\n",
    "\n",
    "\n",
    "model = Sequential()\n",
    "model.add(Merge([model_ct,model_nl], mode='concat'))\n",
    "model.add(Dense(1,activation='sigmoid'))\n",
    "\n",
    "model2=model\n",
    "\n",
    "# opti = SGD(lr=0.01)\n",
    "opti = adam(lr=0.00001) #0.001\n",
    "# model.compile(loss = \"categorical_crossentropy\", optimizer = opt)\n",
    "# model.compile(loss='binary_crossentropy', optimizer='adam', metrics=['accuracy','mse'])\n",
    "model.compile(loss='binary_crossentropy', optimizer=opti, metrics=['accuracy','mse'])\n",
    "# model.compile(loss='binary_crossentropy', optimizer=opt, metrics=['accuracy','mse'])\n",
    "\n",
    "\n",
    "# checkpoint\n",
    "# filepath=weight_log+\"weights_best_ycl_3_1.hdf5\"\n",
    "# filepath=weight_log+\"weights_best_yco_4_1.hdf5\"\n",
    "filepath=weight_log+\"weights_best_yco_4_2.hdf5\"\n",
    "\n",
    "\n",
    "checkpoint = ModelCheckpoint(filepath, monitor='val_mean_squared_error', verbose=1, save_best_only=True, mode='min')\n",
    "callbacks_list = [checkpoint]"
   ]
  },
  {
   "cell_type": "code",
   "execution_count": 22,
   "metadata": {
    "collapsed": false
   },
   "outputs": [
    {
     "data": {
      "text/plain": [
       "[(None, 251), (None, 190)]"
      ]
     },
     "execution_count": 22,
     "metadata": {},
     "output_type": "execute_result"
    }
   ],
   "source": [
    "model.input_shape"
   ]
  },
  {
   "cell_type": "code",
   "execution_count": 23,
   "metadata": {
    "collapsed": false
   },
   "outputs": [
    {
     "name": "stdout",
     "output_type": "stream",
     "text": [
      "(25398, 251) (25398, 190)\n"
     ]
    }
   ],
   "source": [
    "print(X_train_ct.shape,X_train_nl.shape)"
   ]
  },
  {
   "cell_type": "code",
   "execution_count": 24,
   "metadata": {
    "collapsed": false,
    "scrolled": true
   },
   "outputs": [
    {
     "name": "stdout",
     "output_type": "stream",
     "text": [
      "Train on 25398 samples, validate on 10885 samples\n",
      "Epoch 1/100\n",
      "25300/25398 [============================>.] - ETA: 0s - loss: 2.4049 - acc: 0.6846 - mean_squared_error: 0.2317Epoch 00000: val_mean_squared_error improved from inf to 0.21186, saving model to weight_logs/weights_best_yco_4_2.hdf5\n",
      "25398/25398 [==============================] - 36s - loss: 2.4042 - acc: 0.6844 - mean_squared_error: 0.2317 - val_loss: 2.1618 - val_acc: 0.6861 - val_mean_squared_error: 0.2119\n",
      "Epoch 2/100\n",
      "25300/25398 [============================>.] - ETA: 0s - loss: 1.9873 - acc: 0.6852 - mean_squared_error: 0.2094Epoch 00001: val_mean_squared_error improved from 0.21186 to 0.20334, saving model to weight_logs/weights_best_yco_4_2.hdf5\n",
      "25398/25398 [==============================] - 62s - loss: 1.9868 - acc: 0.6850 - mean_squared_error: 0.2095 - val_loss: 1.8167 - val_acc: 0.6861 - val_mean_squared_error: 0.2033\n",
      "Epoch 3/100\n",
      "25300/25398 [============================>.] - ETA: 0s - loss: 1.6690 - acc: 0.6926 - mean_squared_error: 0.1936Epoch 00002: val_mean_squared_error improved from 0.20334 to 0.17959, saving model to weight_logs/weights_best_yco_4_2.hdf5\n",
      "25398/25398 [==============================] - 61s - loss: 1.6683 - acc: 0.6929 - mean_squared_error: 0.1935 - val_loss: 1.5213 - val_acc: 0.7306 - val_mean_squared_error: 0.1796\n",
      "Epoch 4/100\n",
      "25300/25398 [============================>.] - ETA: 0s - loss: 1.4269 - acc: 0.7434 - mean_squared_error: 0.1788Epoch 00003: val_mean_squared_error improved from 0.17959 to 0.17204, saving model to weight_logs/weights_best_yco_4_2.hdf5\n",
      "25398/25398 [==============================] - 63s - loss: 1.4265 - acc: 0.7435 - mean_squared_error: 0.1788 - val_loss: 1.3259 - val_acc: 0.7610 - val_mean_squared_error: 0.1720\n",
      "Epoch 5/100\n",
      "25300/25398 [============================>.] - ETA: 0s - loss: 1.2565 - acc: 0.7662 - mean_squared_error: 0.1717Epoch 00004: val_mean_squared_error improved from 0.17204 to 0.16814, saving model to weight_logs/weights_best_yco_4_2.hdf5\n",
      "25398/25398 [==============================] - 63s - loss: 1.2566 - acc: 0.7660 - mean_squared_error: 0.1718 - val_loss: 1.1822 - val_acc: 0.7558 - val_mean_squared_error: 0.1681\n",
      "Epoch 6/100\n",
      "25300/25398 [============================>.] - ETA: 0s - loss: 1.1250 - acc: 0.7804 - mean_squared_error: 0.1656Epoch 00005: val_mean_squared_error improved from 0.16814 to 0.16241, saving model to weight_logs/weights_best_yco_4_2.hdf5\n",
      "25398/25398 [==============================] - 63s - loss: 1.1245 - acc: 0.7807 - mean_squared_error: 0.1654 - val_loss: 1.0668 - val_acc: 0.7802 - val_mean_squared_error: 0.1624\n",
      "Epoch 7/100\n",
      "25300/25398 [============================>.] - ETA: 0s - loss: 1.0201 - acc: 0.7923 - mean_squared_error: 0.1601Epoch 00006: val_mean_squared_error improved from 0.16241 to 0.15821, saving model to weight_logs/weights_best_yco_4_2.hdf5\n",
      "25398/25398 [==============================] - 63s - loss: 1.0198 - acc: 0.7925 - mean_squared_error: 0.1601 - val_loss: 0.9757 - val_acc: 0.7928 - val_mean_squared_error: 0.1582\n",
      "Epoch 8/100\n",
      "25300/25398 [============================>.] - ETA: 0s - loss: 0.9337 - acc: 0.8025 - mean_squared_error: 0.1549Epoch 00007: val_mean_squared_error improved from 0.15821 to 0.15492, saving model to weight_logs/weights_best_yco_4_2.hdf5\n",
      "25398/25398 [==============================] - 62s - loss: 0.9333 - acc: 0.8026 - mean_squared_error: 0.1548 - val_loss: 0.9014 - val_acc: 0.7984 - val_mean_squared_error: 0.1549\n",
      "Epoch 9/100\n",
      "25300/25398 [============================>.] - ETA: 0s - loss: 0.8408 - acc: 0.8153 - mean_squared_error: 0.1395Epoch 00008: val_mean_squared_error improved from 0.15492 to 0.13897, saving model to weight_logs/weights_best_yco_4_2.hdf5\n",
      "25398/25398 [==============================] - 63s - loss: 0.8405 - acc: 0.8154 - mean_squared_error: 0.1394 - val_loss: 0.8145 - val_acc: 0.8065 - val_mean_squared_error: 0.1390\n",
      "Epoch 10/100\n",
      "25300/25398 [============================>.] - ETA: 0s - loss: 0.7735 - acc: 0.8218 - mean_squared_error: 0.1316Epoch 00009: val_mean_squared_error improved from 0.13897 to 0.13620, saving model to weight_logs/weights_best_yco_4_2.hdf5\n",
      "25398/25398 [==============================] - 63s - loss: 0.7736 - acc: 0.8217 - mean_squared_error: 0.1317 - val_loss: 0.7640 - val_acc: 0.8093 - val_mean_squared_error: 0.1362\n",
      "Epoch 11/100\n",
      "25300/25398 [============================>.] - ETA: 0s - loss: 0.7241 - acc: 0.8264 - mean_squared_error: 0.1279Epoch 00010: val_mean_squared_error improved from 0.13620 to 0.13479, saving model to weight_logs/weights_best_yco_4_2.hdf5\n",
      "25398/25398 [==============================] - 64s - loss: 0.7240 - acc: 0.8264 - mean_squared_error: 0.1279 - val_loss: 0.7246 - val_acc: 0.8119 - val_mean_squared_error: 0.1348\n",
      "Epoch 12/100\n",
      "25300/25398 [============================>.] - ETA: 0s - loss: 0.6821 - acc: 0.8306 - mean_squared_error: 0.1245Epoch 00011: val_mean_squared_error improved from 0.13479 to 0.13309, saving model to weight_logs/weights_best_yco_4_2.hdf5\n",
      "25398/25398 [==============================] - 64s - loss: 0.6820 - acc: 0.8307 - mean_squared_error: 0.1245 - val_loss: 0.6905 - val_acc: 0.8166 - val_mean_squared_error: 0.1331\n",
      "Epoch 13/100\n",
      "25300/25398 [============================>.] - ETA: 0s - loss: 0.6461 - acc: 0.8354 - mean_squared_error: 0.1213Epoch 00012: val_mean_squared_error improved from 0.13309 to 0.13295, saving model to weight_logs/weights_best_yco_4_2.hdf5\n",
      "25398/25398 [==============================] - 61s - loss: 0.6462 - acc: 0.8353 - mean_squared_error: 0.1213 - val_loss: 0.6648 - val_acc: 0.8164 - val_mean_squared_error: 0.1329\n",
      "Epoch 14/100\n",
      "25300/25398 [============================>.] - ETA: 0s - loss: 0.6162 - acc: 0.8383 - mean_squared_error: 0.1190Epoch 00013: val_mean_squared_error improved from 0.13295 to 0.13098, saving model to weight_logs/weights_best_yco_4_2.hdf5\n",
      "25398/25398 [==============================] - 62s - loss: 0.6163 - acc: 0.8383 - mean_squared_error: 0.1190 - val_loss: 0.6383 - val_acc: 0.8190 - val_mean_squared_error: 0.1310\n",
      "Epoch 15/100\n",
      "25300/25398 [============================>.] - ETA: 0s - loss: 0.5887 - acc: 0.8425 - mean_squared_error: 0.1163Epoch 00014: val_mean_squared_error improved from 0.13098 to 0.13015, saving model to weight_logs/weights_best_yco_4_2.hdf5\n",
      "25398/25398 [==============================] - 63s - loss: 0.5891 - acc: 0.8423 - mean_squared_error: 0.1164 - val_loss: 0.6173 - val_acc: 0.8199 - val_mean_squared_error: 0.1302\n",
      "Epoch 16/100\n",
      "25300/25398 [============================>.] - ETA: 0s - loss: 0.5652 - acc: 0.8453 - mean_squared_error: 0.1140Epoch 00015: val_mean_squared_error improved from 0.13015 to 0.12960, saving model to weight_logs/weights_best_yco_4_2.hdf5\n",
      "25398/25398 [==============================] - 66s - loss: 0.5651 - acc: 0.8454 - mean_squared_error: 0.1140 - val_loss: 0.6011 - val_acc: 0.8219 - val_mean_squared_error: 0.1296\n",
      "Epoch 17/100\n",
      "25300/25398 [============================>.] - ETA: 0s - loss: 0.5445 - acc: 0.8472 - mean_squared_error: 0.1121Epoch 00016: val_mean_squared_error improved from 0.12960 to 0.12891, saving model to weight_logs/weights_best_yco_4_2.hdf5\n",
      "25398/25398 [==============================] - 68s - loss: 0.5446 - acc: 0.8472 - mean_squared_error: 0.1121 - val_loss: 0.5851 - val_acc: 0.8237 - val_mean_squared_error: 0.1289\n",
      "Epoch 18/100\n",
      "25300/25398 [============================>.] - ETA: 0s - loss: 0.5249 - acc: 0.8500 - mean_squared_error: 0.1100Epoch 00017: val_mean_squared_error did not improve\n",
      "25398/25398 [==============================] - 64s - loss: 0.5249 - acc: 0.8500 - mean_squared_error: 0.1100 - val_loss: 0.5744 - val_acc: 0.8235 - val_mean_squared_error: 0.1291\n",
      "Epoch 19/100\n",
      "25300/25398 [============================>.] - ETA: 0s - loss: 0.5069 - acc: 0.8544 - mean_squared_error: 0.1077Epoch 00018: val_mean_squared_error improved from 0.12891 to 0.12817, saving model to weight_logs/weights_best_yco_4_2.hdf5\n",
      "25398/25398 [==============================] - 63s - loss: 0.5071 - acc: 0.8543 - mean_squared_error: 0.1078 - val_loss: 0.5604 - val_acc: 0.8266 - val_mean_squared_error: 0.1282\n",
      "Epoch 20/100\n",
      "25300/25398 [============================>.] - ETA: 0s - loss: 0.4915 - acc: 0.8566 - mean_squared_error: 0.1059Epoch 00019: val_mean_squared_error improved from 0.12817 to 0.12780, saving model to weight_logs/weights_best_yco_4_2.hdf5\n",
      "25398/25398 [==============================] - 62s - loss: 0.4915 - acc: 0.8565 - mean_squared_error: 0.1060 - val_loss: 0.5492 - val_acc: 0.8267 - val_mean_squared_error: 0.1278\n",
      "Epoch 21/100\n",
      "25300/25398 [============================>.] - ETA: 0s - loss: 0.4763 - acc: 0.8601 - mean_squared_error: 0.1038Epoch 00020: val_mean_squared_error improved from 0.12780 to 0.12772, saving model to weight_logs/weights_best_yco_4_2.hdf5\n",
      "25398/25398 [==============================] - 62s - loss: 0.4761 - acc: 0.8601 - mean_squared_error: 0.1037 - val_loss: 0.5407 - val_acc: 0.8282 - val_mean_squared_error: 0.1277\n",
      "Epoch 22/100\n",
      "25300/25398 [============================>.] - ETA: 0s - loss: 0.4633 - acc: 0.8604 - mean_squared_error: 0.1023Epoch 00021: val_mean_squared_error did not improve\n",
      "25398/25398 [==============================] - 63s - loss: 0.4632 - acc: 0.8604 - mean_squared_error: 0.1023 - val_loss: 0.5349 - val_acc: 0.8276 - val_mean_squared_error: 0.1279\n",
      "Epoch 23/100\n",
      "25300/25398 [============================>.] - ETA: 0s - loss: 0.4489 - acc: 0.8643 - mean_squared_error: 0.1000Epoch 00022: val_mean_squared_error did not improve\n",
      "25398/25398 [==============================] - 62s - loss: 0.4488 - acc: 0.8644 - mean_squared_error: 0.1000 - val_loss: 0.5268 - val_acc: 0.8276 - val_mean_squared_error: 0.1277\n",
      "Epoch 24/100\n",
      "25300/25398 [============================>.] - ETA: 0s - loss: 0.4369 - acc: 0.8662 - mean_squared_error: 0.0983Epoch 00023: val_mean_squared_error did not improve\n",
      "25398/25398 [==============================] - 62s - loss: 0.4368 - acc: 0.8661 - mean_squared_error: 0.0983 - val_loss: 0.5213 - val_acc: 0.8269 - val_mean_squared_error: 0.1279\n",
      "Epoch 25/100\n",
      "25300/25398 [============================>.] - ETA: 0s - loss: 0.4244 - acc: 0.8693 - mean_squared_error: 0.0962Epoch 00024: val_mean_squared_error did not improve\n",
      "25398/25398 [==============================] - 62s - loss: 0.4244 - acc: 0.8693 - mean_squared_error: 0.0962 - val_loss: 0.5149 - val_acc: 0.8258 - val_mean_squared_error: 0.1280\n",
      "Epoch 26/100\n",
      "25300/25398 [============================>.] - ETA: 0s - loss: 0.4133 - acc: 0.8723 - mean_squared_error: 0.0945Epoch 00025: val_mean_squared_error did not improve\n",
      "25398/25398 [==============================] - 62s - loss: 0.4134 - acc: 0.8723 - mean_squared_error: 0.0945 - val_loss: 0.5124 - val_acc: 0.8258 - val_mean_squared_error: 0.1288\n",
      "Epoch 27/100\n",
      "25300/25398 [============================>.] - ETA: 0s - loss: 0.4041 - acc: 0.8735 - mean_squared_error: 0.0931Epoch 00026: val_mean_squared_error did not improve\n",
      "25398/25398 [==============================] - 64s - loss: 0.4037 - acc: 0.8737 - mean_squared_error: 0.0930 - val_loss: 0.5101 - val_acc: 0.8278 - val_mean_squared_error: 0.1288\n",
      "Epoch 28/100\n",
      "25300/25398 [============================>.] - ETA: 0s - loss: 0.3932 - acc: 0.8775 - mean_squared_error: 0.0913Epoch 00027: val_mean_squared_error did not improve\n",
      "25398/25398 [==============================] - 62s - loss: 0.3933 - acc: 0.8775 - mean_squared_error: 0.0913 - val_loss: 0.5069 - val_acc: 0.8279 - val_mean_squared_error: 0.1291\n",
      "Epoch 29/100\n",
      "25300/25398 [============================>.] - ETA: 0s - loss: 0.3824 - acc: 0.8799 - mean_squared_error: 0.0892Epoch 00028: val_mean_squared_error did not improve\n",
      "25398/25398 [==============================] - 62s - loss: 0.3823 - acc: 0.8800 - mean_squared_error: 0.0892 - val_loss: 0.5053 - val_acc: 0.8279 - val_mean_squared_error: 0.1299\n",
      "Epoch 30/100\n",
      "25300/25398 [============================>.] - ETA: 0s - loss: 0.3746 - acc: 0.8807 - mean_squared_error: 0.0880Epoch 00029: val_mean_squared_error did not improve\n",
      "25398/25398 [==============================] - 63s - loss: 0.3745 - acc: 0.8807 - mean_squared_error: 0.0879 - val_loss: 0.5074 - val_acc: 0.8262 - val_mean_squared_error: 0.1309\n",
      "Epoch 31/100\n",
      "25300/25398 [============================>.] - ETA: 0s - loss: 0.3652 - acc: 0.8843 - mean_squared_error: 0.0862Epoch 00030: val_mean_squared_error did not improve\n",
      "25398/25398 [==============================] - 66s - loss: 0.3647 - acc: 0.8846 - mean_squared_error: 0.0860 - val_loss: 0.4991 - val_acc: 0.8247 - val_mean_squared_error: 0.1312\n",
      "Epoch 32/100\n",
      "25300/25398 [============================>.] - ETA: 0s - loss: 0.3573 - acc: 0.8859 - mean_squared_error: 0.0847Epoch 00031: val_mean_squared_error did not improve\n",
      "25398/25398 [==============================] - 68s - loss: 0.3571 - acc: 0.8861 - mean_squared_error: 0.0846 - val_loss: 0.5013 - val_acc: 0.8258 - val_mean_squared_error: 0.1314\n",
      "Epoch 33/100\n",
      "25300/25398 [============================>.] - ETA: 0s - loss: 0.3472 - acc: 0.8900 - mean_squared_error: 0.0825Epoch 00032: val_mean_squared_error did not improve\n",
      "25398/25398 [==============================] - 66s - loss: 0.3475 - acc: 0.8899 - mean_squared_error: 0.0826 - val_loss: 0.5008 - val_acc: 0.8226 - val_mean_squared_error: 0.1332\n",
      "Epoch 34/100\n",
      "25300/25398 [============================>.] - ETA: 0s - loss: 0.3397 - acc: 0.8931 - mean_squared_error: 0.0810Epoch 00033: val_mean_squared_error did not improve\n",
      "25398/25398 [==============================] - 76s - loss: 0.3399 - acc: 0.8929 - mean_squared_error: 0.0811 - val_loss: 0.5007 - val_acc: 0.8245 - val_mean_squared_error: 0.1326\n",
      "Epoch 35/100\n",
      "25300/25398 [============================>.] - ETA: 0s - loss: 0.3310 - acc: 0.8961 - mean_squared_error: 0.0792Epoch 00034: val_mean_squared_error did not improve\n",
      "25398/25398 [==============================] - 74s - loss: 0.3313 - acc: 0.8958 - mean_squared_error: 0.0793 - val_loss: 0.5044 - val_acc: 0.8209 - val_mean_squared_error: 0.1350\n",
      "Epoch 36/100\n",
      "25300/25398 [============================>.] - ETA: 0s - loss: 0.3249 - acc: 0.8966 - mean_squared_error: 0.0782Epoch 00035: val_mean_squared_error did not improve\n",
      "25398/25398 [==============================] - 68s - loss: 0.3251 - acc: 0.8965 - mean_squared_error: 0.0782 - val_loss: 0.5081 - val_acc: 0.8223 - val_mean_squared_error: 0.1347\n",
      "Epoch 37/100\n",
      "25300/25398 [============================>.] - ETA: 0s - loss: 0.3172 - acc: 0.8984 - mean_squared_error: 0.0765Epoch 00036: val_mean_squared_error did not improve\n",
      "25398/25398 [==============================] - 66s - loss: 0.3170 - acc: 0.8985 - mean_squared_error: 0.0764 - val_loss: 0.5066 - val_acc: 0.8208 - val_mean_squared_error: 0.1360\n",
      "Epoch 38/100\n",
      "25300/25398 [============================>.] - ETA: 0s - loss: 0.3101 - acc: 0.9008 - mean_squared_error: 0.0752Epoch 00037: val_mean_squared_error did not improve\n",
      "25398/25398 [==============================] - 66s - loss: 0.3098 - acc: 0.9011 - mean_squared_error: 0.0750 - val_loss: 0.5119 - val_acc: 0.8171 - val_mean_squared_error: 0.1384\n",
      "Epoch 39/100\n",
      "25300/25398 [============================>.] - ETA: 0s - loss: 0.3026 - acc: 0.9040 - mean_squared_error: 0.0733Epoch 00038: val_mean_squared_error did not improve\n",
      "25398/25398 [==============================] - 66s - loss: 0.3025 - acc: 0.9040 - mean_squared_error: 0.0733 - val_loss: 0.5125 - val_acc: 0.8199 - val_mean_squared_error: 0.1373\n",
      "Epoch 40/100\n",
      "25300/25398 [============================>.] - ETA: 0s - loss: 0.2957 - acc: 0.9057 - mean_squared_error: 0.0718Epoch 00039: val_mean_squared_error did not improve\n",
      "25398/25398 [==============================] - 66s - loss: 0.2958 - acc: 0.9057 - mean_squared_error: 0.0719 - val_loss: 0.5110 - val_acc: 0.8179 - val_mean_squared_error: 0.1383\n",
      "Epoch 41/100\n",
      "25300/25398 [============================>.] - ETA: 0s - loss: 0.2898 - acc: 0.9079 - mean_squared_error: 0.0705Epoch 00040: val_mean_squared_error did not improve\n",
      "25398/25398 [==============================] - 66s - loss: 0.2900 - acc: 0.9078 - mean_squared_error: 0.0706 - val_loss: 0.5160 - val_acc: 0.8156 - val_mean_squared_error: 0.1400\n",
      "Epoch 42/100\n",
      "25300/25398 [============================>.] - ETA: 0s - loss: 0.2838 - acc: 0.9108 - mean_squared_error: 0.0691Epoch 00041: val_mean_squared_error did not improve\n",
      "25398/25398 [==============================] - 67s - loss: 0.2839 - acc: 0.9108 - mean_squared_error: 0.0691 - val_loss: 0.5224 - val_acc: 0.8166 - val_mean_squared_error: 0.1402\n",
      "Epoch 43/100\n",
      "25300/25398 [============================>.] - ETA: 0s - loss: 0.2765 - acc: 0.9123 - mean_squared_error: 0.0674Epoch 00042: val_mean_squared_error did not improve\n",
      "25398/25398 [==============================] - 66s - loss: 0.2765 - acc: 0.9122 - mean_squared_error: 0.0674 - val_loss: 0.5236 - val_acc: 0.8135 - val_mean_squared_error: 0.1418\n",
      "Epoch 44/100\n",
      "25300/25398 [============================>.] - ETA: 0s - loss: 0.2710 - acc: 0.9133 - mean_squared_error: 0.0662Epoch 00043: val_mean_squared_error did not improve\n",
      "25398/25398 [==============================] - 70s - loss: 0.2710 - acc: 0.9133 - mean_squared_error: 0.0662 - val_loss: 0.5310 - val_acc: 0.8120 - val_mean_squared_error: 0.1437\n",
      "Epoch 45/100\n",
      "25300/25398 [============================>.] - ETA: 0s - loss: 0.2647 - acc: 0.9158 - mean_squared_error: 0.0646Epoch 00044: val_mean_squared_error did not improve\n",
      "25398/25398 [==============================] - 71s - loss: 0.2645 - acc: 0.9160 - mean_squared_error: 0.0645 - val_loss: 0.5306 - val_acc: 0.8113 - val_mean_squared_error: 0.1447\n",
      "Epoch 46/100\n",
      "25300/25398 [============================>.] - ETA: 0s - loss: 0.2592 - acc: 0.9189 - mean_squared_error: 0.0633Epoch 00045: val_mean_squared_error did not improve\n",
      "25398/25398 [==============================] - 66s - loss: 0.2597 - acc: 0.9188 - mean_squared_error: 0.0634 - val_loss: 0.5365 - val_acc: 0.8113 - val_mean_squared_error: 0.1452\n",
      "Epoch 47/100\n",
      "25300/25398 [============================>.] - ETA: 0s - loss: 0.2541 - acc: 0.9194 - mean_squared_error: 0.0621Epoch 00046: val_mean_squared_error did not improve\n",
      "25398/25398 [==============================] - 66s - loss: 0.2543 - acc: 0.9192 - mean_squared_error: 0.0622 - val_loss: 0.5441 - val_acc: 0.8088 - val_mean_squared_error: 0.1474\n",
      "Epoch 48/100\n",
      "25300/25398 [============================>.] - ETA: 0s - loss: 0.2493 - acc: 0.9207 - mean_squared_error: 0.0611Epoch 00047: val_mean_squared_error did not improve\n",
      "25398/25398 [==============================] - 66s - loss: 0.2493 - acc: 0.9206 - mean_squared_error: 0.0611 - val_loss: 0.5496 - val_acc: 0.8045 - val_mean_squared_error: 0.1495\n",
      "Epoch 49/100\n",
      "25300/25398 [============================>.] - ETA: 0s - loss: 0.2443 - acc: 0.9223 - mean_squared_error: 0.0596Epoch 00048: val_mean_squared_error did not improve\n",
      "25398/25398 [==============================] - 66s - loss: 0.2444 - acc: 0.9223 - mean_squared_error: 0.0597 - val_loss: 0.5539 - val_acc: 0.8070 - val_mean_squared_error: 0.1494\n",
      "Epoch 50/100\n",
      "25300/25398 [============================>.] - ETA: 0s - loss: 0.2391 - acc: 0.9256 - mean_squared_error: 0.0584Epoch 00049: val_mean_squared_error did not improve\n",
      "25398/25398 [==============================] - 67s - loss: 0.2390 - acc: 0.9256 - mean_squared_error: 0.0584 - val_loss: 0.5605 - val_acc: 0.8027 - val_mean_squared_error: 0.1519\n",
      "Epoch 51/100\n",
      "25300/25398 [============================>.] - ETA: 0s - loss: 0.2338 - acc: 0.9263 - mean_squared_error: 0.0570"
     ]
    },
    {
     "ename": "KeyboardInterrupt",
     "evalue": "",
     "output_type": "error",
     "traceback": [
      "\u001b[0;31m---------------------------------------------------------------------------\u001b[0m",
      "\u001b[0;31mKeyboardInterrupt\u001b[0m                         Traceback (most recent call last)",
      "\u001b[0;32m<ipython-input-24-6b95fa46b38d>\u001b[0m in \u001b[0;36m<module>\u001b[0;34m()\u001b[0m\n\u001b[0;32m----> 1\u001b[0;31m \u001b[0mmodel\u001b[0m\u001b[0;34m.\u001b[0m\u001b[0mfit\u001b[0m\u001b[0;34m(\u001b[0m\u001b[0;34m[\u001b[0m\u001b[0mX_train_ct\u001b[0m\u001b[0;34m,\u001b[0m\u001b[0mX_train_nl\u001b[0m\u001b[0;34m]\u001b[0m\u001b[0;34m,\u001b[0m\u001b[0myco_train\u001b[0m\u001b[0;34m,\u001b[0m \u001b[0mvalidation_data\u001b[0m\u001b[0;34m=\u001b[0m\u001b[0;34m(\u001b[0m\u001b[0;34m[\u001b[0m\u001b[0mX_test_ct\u001b[0m\u001b[0;34m,\u001b[0m\u001b[0mX_test_nl\u001b[0m\u001b[0;34m]\u001b[0m\u001b[0;34m,\u001b[0m\u001b[0myco_test\u001b[0m\u001b[0;34m)\u001b[0m\u001b[0;34m,\u001b[0m\u001b[0mcallbacks\u001b[0m\u001b[0;34m=\u001b[0m\u001b[0mcallbacks_list\u001b[0m\u001b[0;34m,\u001b[0m \u001b[0mepochs\u001b[0m\u001b[0;34m=\u001b[0m\u001b[0;36m100\u001b[0m\u001b[0;34m,\u001b[0m \u001b[0mbatch_size\u001b[0m\u001b[0;34m=\u001b[0m\u001b[0;36m100\u001b[0m\u001b[0;34m,\u001b[0m \u001b[0mverbose\u001b[0m\u001b[0;34m=\u001b[0m\u001b[0;36m1\u001b[0m\u001b[0;34m)\u001b[0m\u001b[0;34m\u001b[0m\u001b[0m\n\u001b[0m",
      "\u001b[0;32m/home/dataanalysis/anaconda2/envs/python3.5/lib/python3.5/site-packages/keras/models.py\u001b[0m in \u001b[0;36mfit\u001b[0;34m(self, x, y, batch_size, epochs, verbose, callbacks, validation_split, validation_data, shuffle, class_weight, sample_weight, initial_epoch, **kwargs)\u001b[0m\n\u001b[1;32m    854\u001b[0m                               \u001b[0mclass_weight\u001b[0m\u001b[0;34m=\u001b[0m\u001b[0mclass_weight\u001b[0m\u001b[0;34m,\u001b[0m\u001b[0;34m\u001b[0m\u001b[0m\n\u001b[1;32m    855\u001b[0m                               \u001b[0msample_weight\u001b[0m\u001b[0;34m=\u001b[0m\u001b[0msample_weight\u001b[0m\u001b[0;34m,\u001b[0m\u001b[0;34m\u001b[0m\u001b[0m\n\u001b[0;32m--> 856\u001b[0;31m                               initial_epoch=initial_epoch)\n\u001b[0m\u001b[1;32m    857\u001b[0m \u001b[0;34m\u001b[0m\u001b[0m\n\u001b[1;32m    858\u001b[0m     def evaluate(self, x, y, batch_size=32, verbose=1,\n",
      "\u001b[0;32m/home/dataanalysis/anaconda2/envs/python3.5/lib/python3.5/site-packages/keras/engine/training.py\u001b[0m in \u001b[0;36mfit\u001b[0;34m(self, x, y, batch_size, epochs, verbose, callbacks, validation_split, validation_data, shuffle, class_weight, sample_weight, initial_epoch, **kwargs)\u001b[0m\n\u001b[1;32m   1496\u001b[0m                               \u001b[0mval_f\u001b[0m\u001b[0;34m=\u001b[0m\u001b[0mval_f\u001b[0m\u001b[0;34m,\u001b[0m \u001b[0mval_ins\u001b[0m\u001b[0;34m=\u001b[0m\u001b[0mval_ins\u001b[0m\u001b[0;34m,\u001b[0m \u001b[0mshuffle\u001b[0m\u001b[0;34m=\u001b[0m\u001b[0mshuffle\u001b[0m\u001b[0;34m,\u001b[0m\u001b[0;34m\u001b[0m\u001b[0m\n\u001b[1;32m   1497\u001b[0m                               \u001b[0mcallback_metrics\u001b[0m\u001b[0;34m=\u001b[0m\u001b[0mcallback_metrics\u001b[0m\u001b[0;34m,\u001b[0m\u001b[0;34m\u001b[0m\u001b[0m\n\u001b[0;32m-> 1498\u001b[0;31m                               initial_epoch=initial_epoch)\n\u001b[0m\u001b[1;32m   1499\u001b[0m \u001b[0;34m\u001b[0m\u001b[0m\n\u001b[1;32m   1500\u001b[0m     \u001b[0;32mdef\u001b[0m \u001b[0mevaluate\u001b[0m\u001b[0;34m(\u001b[0m\u001b[0mself\u001b[0m\u001b[0;34m,\u001b[0m \u001b[0mx\u001b[0m\u001b[0;34m,\u001b[0m \u001b[0my\u001b[0m\u001b[0;34m,\u001b[0m \u001b[0mbatch_size\u001b[0m\u001b[0;34m=\u001b[0m\u001b[0;36m32\u001b[0m\u001b[0;34m,\u001b[0m \u001b[0mverbose\u001b[0m\u001b[0;34m=\u001b[0m\u001b[0;36m1\u001b[0m\u001b[0;34m,\u001b[0m \u001b[0msample_weight\u001b[0m\u001b[0;34m=\u001b[0m\u001b[0;32mNone\u001b[0m\u001b[0;34m)\u001b[0m\u001b[0;34m:\u001b[0m\u001b[0;34m\u001b[0m\u001b[0m\n",
      "\u001b[0;32m/home/dataanalysis/anaconda2/envs/python3.5/lib/python3.5/site-packages/keras/engine/training.py\u001b[0m in \u001b[0;36m_fit_loop\u001b[0;34m(self, f, ins, out_labels, batch_size, epochs, verbose, callbacks, val_f, val_ins, shuffle, callback_metrics, initial_epoch)\u001b[0m\n\u001b[1;32m   1162\u001b[0m                         val_outs = self._test_loop(val_f, val_ins,\n\u001b[1;32m   1163\u001b[0m                                                    \u001b[0mbatch_size\u001b[0m\u001b[0;34m=\u001b[0m\u001b[0mbatch_size\u001b[0m\u001b[0;34m,\u001b[0m\u001b[0;34m\u001b[0m\u001b[0m\n\u001b[0;32m-> 1164\u001b[0;31m                                                    verbose=0)\n\u001b[0m\u001b[1;32m   1165\u001b[0m                         \u001b[0;32mif\u001b[0m \u001b[0;32mnot\u001b[0m \u001b[0misinstance\u001b[0m\u001b[0;34m(\u001b[0m\u001b[0mval_outs\u001b[0m\u001b[0;34m,\u001b[0m \u001b[0mlist\u001b[0m\u001b[0;34m)\u001b[0m\u001b[0;34m:\u001b[0m\u001b[0;34m\u001b[0m\u001b[0m\n\u001b[1;32m   1166\u001b[0m                             \u001b[0mval_outs\u001b[0m \u001b[0;34m=\u001b[0m \u001b[0;34m[\u001b[0m\u001b[0mval_outs\u001b[0m\u001b[0;34m]\u001b[0m\u001b[0;34m\u001b[0m\u001b[0m\n",
      "\u001b[0;32m/home/dataanalysis/anaconda2/envs/python3.5/lib/python3.5/site-packages/keras/engine/training.py\u001b[0m in \u001b[0;36m_test_loop\u001b[0;34m(self, f, ins, batch_size, verbose)\u001b[0m\n\u001b[1;32m   1264\u001b[0m                 \u001b[0mins_batch\u001b[0m \u001b[0;34m=\u001b[0m \u001b[0m_slice_arrays\u001b[0m\u001b[0;34m(\u001b[0m\u001b[0mins\u001b[0m\u001b[0;34m,\u001b[0m \u001b[0mbatch_ids\u001b[0m\u001b[0;34m)\u001b[0m\u001b[0;34m\u001b[0m\u001b[0m\n\u001b[1;32m   1265\u001b[0m \u001b[0;34m\u001b[0m\u001b[0m\n\u001b[0;32m-> 1266\u001b[0;31m             \u001b[0mbatch_outs\u001b[0m \u001b[0;34m=\u001b[0m \u001b[0mf\u001b[0m\u001b[0;34m(\u001b[0m\u001b[0mins_batch\u001b[0m\u001b[0;34m)\u001b[0m\u001b[0;34m\u001b[0m\u001b[0m\n\u001b[0m\u001b[1;32m   1267\u001b[0m             \u001b[0;32mif\u001b[0m \u001b[0misinstance\u001b[0m\u001b[0;34m(\u001b[0m\u001b[0mbatch_outs\u001b[0m\u001b[0;34m,\u001b[0m \u001b[0mlist\u001b[0m\u001b[0;34m)\u001b[0m\u001b[0;34m:\u001b[0m\u001b[0;34m\u001b[0m\u001b[0m\n\u001b[1;32m   1268\u001b[0m                 \u001b[0;32mif\u001b[0m \u001b[0mbatch_index\u001b[0m \u001b[0;34m==\u001b[0m \u001b[0;36m0\u001b[0m\u001b[0;34m:\u001b[0m\u001b[0;34m\u001b[0m\u001b[0m\n",
      "\u001b[0;32m/home/dataanalysis/anaconda2/envs/python3.5/lib/python3.5/site-packages/keras/backend/tensorflow_backend.py\u001b[0m in \u001b[0;36m__call__\u001b[0;34m(self, inputs)\u001b[0m\n\u001b[1;32m   2227\u001b[0m         \u001b[0msession\u001b[0m \u001b[0;34m=\u001b[0m \u001b[0mget_session\u001b[0m\u001b[0;34m(\u001b[0m\u001b[0;34m)\u001b[0m\u001b[0;34m\u001b[0m\u001b[0m\n\u001b[1;32m   2228\u001b[0m         updated = session.run(self.outputs + [self.updates_op],\n\u001b[0;32m-> 2229\u001b[0;31m                               feed_dict=feed_dict)\n\u001b[0m\u001b[1;32m   2230\u001b[0m         \u001b[0;32mreturn\u001b[0m \u001b[0mupdated\u001b[0m\u001b[0;34m[\u001b[0m\u001b[0;34m:\u001b[0m\u001b[0mlen\u001b[0m\u001b[0;34m(\u001b[0m\u001b[0mself\u001b[0m\u001b[0;34m.\u001b[0m\u001b[0moutputs\u001b[0m\u001b[0;34m)\u001b[0m\u001b[0;34m]\u001b[0m\u001b[0;34m\u001b[0m\u001b[0m\n\u001b[1;32m   2231\u001b[0m \u001b[0;34m\u001b[0m\u001b[0m\n",
      "\u001b[0;32m/home/dataanalysis/anaconda2/envs/python3.5/lib/python3.5/site-packages/tensorflow/python/client/session.py\u001b[0m in \u001b[0;36mrun\u001b[0;34m(self, fetches, feed_dict, options, run_metadata)\u001b[0m\n\u001b[1;32m    776\u001b[0m     \u001b[0;32mtry\u001b[0m\u001b[0;34m:\u001b[0m\u001b[0;34m\u001b[0m\u001b[0m\n\u001b[1;32m    777\u001b[0m       result = self._run(None, fetches, feed_dict, options_ptr,\n\u001b[0;32m--> 778\u001b[0;31m                          run_metadata_ptr)\n\u001b[0m\u001b[1;32m    779\u001b[0m       \u001b[0;32mif\u001b[0m \u001b[0mrun_metadata\u001b[0m\u001b[0;34m:\u001b[0m\u001b[0;34m\u001b[0m\u001b[0m\n\u001b[1;32m    780\u001b[0m         \u001b[0mproto_data\u001b[0m \u001b[0;34m=\u001b[0m \u001b[0mtf_session\u001b[0m\u001b[0;34m.\u001b[0m\u001b[0mTF_GetBuffer\u001b[0m\u001b[0;34m(\u001b[0m\u001b[0mrun_metadata_ptr\u001b[0m\u001b[0;34m)\u001b[0m\u001b[0;34m\u001b[0m\u001b[0m\n",
      "\u001b[0;32m/home/dataanalysis/anaconda2/envs/python3.5/lib/python3.5/site-packages/tensorflow/python/client/session.py\u001b[0m in \u001b[0;36m_run\u001b[0;34m(self, handle, fetches, feed_dict, options, run_metadata)\u001b[0m\n\u001b[1;32m    980\u001b[0m     \u001b[0;32mif\u001b[0m \u001b[0mfinal_fetches\u001b[0m \u001b[0;32mor\u001b[0m \u001b[0mfinal_targets\u001b[0m\u001b[0;34m:\u001b[0m\u001b[0;34m\u001b[0m\u001b[0m\n\u001b[1;32m    981\u001b[0m       results = self._do_run(handle, final_targets, final_fetches,\n\u001b[0;32m--> 982\u001b[0;31m                              feed_dict_string, options, run_metadata)\n\u001b[0m\u001b[1;32m    983\u001b[0m     \u001b[0;32melse\u001b[0m\u001b[0;34m:\u001b[0m\u001b[0;34m\u001b[0m\u001b[0m\n\u001b[1;32m    984\u001b[0m       \u001b[0mresults\u001b[0m \u001b[0;34m=\u001b[0m \u001b[0;34m[\u001b[0m\u001b[0;34m]\u001b[0m\u001b[0;34m\u001b[0m\u001b[0m\n",
      "\u001b[0;32m/home/dataanalysis/anaconda2/envs/python3.5/lib/python3.5/site-packages/tensorflow/python/client/session.py\u001b[0m in \u001b[0;36m_do_run\u001b[0;34m(self, handle, target_list, fetch_list, feed_dict, options, run_metadata)\u001b[0m\n\u001b[1;32m   1030\u001b[0m     \u001b[0;32mif\u001b[0m \u001b[0mhandle\u001b[0m \u001b[0;32mis\u001b[0m \u001b[0;32mNone\u001b[0m\u001b[0;34m:\u001b[0m\u001b[0;34m\u001b[0m\u001b[0m\n\u001b[1;32m   1031\u001b[0m       return self._do_call(_run_fn, self._session, feed_dict, fetch_list,\n\u001b[0;32m-> 1032\u001b[0;31m                            target_list, options, run_metadata)\n\u001b[0m\u001b[1;32m   1033\u001b[0m     \u001b[0;32melse\u001b[0m\u001b[0;34m:\u001b[0m\u001b[0;34m\u001b[0m\u001b[0m\n\u001b[1;32m   1034\u001b[0m       return self._do_call(_prun_fn, self._session, handle, feed_dict,\n",
      "\u001b[0;32m/home/dataanalysis/anaconda2/envs/python3.5/lib/python3.5/site-packages/tensorflow/python/client/session.py\u001b[0m in \u001b[0;36m_do_call\u001b[0;34m(self, fn, *args)\u001b[0m\n\u001b[1;32m   1037\u001b[0m   \u001b[0;32mdef\u001b[0m \u001b[0m_do_call\u001b[0m\u001b[0;34m(\u001b[0m\u001b[0mself\u001b[0m\u001b[0;34m,\u001b[0m \u001b[0mfn\u001b[0m\u001b[0;34m,\u001b[0m \u001b[0;34m*\u001b[0m\u001b[0margs\u001b[0m\u001b[0;34m)\u001b[0m\u001b[0;34m:\u001b[0m\u001b[0;34m\u001b[0m\u001b[0m\n\u001b[1;32m   1038\u001b[0m     \u001b[0;32mtry\u001b[0m\u001b[0;34m:\u001b[0m\u001b[0;34m\u001b[0m\u001b[0m\n\u001b[0;32m-> 1039\u001b[0;31m       \u001b[0;32mreturn\u001b[0m \u001b[0mfn\u001b[0m\u001b[0;34m(\u001b[0m\u001b[0;34m*\u001b[0m\u001b[0margs\u001b[0m\u001b[0;34m)\u001b[0m\u001b[0;34m\u001b[0m\u001b[0m\n\u001b[0m\u001b[1;32m   1040\u001b[0m     \u001b[0;32mexcept\u001b[0m \u001b[0merrors\u001b[0m\u001b[0;34m.\u001b[0m\u001b[0mOpError\u001b[0m \u001b[0;32mas\u001b[0m \u001b[0me\u001b[0m\u001b[0;34m:\u001b[0m\u001b[0;34m\u001b[0m\u001b[0m\n\u001b[1;32m   1041\u001b[0m       \u001b[0mmessage\u001b[0m \u001b[0;34m=\u001b[0m \u001b[0mcompat\u001b[0m\u001b[0;34m.\u001b[0m\u001b[0mas_text\u001b[0m\u001b[0;34m(\u001b[0m\u001b[0me\u001b[0m\u001b[0;34m.\u001b[0m\u001b[0mmessage\u001b[0m\u001b[0;34m)\u001b[0m\u001b[0;34m\u001b[0m\u001b[0m\n",
      "\u001b[0;32m/home/dataanalysis/anaconda2/envs/python3.5/lib/python3.5/site-packages/tensorflow/python/client/session.py\u001b[0m in \u001b[0;36m_run_fn\u001b[0;34m(session, feed_dict, fetch_list, target_list, options, run_metadata)\u001b[0m\n\u001b[1;32m   1019\u001b[0m         return tf_session.TF_Run(session, options,\n\u001b[1;32m   1020\u001b[0m                                  \u001b[0mfeed_dict\u001b[0m\u001b[0;34m,\u001b[0m \u001b[0mfetch_list\u001b[0m\u001b[0;34m,\u001b[0m \u001b[0mtarget_list\u001b[0m\u001b[0;34m,\u001b[0m\u001b[0;34m\u001b[0m\u001b[0m\n\u001b[0;32m-> 1021\u001b[0;31m                                  status, run_metadata)\n\u001b[0m\u001b[1;32m   1022\u001b[0m \u001b[0;34m\u001b[0m\u001b[0m\n\u001b[1;32m   1023\u001b[0m     \u001b[0;32mdef\u001b[0m \u001b[0m_prun_fn\u001b[0m\u001b[0;34m(\u001b[0m\u001b[0msession\u001b[0m\u001b[0;34m,\u001b[0m \u001b[0mhandle\u001b[0m\u001b[0;34m,\u001b[0m \u001b[0mfeed_dict\u001b[0m\u001b[0;34m,\u001b[0m \u001b[0mfetch_list\u001b[0m\u001b[0;34m)\u001b[0m\u001b[0;34m:\u001b[0m\u001b[0;34m\u001b[0m\u001b[0m\n",
      "\u001b[0;31mKeyboardInterrupt\u001b[0m: "
     ]
    }
   ],
   "source": [
    "model.fit([X_train_ct,X_train_nl],yco_train, validation_data=([X_test_ct,X_test_nl],yco_test),callbacks=callbacks_list, epochs=100, batch_size=100, verbose=1)"
   ]
  },
  {
   "cell_type": "code",
   "execution_count": 25,
   "metadata": {
    "collapsed": true
   },
   "outputs": [],
   "source": [
    "# model2.load_weights(weight_log+\"weights_best_yco_3_1.hdf5\")\n",
    "# model2.load_weights(weight_log+\"weights_best_yco_4_1.hdf5\")\n",
    "model2.load_weights(weight_log+\"weights_best_yco_4_2.hdf5\")\n",
    "\n",
    "model2.compile(loss='binary_crossentropy', optimizer=opti, metrics=['accuracy','mse'])"
   ]
  },
  {
   "cell_type": "code",
   "execution_count": 26,
   "metadata": {
    "collapsed": false
   },
   "outputs": [
    {
     "name": "stdout",
     "output_type": "stream",
     "text": [
      "10880/10885 [============================>.] - ETA: 0sAccuracy: 82.82%\n",
      "MSE_class :  0.17179604961\n",
      "MSE_prob :  0.127724313221\n"
     ]
    }
   ],
   "source": [
    "#### Evaluation on the test set\n",
    "yco_predc=model2.predict_classes([X_test_ct,X_test_nl])\n",
    "yco_predp=model2.predict([X_test_ct,X_test_nl])\n",
    "\n",
    "yco_predc=[i[0] for i in yco_predc]\n",
    "yco_predp=[i[0] for i in yco_predp]\n",
    "\n",
    "scores = model2.evaluate([X_test_ct,X_test_nl], yco_test, verbose=0)\n",
    "mse_c=mse(yco_test,yco_predc)\n",
    "mse_p=mse(yco_test,yco_predp)\n",
    "print(\"Accuracy: %.2f%%\" % (scores[1]*100)) \n",
    "print(\"MSE_class : \",mse_c)\n",
    "print(\"MSE_prob : \",mse_p)"
   ]
  },
  {
   "cell_type": "code",
   "execution_count": 27,
   "metadata": {
    "collapsed": true
   },
   "outputs": [],
   "source": [
    "# model2.save('model_yco_3_3.h5') # MSE prob 82.09% 0.1310365\n",
    "# model2.save('model_yco_3_4.h5') # 82.35%     0.13095322\n",
    "\n",
    "# model_nl.save('model_yco_4_1(1).h5') #0.130033\n",
    "# model_ct.save('model_yco_4_1(2).h5')\n",
    "\n",
    "model_nl.save('model_yco_4_2(1).h5') #0.127724\n",
    "model_ct.save('model_yco_4_2(2).h5')"
   ]
  },
  {
   "cell_type": "code",
   "execution_count": null,
   "metadata": {
    "collapsed": true
   },
   "outputs": [],
   "source": []
  },
  {
   "cell_type": "code",
   "execution_count": null,
   "metadata": {
    "collapsed": true
   },
   "outputs": [],
   "source": []
  },
  {
   "cell_type": "markdown",
   "metadata": {},
   "source": [
    "### Validation"
   ]
  },
  {
   "cell_type": "code",
   "execution_count": 28,
   "metadata": {
    "collapsed": false
   },
   "outputs": [
    {
     "name": "stderr",
     "output_type": "stream",
     "text": [
      "/home/dataanalysis/anaconda2/envs/python3.5/lib/python3.5/site-packages/keras/models.py:248: UserWarning: No training configuration found in save file: the model was *not* compiled. Compile it manually.\n",
      "  warnings.warn('No training configuration found in save file: '\n",
      "/home/dataanalysis/anaconda2/envs/python3.5/lib/python3.5/site-packages/ipykernel/__main__.py:6: UserWarning: The `Merge` layer is deprecated and will be removed after 08/2017. Use instead layers from `keras.layers.merge`, e.g. `add`, `concatenate`, etc.\n"
     ]
    }
   ],
   "source": [
    "X_vl=np.loadtxt(base_dir_vl+'data_input_yco_4_2.txt')\n",
    "\n",
    "yco_model_1=load_model('model_yco_4_2(1).h5')\n",
    "yco_model_2=load_model('model_yco_4_2(2).h5')\n",
    "yco_model = Sequential()\n",
    "yco_model.add(Merge([yco_model_2,yco_model_1], mode='concat'))\n",
    "yco_model.add(Dense(1,activation='sigmoid'))\n",
    "\n",
    "yco_model.load_weights(weight_log+\"weights_best_yco_4_2.hdf5\")\n",
    "yco_model.compile(loss='binary_crossentropy', optimizer=opti, metrics=['accuracy','mse'])"
   ]
  },
  {
   "cell_type": "code",
   "execution_count": 29,
   "metadata": {
    "collapsed": true
   },
   "outputs": [],
   "source": [
    "X_vl_nl=np.array([x[251:] for x in X_vl])\n",
    "X_vl_ct=np.array([x[:251] for x in X_vl])"
   ]
  },
  {
   "cell_type": "code",
   "execution_count": 30,
   "metadata": {
    "collapsed": true
   },
   "outputs": [],
   "source": [
    "yco_predp=yco_model.predict([X_vl_ct,X_vl_nl])\n",
    "yco_predp=[i[0] for i in yco_predp]"
   ]
  },
  {
   "cell_type": "code",
   "execution_count": 31,
   "metadata": {
    "collapsed": true
   },
   "outputs": [],
   "source": [
    "with open('conciseness_valid.predict','w') as fcl:\n",
    "    for pp in yco_predp:\n",
    "        fcl.write(str(pp))\n",
    "        fcl.write('\\n')\n",
    "fcl.close()"
   ]
  },
  {
   "cell_type": "code",
   "execution_count": null,
   "metadata": {
    "collapsed": true
   },
   "outputs": [],
   "source": []
  },
  {
   "cell_type": "code",
   "execution_count": null,
   "metadata": {
    "collapsed": true
   },
   "outputs": [],
   "source": []
  }
 ],
 "metadata": {
  "anaconda-cloud": {},
  "kernelspec": {
   "display_name": "Python [conda env:python3.5]",
   "language": "python",
   "name": "conda-env-python3.5-py"
  },
  "language_info": {
   "codemirror_mode": {
    "name": "ipython",
    "version": 3
   },
   "file_extension": ".py",
   "mimetype": "text/x-python",
   "name": "python",
   "nbconvert_exporter": "python",
   "pygments_lexer": "ipython3",
   "version": "3.5.2"
  }
 },
 "nbformat": 4,
 "nbformat_minor": 2
}
