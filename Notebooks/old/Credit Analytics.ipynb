{
 "cells": [
  {
   "cell_type": "markdown",
   "metadata": {},
   "source": [
    "## Import Minimum Library"
   ]
  },
  {
   "cell_type": "code",
   "execution_count": 3,
   "metadata": {
    "collapsed": true
   },
   "outputs": [],
   "source": [
    "import pandas as pd\n",
    "import numpy as np"
   ]
  },
  {
   "cell_type": "markdown",
   "metadata": {},
   "source": [
    "## Read the Data"
   ]
  },
  {
   "cell_type": "code",
   "execution_count": 70,
   "metadata": {
    "collapsed": false
   },
   "outputs": [],
   "source": [
    "data = pd.read_csv(\"trainCredit.csv\")"
   ]
  },
  {
   "cell_type": "markdown",
   "metadata": {},
   "source": [
    "## Check for NAN"
   ]
  },
  {
   "cell_type": "code",
   "execution_count": 72,
   "metadata": {
    "collapsed": false
   },
   "outputs": [
    {
     "data": {
      "text/plain": [
       "LIMIT_BAL                     0\n",
       "SEX                           0\n",
       "EDUCATION                     0\n",
       "MARRIAGE                      0\n",
       "AGE                           0\n",
       "PAY_0                         0\n",
       "PAY_2                         0\n",
       "PAY_3                         0\n",
       "PAY_4                         0\n",
       "PAY_5                         0\n",
       "PAY_6                         0\n",
       "BILL_AMT1                     0\n",
       "BILL_AMT2                     0\n",
       "BILL_AMT3                     0\n",
       "BILL_AMT4                     0\n",
       "BILL_AMT5                     0\n",
       "BILL_AMT6                     0\n",
       "PAY_AMT1                      0\n",
       "PAY_AMT2                      0\n",
       "PAY_AMT3                      0\n",
       "PAY_AMT4                      0\n",
       "PAY_AMT5                      0\n",
       "PAY_AMT6                      0\n",
       "default payment next month    0\n",
       "dtype: int64"
      ]
     },
     "execution_count": 72,
     "metadata": {},
     "output_type": "execute_result"
    }
   ],
   "source": [
    "data.isnull().sum()"
   ]
  },
  {
   "cell_type": "markdown",
   "metadata": {},
   "source": [
    "## Extract the Data"
   ]
  },
  {
   "cell_type": "code",
   "execution_count": 73,
   "metadata": {
    "collapsed": true
   },
   "outputs": [],
   "source": [
    "def extractData():\n",
    "    data = pd.read_csv(\"trainCredit.csv\")\n",
    "    y = data[\"default payment next month\"]\n",
    "    x = data.drop([\"default payment next month\"], axis = 1)\n",
    "    \n",
    "    return x, y, data"
   ]
  },
  {
   "cell_type": "code",
   "execution_count": 74,
   "metadata": {
    "collapsed": false
   },
   "outputs": [],
   "source": [
    "x, y, data = extractData()"
   ]
  },
  {
   "cell_type": "markdown",
   "metadata": {},
   "source": [
    "## The Benchmark"
   ]
  },
  {
   "cell_type": "code",
   "execution_count": 13,
   "metadata": {
    "collapsed": false
   },
   "outputs": [
    {
     "data": {
      "text/plain": [
       "0    0.7788\n",
       "1    0.2212\n",
       "Name: default payment next month, dtype: float64"
      ]
     },
     "execution_count": 13,
     "metadata": {},
     "output_type": "execute_result"
    }
   ],
   "source": [
    "y.value_counts(normalize=True)"
   ]
  },
  {
   "cell_type": "markdown",
   "metadata": {},
   "source": [
    "## Dummy data"
   ]
  },
  {
   "cell_type": "code",
   "execution_count": 31,
   "metadata": {
    "collapsed": true
   },
   "outputs": [],
   "source": [
    "def extractNumerical(x):\n",
    "    categorial = [\"SEX\", \"EDUCATION\", \"MARRIAGE\"]\n",
    "    numerical = x.drop(categorial, axis = 1)\n",
    "    \n",
    "    return numerical"
   ]
  },
  {
   "cell_type": "code",
   "execution_count": 54,
   "metadata": {
    "collapsed": true
   },
   "outputs": [],
   "source": [
    "def sexData(x):\n",
    "    sex = np.where(x[\"SEX\"] == 1, \"MALE\", \"FEMALE\")\n",
    "    sex = pd.DataFrame(sex)\n",
    "    sex.columns = ['sexDummy']\n",
    "    \n",
    "    return sex"
   ]
  },
  {
   "cell_type": "code",
   "execution_count": 55,
   "metadata": {
    "collapsed": true
   },
   "outputs": [],
   "source": [
    "def educData(x):\n",
    "    educ = np.where(x[\"EDUCATION\"] == 1, \"S2\", x[\"EDUCATION\"])\n",
    "    educ = np.where(x[\"EDUCATION\"] == 2, \"S1\", educ)\n",
    "    educ = np.where(x[\"EDUCATION\"] == 3, \"SMA\", educ)\n",
    "    educ = np.where(x[\"EDUCATION\"] == 4, \"LAIN\", educ)\n",
    "    educ = pd.DataFrame(educ)\n",
    "    educ.columns = ['educDummy']\n",
    "    \n",
    "    return educ"
   ]
  },
  {
   "cell_type": "code",
   "execution_count": 59,
   "metadata": {
    "collapsed": true
   },
   "outputs": [],
   "source": [
    "def marriageData(x):\n",
    "    marriage = np.where(x[\"MARRIAGE\"] == 1, \"MARRIED\", x[\"MARRIAGE\"])\n",
    "    marriage = np.where(x[\"MARRIAGE\"] == 2, \"SINGLE\", marriage)\n",
    "    marriage = np.where(x[\"MARRIAGE\"] == 3, \"OTHER\", marriage)\n",
    "    marriage = pd.DataFrame(marriage)\n",
    "    marriage.columns = ['marriageDummy']\n",
    "    \n",
    "    return marriage"
   ]
  },
  {
   "cell_type": "code",
   "execution_count": 76,
   "metadata": {
    "collapsed": false
   },
   "outputs": [],
   "source": [
    "sex = sexData(x)\n",
    "educ = educData(x)\n",
    "marriage = marriageData(x)\n",
    "dummy = pd.concat([sex, educ, marriage], axis=1)"
   ]
  },
  {
   "cell_type": "code",
   "execution_count": 63,
   "metadata": {
    "collapsed": false
   },
   "outputs": [],
   "source": [
    "def extractDummy(x):\n",
    "    categorial = [\"sexDummy\", \"educDummy\", \"marriageDummy\"]\n",
    "    dummy = pd.get_dummies(x[categorial])\n",
    "    \n",
    "    return dummy"
   ]
  },
  {
   "cell_type": "code",
   "execution_count": 77,
   "metadata": {
    "collapsed": false
   },
   "outputs": [],
   "source": [
    "numerical = extractNumerical(x)\n",
    "dummy = extractDummy(dummy)\n",
    "x_data = pd.concat([numerical, dummy], axis=1)"
   ]
  },
  {
   "cell_type": "code",
   "execution_count": 78,
   "metadata": {
    "collapsed": false
   },
   "outputs": [
    {
     "data": {
      "text/html": [
       "<div>\n",
       "<table border=\"1\" class=\"dataframe\">\n",
       "  <thead>\n",
       "    <tr style=\"text-align: right;\">\n",
       "      <th></th>\n",
       "      <th>sexDummy_FEMALE</th>\n",
       "      <th>sexDummy_MALE</th>\n",
       "      <th>educDummy_0</th>\n",
       "      <th>educDummy_5</th>\n",
       "      <th>educDummy_6</th>\n",
       "      <th>educDummy_LAIN</th>\n",
       "      <th>educDummy_S1</th>\n",
       "      <th>educDummy_S2</th>\n",
       "      <th>educDummy_SMA</th>\n",
       "      <th>marriageDummy_0</th>\n",
       "      <th>marriageDummy_MARRIED</th>\n",
       "      <th>marriageDummy_OTHER</th>\n",
       "      <th>marriageDummy_SINGLE</th>\n",
       "    </tr>\n",
       "  </thead>\n",
       "  <tbody>\n",
       "    <tr>\n",
       "      <th>0</th>\n",
       "      <td>1.0</td>\n",
       "      <td>0.0</td>\n",
       "      <td>0.0</td>\n",
       "      <td>0.0</td>\n",
       "      <td>0.0</td>\n",
       "      <td>0.0</td>\n",
       "      <td>1.0</td>\n",
       "      <td>0.0</td>\n",
       "      <td>0.0</td>\n",
       "      <td>0.0</td>\n",
       "      <td>1.0</td>\n",
       "      <td>0.0</td>\n",
       "      <td>0.0</td>\n",
       "    </tr>\n",
       "    <tr>\n",
       "      <th>1</th>\n",
       "      <td>1.0</td>\n",
       "      <td>0.0</td>\n",
       "      <td>0.0</td>\n",
       "      <td>0.0</td>\n",
       "      <td>0.0</td>\n",
       "      <td>0.0</td>\n",
       "      <td>1.0</td>\n",
       "      <td>0.0</td>\n",
       "      <td>0.0</td>\n",
       "      <td>0.0</td>\n",
       "      <td>0.0</td>\n",
       "      <td>0.0</td>\n",
       "      <td>1.0</td>\n",
       "    </tr>\n",
       "    <tr>\n",
       "      <th>2</th>\n",
       "      <td>1.0</td>\n",
       "      <td>0.0</td>\n",
       "      <td>0.0</td>\n",
       "      <td>0.0</td>\n",
       "      <td>0.0</td>\n",
       "      <td>0.0</td>\n",
       "      <td>1.0</td>\n",
       "      <td>0.0</td>\n",
       "      <td>0.0</td>\n",
       "      <td>0.0</td>\n",
       "      <td>0.0</td>\n",
       "      <td>0.0</td>\n",
       "      <td>1.0</td>\n",
       "    </tr>\n",
       "    <tr>\n",
       "      <th>3</th>\n",
       "      <td>1.0</td>\n",
       "      <td>0.0</td>\n",
       "      <td>0.0</td>\n",
       "      <td>0.0</td>\n",
       "      <td>0.0</td>\n",
       "      <td>0.0</td>\n",
       "      <td>1.0</td>\n",
       "      <td>0.0</td>\n",
       "      <td>0.0</td>\n",
       "      <td>0.0</td>\n",
       "      <td>1.0</td>\n",
       "      <td>0.0</td>\n",
       "      <td>0.0</td>\n",
       "    </tr>\n",
       "    <tr>\n",
       "      <th>4</th>\n",
       "      <td>0.0</td>\n",
       "      <td>1.0</td>\n",
       "      <td>0.0</td>\n",
       "      <td>0.0</td>\n",
       "      <td>0.0</td>\n",
       "      <td>0.0</td>\n",
       "      <td>1.0</td>\n",
       "      <td>0.0</td>\n",
       "      <td>0.0</td>\n",
       "      <td>0.0</td>\n",
       "      <td>1.0</td>\n",
       "      <td>0.0</td>\n",
       "      <td>0.0</td>\n",
       "    </tr>\n",
       "  </tbody>\n",
       "</table>\n",
       "</div>"
      ],
      "text/plain": [
       "   sexDummy_FEMALE  sexDummy_MALE  educDummy_0  educDummy_5  educDummy_6  \\\n",
       "0              1.0            0.0          0.0          0.0          0.0   \n",
       "1              1.0            0.0          0.0          0.0          0.0   \n",
       "2              1.0            0.0          0.0          0.0          0.0   \n",
       "3              1.0            0.0          0.0          0.0          0.0   \n",
       "4              0.0            1.0          0.0          0.0          0.0   \n",
       "\n",
       "   educDummy_LAIN  educDummy_S1  educDummy_S2  educDummy_SMA  marriageDummy_0  \\\n",
       "0             0.0           1.0           0.0            0.0              0.0   \n",
       "1             0.0           1.0           0.0            0.0              0.0   \n",
       "2             0.0           1.0           0.0            0.0              0.0   \n",
       "3             0.0           1.0           0.0            0.0              0.0   \n",
       "4             0.0           1.0           0.0            0.0              0.0   \n",
       "\n",
       "   marriageDummy_MARRIED  marriageDummy_OTHER  marriageDummy_SINGLE  \n",
       "0                    1.0                  0.0                   0.0  \n",
       "1                    0.0                  0.0                   1.0  \n",
       "2                    0.0                  0.0                   1.0  \n",
       "3                    1.0                  0.0                   0.0  \n",
       "4                    1.0                  0.0                   0.0  "
      ]
     },
     "execution_count": 78,
     "metadata": {},
     "output_type": "execute_result"
    }
   ],
   "source": [
    "dummy.head()"
   ]
  },
  {
   "cell_type": "markdown",
   "metadata": {},
   "source": [
    "# The Classifiers before Feature Engineering"
   ]
  },
  {
   "cell_type": "code",
   "execution_count": 79,
   "metadata": {
    "collapsed": true
   },
   "outputs": [],
   "source": [
    "from sklearn.cross_validation import train_test_split\n",
    "x_train, x_test, y_train, y_test = train_test_split(x_data, y, test_size = 0.25, random_state = 123)"
   ]
  },
  {
   "cell_type": "code",
   "execution_count": 80,
   "metadata": {
    "collapsed": true
   },
   "outputs": [],
   "source": [
    "from sklearn.neighbors import KNeighborsClassifier\n",
    "from sklearn.linear_model import LogisticRegression, LogisticRegressionCV\n",
    "from sklearn.svm import LinearSVC, SVC\n",
    "from sklearn.tree import ExtraTreeClassifier, DecisionTreeClassifier\n",
    "from sklearn.ensemble import RandomForestClassifier, GradientBoostingClassifier, AdaBoostClassifier, BaggingClassifier\n",
    "\n",
    "from mlxtend.classifier import StackingClassifier\n",
    "from sklearn.cross_validation import cross_val_score\n"
   ]
  },
  {
   "cell_type": "code",
   "execution_count": 107,
   "metadata": {
    "collapsed": false
   },
   "outputs": [],
   "source": [
    "knn = KNeighborsClassifier()\n",
    "\n",
    "logreg = LogisticRegression(random_state = 123)\n",
    "\n",
    "linearSVM = LinearSVC( random_state = 123)\n",
    "kernelSVM = SVC( random_state = 123)\n",
    "\n",
    "extratree = ExtraTreeClassifier(random_state = 123)\n",
    "decisiontree = DecisionTreeClassifier(random_state = 123)\n",
    "\n",
    "bagging = BaggingClassifier(random_state= 123, n_estimators= 100)\n",
    "randomforest = RandomForestClassifier(random_state = 123, n_estimators= 100)\n",
    "boosting = GradientBoostingClassifier( random_state = 123, n_estimators = 100)\n",
    "adaboost = AdaBoostClassifier(random_state= 123, n_estimators= 100)\n",
    "\n"
   ]
  },
  {
   "cell_type": "code",
   "execution_count": 108,
   "metadata": {
    "collapsed": true
   },
   "outputs": [],
   "source": [
    "boosting2 = GradientBoostingClassifier( random_state = 123, n_estimators = 150)\n",
    "boosting3 = GradientBoostingClassifier( random_state = 123, n_estimators = 200)\n"
   ]
  },
  {
   "cell_type": "code",
   "execution_count": 109,
   "metadata": {
    "collapsed": true
   },
   "outputs": [],
   "source": [
    "classifiers = [knn, logreg, linearSVM, kernelSVM, decisiontree, extratree, bagging, randomforest, boosting, adaboost]"
   ]
  },
  {
   "cell_type": "code",
   "execution_count": 110,
   "metadata": {
    "collapsed": false
   },
   "outputs": [],
   "source": [
    "# for i in classifiers:\n",
    "#     scores = cross_val_score(i, x_data, y, cv=7, scoring='accuracy')\n",
    "#     print(\"Accuracy: %0.4f (+/- %0.4f)\" \n",
    "#           % (scores.mean(), scores.std())), i"
   ]
  },
  {
   "cell_type": "code",
   "execution_count": 113,
   "metadata": {
    "collapsed": false
   },
   "outputs": [
    {
     "name": "stdout",
     "output_type": "stream",
     "text": [
      "7-fold cross validation:\n",
      "\n",
      "Accuracy: 0.7552 (+/- 0.0069) [KNN]\n",
      "Accuracy: 0.7788 (+/- 0.0003) [Logistic Regression]\n",
      "Accuracy: 0.7239 (+/- 0.0093) [Decision Trees]\n",
      "Accuracy: 0.7265 (+/- 0.0137) [Extra Trees]\n",
      "Accuracy: 0.8152 (+/- 0.0103) [Bagging]\n",
      "Accuracy: 0.8164 (+/- 0.0096) [Random Forest]\n",
      "Accuracy: 0.8210 (+/- 0.0106) [Stochastic Gradient Boosting]\n",
      "Accuracy: 0.8209 (+/- 0.0110) [Stochastic Gradient Boosting 2]\n",
      "Accuracy: 0.8209 (+/- 0.0107) [Stochastic Gradient Boosting 3]\n",
      "Accuracy: 0.8169 (+/- 0.0087) [Adaptive Boosting]\n",
      "Accuracy: 0.8135 (+/- 0.0110) [Stacking    : Stacking All Model with Logistic Reg]\n"
     ]
    }
   ],
   "source": [
    "logregCVStacking = LogisticRegressionCV(random_state= 123)\n",
    "sclf = StackingClassifier(classifiers=[boosting, boosting2, boosting3],\n",
    "                          use_probas=True,\n",
    "                          average_probas=False,\n",
    "                          meta_classifier= logregCVStacking)\n",
    "\n",
    "print('7-fold cross validation:\\n')\n",
    "\n",
    "for clf, label in zip([knn, logreg, decisiontree, extratree, bagging, randomforest, boosting, boosting2, boosting3, adaboost, sclf], \n",
    "                      ['KNN',\n",
    "                       'Logistic Regression', \n",
    "#                        'Linear SVM', \n",
    "#                        'Kernel SVM',\n",
    "                       'Decision Trees',\n",
    "                       'Extra Trees',\n",
    "                       'Bagging',\n",
    "                       'Random Forest',\n",
    "                       'Stochastic Gradient Boosting',\n",
    "                       'Stochastic Gradient Boosting 2',\n",
    "                       'Stochastic Gradient Boosting 3',\n",
    "                       'Adaptive Boosting',\n",
    "                       'Stacking    : Stacking All Model with Logistic Reg']):\n",
    "\n",
    "    scores = cross_val_score(clf, x_data, y, cv=7, scoring='accuracy')\n",
    "    print(\"Accuracy: %0.4f (+/- %0.4f) [%s]\" \n",
    "          % (scores.mean(), scores.std(), label))"
   ]
  },
  {
   "cell_type": "markdown",
   "metadata": {
    "collapsed": true
   },
   "source": [
    "# Feature Engineering"
   ]
  },
  {
   "cell_type": "code",
   "execution_count": 46,
   "metadata": {
    "collapsed": false
   },
   "outputs": [],
   "source": [
    "def featureEngineering():\n",
    "    \n",
    "    data = x_data\n",
    "    feature = pd.DataFrame()\n",
    "    \n",
    "    feature[\"satisfaction_hour\"] = data[\"satisfaction_level\"] * data[\"average_montly_hours\"]\n",
    "    feature[\"disatisfaction_hour\"] = data[\"average_montly_hours\"] - feature[\"satisfaction_hour\"]\n",
    "    \n",
    "    feature[\"satisfaction_project\"] =  data[\"satisfaction_level\"] * data[\"number_project\"]\n",
    "    feature[\"disatisfaction_project\"] =  data[\"number_project\"] - feature[\"satisfaction_project\"]\n",
    "    \n",
    "    feature[\"project_hour_average\"] = data[\"average_montly_hours\"] / data[\"number_project\"]\n",
    "    feature[\"time_per_project\"] = 1/data[\"number_project\"]\n",
    "    \n",
    "    feature[\"salary_per_hour\"] = data[\"salary numerical\"] / data[\"average_montly_hours\"]\n",
    "    feature[\"salary_per_project\"] = data[\"salary numerical\"] / data[\"number_project\"]\n",
    "\n",
    "    return feature\n",
    "    "
   ]
  },
  {
   "cell_type": "code",
   "execution_count": 47,
   "metadata": {
    "collapsed": false
   },
   "outputs": [],
   "source": [
    "featureEngineering = featureEngineering()\n",
    "x_data_feature_engineering = pd.concat([x_data, featureEngineering], axis=1)"
   ]
  },
  {
   "cell_type": "markdown",
   "metadata": {},
   "source": [
    "# The Classifiers after Feature Engineering"
   ]
  },
  {
   "cell_type": "code",
   "execution_count": 48,
   "metadata": {
    "collapsed": false
   },
   "outputs": [
    {
     "name": "stdout",
     "output_type": "stream",
     "text": [
      "7-fold cross validation:\n",
      "\n",
      "Accuracy: 0.9441 (+/- 0.0103) [KNN]\n",
      "Accuracy: 0.8823 (+/- 0.0111) [Logistic Regression]\n",
      "Accuracy: 0.7880 (+/- 0.0517) [Linear SVM]\n",
      "Accuracy: 0.9706 (+/- 0.0143) [Kernel SVM]\n",
      "Accuracy: 0.9833 (+/- 0.0099) [Decision Trees]\n",
      "Accuracy: 0.9667 (+/- 0.0202) [Extra Trees]\n",
      "Accuracy: 0.9911 (+/- 0.0087) [Bagging]\n",
      "Accuracy: 0.9922 (+/- 0.0078) [Random Forest 1]\n",
      "Accuracy: 0.9922 (+/- 0.0082) [Random Forest 2]\n",
      "Accuracy: 0.9923 (+/- 0.0077) [Random Forest 3]\n",
      "Accuracy: 0.9765 (+/- 0.0022) [Stochastic Gradient Boosting]\n",
      "Accuracy: 0.9667 (+/- 0.0032) [Adaptive Boosting]\n",
      "Accuracy: 0.9924 (+/- 0.0075) [Stacking    : Stacking All Model with Logistic Reg]\n"
     ]
    }
   ],
   "source": [
    "logregCVStacking = LogisticRegressionCV(random_state= 123)\n",
    "sclf = StackingClassifier(classifiers=[randomforest, boosting, randomforest2, randomforest3],\n",
    "                          use_probas=True,\n",
    "                          average_probas=False,\n",
    "                          meta_classifier= logregCVStacking)\n",
    "\n",
    "print('7-fold cross validation:\\n')\n",
    "\n",
    "for clf, label in zip([knn, logreg, linearSVM, kernelSVM, decisiontree, extratree, bagging, randomforest, randomforest2, randomforest3, boosting, adaboost, sclf], \n",
    "                      ['KNN',\n",
    "                       'Logistic Regression', \n",
    "                       'Linear SVM', \n",
    "                       'Kernel SVM',\n",
    "                       'Decision Trees',\n",
    "                       'Extra Trees',\n",
    "                       'Bagging',\n",
    "                       'Random Forest 1',\n",
    "                       'Random Forest 2',\n",
    "                       'Random Forest 3',\n",
    "                       'Stochastic Gradient Boosting',\n",
    "                       'Adaptive Boosting',\n",
    "                       'Stacking    : Stacking All Model with Logistic Reg']):\n",
    "\n",
    "    scores = cross_val_score(clf, x_data_feature_engineering, y, cv=7, scoring='accuracy')\n",
    "    print(\"Accuracy: %0.4f (+/- %0.4f) [%s]\" \n",
    "          % (scores.mean(), scores.std(), label))"
   ]
  },
  {
   "cell_type": "markdown",
   "metadata": {},
   "source": [
    "## GridSearch Optim"
   ]
  },
  {
   "cell_type": "markdown",
   "metadata": {},
   "source": [
    "# KNN Optim"
   ]
  },
  {
   "cell_type": "code",
   "execution_count": null,
   "metadata": {
    "collapsed": true
   },
   "outputs": [],
   "source": []
  },
  {
   "cell_type": "code",
   "execution_count": 86,
   "metadata": {
    "collapsed": false
   },
   "outputs": [],
   "source": [
    "param_knn = {'n_neighbors' : [1, 2, 3, 4, 5, 6, 7, 8, 9, 10, 11, 12 , 13, 14, 15, 16, 17, 18 , 19, 20]}"
   ]
  },
  {
   "cell_type": "code",
   "execution_count": 87,
   "metadata": {
    "collapsed": true
   },
   "outputs": [],
   "source": [
    "from sklearn.grid_search import GridSearchCV"
   ]
  },
  {
   "cell_type": "code",
   "execution_count": 88,
   "metadata": {
    "collapsed": false
   },
   "outputs": [
    {
     "data": {
      "text/plain": [
       "GridSearchCV(cv=7, error_score='raise',\n",
       "       estimator=KNeighborsClassifier(algorithm='auto', leaf_size=30, metric='minkowski',\n",
       "           metric_params=None, n_jobs=1, n_neighbors=5, p=2,\n",
       "           weights='uniform'),\n",
       "       fit_params={}, iid=True, n_jobs=1,\n",
       "       param_grid={'n_neighbors': [1, 2, 3, 4, 5, 6, 7, 8, 9, 10, 11, 12, 13, 14, 15, 16, 17, 18, 19, 20]},\n",
       "       pre_dispatch='2*n_jobs', refit=True, scoring=None, verbose=0)"
      ]
     },
     "execution_count": 88,
     "metadata": {},
     "output_type": "execute_result"
    }
   ],
   "source": [
    "gridKNN = GridSearchCV(knn,param_knn, cv = 7)\n",
    "gridKNN.fit( x_train, y_train)"
   ]
  },
  {
   "cell_type": "code",
   "execution_count": 89,
   "metadata": {
    "collapsed": false
   },
   "outputs": [
    {
     "data": {
      "text/plain": [
       "{'n_neighbors': 20}"
      ]
     },
     "execution_count": 89,
     "metadata": {},
     "output_type": "execute_result"
    }
   ],
   "source": [
    "gridKNN.best_params_"
   ]
  },
  {
   "cell_type": "code",
   "execution_count": 90,
   "metadata": {
    "collapsed": false
   },
   "outputs": [
    {
     "data": {
      "text/plain": [
       "0.77617777777777774"
      ]
     },
     "execution_count": 90,
     "metadata": {},
     "output_type": "execute_result"
    }
   ],
   "source": [
    "gridKNN.best_score_"
   ]
  },
  {
   "cell_type": "markdown",
   "metadata": {},
   "source": [
    "# Logreg Optim"
   ]
  },
  {
   "cell_type": "code",
   "execution_count": 91,
   "metadata": {
    "collapsed": true
   },
   "outputs": [],
   "source": [
    "param_logreg = {'C' : [1750, 2000, 1500, 1200, 1000, 333, 100, 33, 10, 3.33, 1, 0.33, 0.1, 0.033, 0.01, 0.0033, 0.001, 0.00033, 0.0001]}"
   ]
  },
  {
   "cell_type": "code",
   "execution_count": 92,
   "metadata": {
    "collapsed": false
   },
   "outputs": [
    {
     "data": {
      "text/plain": [
       "GridSearchCV(cv=7, error_score='raise',\n",
       "       estimator=LogisticRegression(C=1.0, class_weight=None, dual=False, fit_intercept=True,\n",
       "          intercept_scaling=1, max_iter=100, multi_class='ovr', n_jobs=1,\n",
       "          penalty='l2', random_state=123, solver='liblinear', tol=0.0001,\n",
       "          verbose=0, warm_start=False),\n",
       "       fit_params={}, iid=True, n_jobs=1,\n",
       "       param_grid={'C': [1750, 2000, 1500, 1200, 1000, 333, 100, 33, 10, 3.33, 1, 0.33, 0.1, 0.033, 0.01, 0.0033, 0.001, 0.00033, 0.0001]},\n",
       "       pre_dispatch='2*n_jobs', refit=True, scoring=None, verbose=0)"
      ]
     },
     "execution_count": 92,
     "metadata": {},
     "output_type": "execute_result"
    }
   ],
   "source": [
    "gridLogReg = GridSearchCV(logreg,param_logreg, cv = 7)\n",
    "gridLogReg.fit(x_train, y_train)"
   ]
  },
  {
   "cell_type": "code",
   "execution_count": 93,
   "metadata": {
    "collapsed": false
   },
   "outputs": [
    {
     "data": {
      "text/plain": [
       "0.77768888888888887"
      ]
     },
     "execution_count": 93,
     "metadata": {},
     "output_type": "execute_result"
    }
   ],
   "source": [
    "gridLogReg.best_score_"
   ]
  },
  {
   "cell_type": "code",
   "execution_count": 94,
   "metadata": {
    "collapsed": false
   },
   "outputs": [
    {
     "data": {
      "text/plain": [
       "{'C': 1500}"
      ]
     },
     "execution_count": 94,
     "metadata": {},
     "output_type": "execute_result"
    }
   ],
   "source": [
    "gridLogReg.best_params_"
   ]
  },
  {
   "cell_type": "markdown",
   "metadata": {},
   "source": [
    "# Decision Tre"
   ]
  },
  {
   "cell_type": "code",
   "execution_count": 119,
   "metadata": {
    "collapsed": true
   },
   "outputs": [],
   "source": [
    "param_dectree = {'max_depth' : [ 1, 2, 3, 4, 5, 6, 7, 8, 9, 10, 11, 12]}"
   ]
  },
  {
   "cell_type": "code",
   "execution_count": 120,
   "metadata": {
    "collapsed": true
   },
   "outputs": [],
   "source": [
    "gridDecTree = GridSearchCV(decisiontree, param_dectree, cv = 7)"
   ]
  },
  {
   "cell_type": "code",
   "execution_count": 121,
   "metadata": {
    "collapsed": false
   },
   "outputs": [
    {
     "data": {
      "text/plain": [
       "GridSearchCV(cv=7, error_score='raise',\n",
       "       estimator=DecisionTreeClassifier(class_weight=None, criterion='gini', max_depth=None,\n",
       "            max_features=None, max_leaf_nodes=None, min_samples_leaf=1,\n",
       "            min_samples_split=2, min_weight_fraction_leaf=0.0,\n",
       "            presort=False, random_state=123, splitter='best'),\n",
       "       fit_params={}, iid=True, n_jobs=1,\n",
       "       param_grid={'max_depth': [1, 2, 3, 4, 5, 6, 7, 8, 9, 10, 11, 12]},\n",
       "       pre_dispatch='2*n_jobs', refit=True, scoring=None, verbose=0)"
      ]
     },
     "execution_count": 121,
     "metadata": {},
     "output_type": "execute_result"
    }
   ],
   "source": [
    "gridDecTree.fit(x_train, y_train)"
   ]
  },
  {
   "cell_type": "code",
   "execution_count": 122,
   "metadata": {
    "collapsed": false
   },
   "outputs": [
    {
     "data": {
      "text/plain": [
       "0.82057777777777774"
      ]
     },
     "execution_count": 122,
     "metadata": {},
     "output_type": "execute_result"
    }
   ],
   "source": [
    "gridDecTree.best_score_"
   ]
  },
  {
   "cell_type": "code",
   "execution_count": 123,
   "metadata": {
    "collapsed": false
   },
   "outputs": [
    {
     "data": {
      "text/plain": [
       "{'max_depth': 3}"
      ]
     },
     "execution_count": 123,
     "metadata": {},
     "output_type": "execute_result"
    }
   ],
   "source": [
    "gridDecTree.best_params_"
   ]
  },
  {
   "cell_type": "markdown",
   "metadata": {},
   "source": [
    "# Bagging with best Param"
   ]
  },
  {
   "cell_type": "code",
   "execution_count": 124,
   "metadata": {
    "collapsed": true
   },
   "outputs": [],
   "source": [
    "baggBest = BaggingClassifier(DecisionTreeClassifier(max_depth= 3),n_estimators= 1000, random_state= 123)"
   ]
  },
  {
   "cell_type": "code",
   "execution_count": 125,
   "metadata": {
    "collapsed": true
   },
   "outputs": [],
   "source": [
    "baggBestScore = cross_val_score(baggBest, x_train, y_train, cv=7, scoring='accuracy')"
   ]
  },
  {
   "cell_type": "code",
   "execution_count": 126,
   "metadata": {
    "collapsed": false
   },
   "outputs": [
    {
     "data": {
      "text/plain": [
       "0.82146726554229044"
      ]
     },
     "execution_count": 126,
     "metadata": {},
     "output_type": "execute_result"
    }
   ],
   "source": [
    "baggBestScore.mean()"
   ]
  },
  {
   "cell_type": "code",
   "execution_count": 127,
   "metadata": {
    "collapsed": false
   },
   "outputs": [
    {
     "data": {
      "text/plain": [
       "0.0063269953427523952"
      ]
     },
     "execution_count": 127,
     "metadata": {},
     "output_type": "execute_result"
    }
   ],
   "source": [
    "baggBestScore.std()"
   ]
  },
  {
   "cell_type": "markdown",
   "metadata": {},
   "source": [
    "# Gradient Boosting"
   ]
  },
  {
   "cell_type": "code",
   "execution_count": 129,
   "metadata": {
    "collapsed": true
   },
   "outputs": [],
   "source": [
    "from sklearn.grid_search import RandomizedSearchCV"
   ]
  },
  {
   "cell_type": "code",
   "execution_count": 130,
   "metadata": {
    "collapsed": false
   },
   "outputs": [],
   "source": [
    "param_Boosting = {'learning_rate' : [ 1, 0.33, 0.1, 0.033, 0.01, 0.0033],\n",
    "           'n_estimators': [100, 200, 300, 400, 500, 700,\n",
    "                           900, 1000, 1200, 1500, 2000, 3000, 4000, 5000]}"
   ]
  },
  {
   "cell_type": "code",
   "execution_count": 131,
   "metadata": {
    "collapsed": false
   },
   "outputs": [],
   "source": [
    "boostOptim = RandomizedSearchCV(GradientBoostingClassifier(), param_RF,n_iter = 30 , cv = 7)"
   ]
  },
  {
   "cell_type": "code",
   "execution_count": null,
   "metadata": {
    "collapsed": false
   },
   "outputs": [],
   "source": [
    "boostOptim.fit(x_train, y_train)"
   ]
  },
  {
   "cell_type": "code",
   "execution_count": null,
   "metadata": {
    "collapsed": false
   },
   "outputs": [],
   "source": [
    "boostOptim.best_score_"
   ]
  },
  {
   "cell_type": "code",
   "execution_count": null,
   "metadata": {
    "collapsed": false
   },
   "outputs": [],
   "source": [
    "boostOptim.best_params_"
   ]
  },
  {
   "cell_type": "code",
   "execution_count": null,
   "metadata": {
    "collapsed": true
   },
   "outputs": [],
   "source": []
  }
 ],
 "metadata": {
  "anaconda-cloud": {},
  "kernelspec": {
   "display_name": "Python [default]",
   "language": "python",
   "name": "python2"
  },
  "language_info": {
   "codemirror_mode": {
    "name": "ipython",
    "version": 2
   },
   "file_extension": ".py",
   "mimetype": "text/x-python",
   "name": "python",
   "nbconvert_exporter": "python",
   "pygments_lexer": "ipython2",
   "version": "2.7.12"
  }
 },
 "nbformat": 4,
 "nbformat_minor": 1
}
