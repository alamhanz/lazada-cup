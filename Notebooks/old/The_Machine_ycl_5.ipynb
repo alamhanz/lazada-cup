{
 "cells": [
  {
   "cell_type": "code",
   "execution_count": 1,
   "metadata": {},
   "outputs": [
    {
     "name": "stderr",
     "output_type": "stream",
     "text": [
      "Using TensorFlow backend.\n"
     ]
    },
    {
     "name": "stdout",
     "output_type": "stream",
     "text": [
      "2.0.4 1.0.1\n"
     ]
    }
   ],
   "source": [
    "%matplotlib inline\n",
    "import numpy as np\n",
    "import pandas as pd\n",
    "from keras.models import Sequential, load_model\n",
    "from keras.layers import LSTM, Convolution1D, Flatten, Dropout, MaxPooling1D, Dense, Merge\n",
    "# from keras.layers.convolution import \n",
    "from keras.layers.embeddings import Embedding\n",
    "from keras.preprocessing import sequence\n",
    "from keras.callbacks import TensorBoard\n",
    "import ast\n",
    "from sklearn.model_selection import train_test_split\n",
    "from sklearn.metrics import mean_squared_error as mse\n",
    "import keras as kr\n",
    "from keras.callbacks import ModelCheckpoint\n",
    "from sklearn.utils import class_weight\n",
    "from keras.optimizers import SGD,adam\n",
    "\n",
    "from sklearn.preprocessing import LabelEncoder\n",
    "import tensorflow as tf\n",
    "print(kr.__version__,tf.__version__)"
   ]
  },
  {
   "cell_type": "code",
   "execution_count": 2,
   "metadata": {
    "collapsed": true
   },
   "outputs": [],
   "source": [
    "base_dir_tr='training/'\n",
    "base_dir_vl='validation/'\n",
    "weight_log='weight_logs/'"
   ]
  },
  {
   "cell_type": "code",
   "execution_count": 3,
   "metadata": {
    "collapsed": true
   },
   "outputs": [],
   "source": [
    "top_words = 20000\n",
    "dtr_1=pd.read_csv(base_dir_tr+'data_manipulation_2_2_train.csv',encoding='ISO-8859-1')\n",
    "dvl_1=pd.read_csv(base_dir_vl+'data_manipulation_2_2_valid.csv',encoding='ISO-8859-1')\n",
    "dtr_2=pd.read_csv(base_dir_tr+'length_string_2.csv',encoding='ISO-8859-1')\n",
    "dvl_2=pd.read_csv(base_dir_vl+'length_string_2.csv',encoding='ISO-8859-1')"
   ]
  },
  {
   "cell_type": "code",
   "execution_count": 4,
   "metadata": {
    "collapsed": true
   },
   "outputs": [],
   "source": [
    "dtr=pd.merge(dtr_1,dtr_2,on='sku_id',how='left')\n",
    "Xl_tr=dtr[['len_title_des','len_short_des','price_rupiah_st']].as_matrix()\n",
    "dvl=pd.merge(dvl_1,dvl_2,on='sku_id',how='left')\n",
    "Xl_vl=dvl[['len_title_des','len_short_des','price_rupiah_st']].as_matrix()"
   ]
  },
  {
   "cell_type": "code",
   "execution_count": null,
   "metadata": {
    "collapsed": true,
    "scrolled": true
   },
   "outputs": [],
   "source": []
  },
  {
   "cell_type": "code",
   "execution_count": null,
   "metadata": {
    "collapsed": true
   },
   "outputs": [],
   "source": []
  },
  {
   "cell_type": "code",
   "execution_count": 5,
   "metadata": {
    "collapsed": true,
    "scrolled": true
   },
   "outputs": [],
   "source": [
    "Xsd=dtr.rank_short_des.as_matrix()\n",
    "Xsd=np.array([ast.literal_eval(cd) for cd in Xsd])\n",
    "\n",
    "Xti=dtr.rank_title.as_matrix()\n",
    "Xti=np.array([ast.literal_eval(cd) for cd in Xti])\n",
    "\n",
    "ycl=dtr_1.clari"
   ]
  },
  {
   "cell_type": "code",
   "execution_count": 6,
   "metadata": {
    "collapsed": true
   },
   "outputs": [],
   "source": [
    "Xsd_v=dvl.rank_short_des.as_matrix()\n",
    "Xsd_v=np.array([ast.literal_eval(cd) for cd in Xsd_v])\n",
    "\n",
    "Xti_v=dvl.rank_title.as_matrix()\n",
    "Xti_v=np.array([ast.literal_eval(cd) for cd in Xti_v])"
   ]
  },
  {
   "cell_type": "code",
   "execution_count": 7,
   "metadata": {
    "collapsed": true
   },
   "outputs": [],
   "source": [
    "max_review_length_s = 150\n",
    "max_review_length_t = 40\n",
    "Xsd = sequence.pad_sequences(Xsd, maxlen=max_review_length_s)\n",
    "Xti = sequence.pad_sequences(Xti, maxlen=max_review_length_t)\n",
    "\n",
    "Xsd_v = sequence.pad_sequences(Xsd_v, maxlen=max_review_length_s)\n",
    "Xti_v = sequence.pad_sequences(Xti_v, maxlen=max_review_length_t)"
   ]
  },
  {
   "cell_type": "code",
   "execution_count": 8,
   "metadata": {
    "collapsed": true
   },
   "outputs": [],
   "source": [
    "X=[]\n",
    "for i,j,k in zip(Xsd,Xti,Xl_tr):\n",
    "    X.append(list(k)+list(j)+list(i))\n",
    "X=np.array(X)\n",
    "\n",
    "X_v=[]\n",
    "for i,j,k in zip(Xsd_v,Xti_v,Xl_vl):\n",
    "    X_v.append(list(k)+list(j)+list(i))\n",
    "X_v=np.array(X_v)\n",
    "\n",
    "# np.savetxt(base_dir_vl+'data_input_ycl_3_1.txt',X_v)\n",
    "np.savetxt(base_dir_vl+'data_input_ycl_5_1.txt',X_v)"
   ]
  },
  {
   "cell_type": "code",
   "execution_count": 9,
   "metadata": {},
   "outputs": [
    {
     "data": {
      "text/plain": [
       "True"
      ]
     },
     "execution_count": 9,
     "metadata": {},
     "output_type": "execute_result"
    }
   ],
   "source": [
    "len(X[0][3:])==len(np.array(list(Xti[0])+list(Xsd[0])))"
   ]
  },
  {
   "cell_type": "code",
   "execution_count": 10,
   "metadata": {},
   "outputs": [
    {
     "data": {
      "text/plain": [
       "True"
      ]
     },
     "execution_count": 10,
     "metadata": {},
     "output_type": "execute_result"
    }
   ],
   "source": [
    "len(X[0][:3])==len(np.array(list(Xl_tr[0])))"
   ]
  },
  {
   "cell_type": "code",
   "execution_count": 11,
   "metadata": {},
   "outputs": [
    {
     "data": {
      "text/plain": [
       "array([  7.00000000e+00,   1.50000000e+01,   5.20854665e-05])"
      ]
     },
     "execution_count": 11,
     "metadata": {},
     "output_type": "execute_result"
    }
   ],
   "source": [
    "X[0][:3]"
   ]
  },
  {
   "cell_type": "markdown",
   "metadata": {},
   "source": [
    "#### ycl model"
   ]
  },
  {
   "cell_type": "code",
   "execution_count": null,
   "metadata": {
    "collapsed": true
   },
   "outputs": [],
   "source": []
  },
  {
   "cell_type": "code",
   "execution_count": 12,
   "metadata": {},
   "outputs": [
    {
     "data": {
      "text/plain": [
       "1    0.943362\n",
       "0    0.056638\n",
       "Name: clari, dtype: float64"
      ]
     },
     "execution_count": 12,
     "metadata": {},
     "output_type": "execute_result"
    }
   ],
   "source": [
    "# model.save('model_yco_1_2_3.h5') OKE (74.05%)\n",
    "ycl.value_counts()/ycl.value_counts().sum()"
   ]
  },
  {
   "cell_type": "code",
   "execution_count": 13,
   "metadata": {},
   "outputs": [
    {
     "data": {
      "text/plain": [
       "array([ 8.82798054,  0.53001928])"
      ]
     },
     "execution_count": 13,
     "metadata": {},
     "output_type": "execute_result"
    }
   ],
   "source": [
    "clas_weight = class_weight.compute_class_weight('balanced', np.unique(ycl), ycl)\n",
    "clas_weight"
   ]
  },
  {
   "cell_type": "code",
   "execution_count": 14,
   "metadata": {
    "collapsed": true
   },
   "outputs": [],
   "source": [
    "X_train, X_test, ycl_train, ycl_test = train_test_split(X, ycl, test_size=0.3, random_state=21)\n",
    "\n",
    "X_train_nl=np.array([x[3:] for x in X_train])\n",
    "X_train_ct=np.array([x[:3] for x in X_train])\n",
    "\n",
    "X_test_nl=np.array([x[3:] for x in X_test])\n",
    "X_test_ct=np.array([x[:3] for x in X_test])"
   ]
  },
  {
   "cell_type": "code",
   "execution_count": 15,
   "metadata": {},
   "outputs": [
    {
     "data": {
      "text/plain": [
       "1    0.94497\n",
       "0    0.05503\n",
       "Name: clari, dtype: float64"
      ]
     },
     "execution_count": 15,
     "metadata": {},
     "output_type": "execute_result"
    }
   ],
   "source": [
    "ycl_test.value_counts()/ycl_test.value_counts().sum()"
   ]
  },
  {
   "cell_type": "code",
   "execution_count": 16,
   "metadata": {},
   "outputs": [
    {
     "data": {
      "text/plain": [
       "array([[  7.00000000e+00,   2.50000000e+01,   1.06085461e-04, ...,\n",
       "          5.00000000e+01,   1.35000000e+02,   5.01300000e+03],\n",
       "       [  1.30000000e+01,   2.00000000e+01,   2.56094165e-05, ...,\n",
       "          1.73000000e+02,   6.00000000e+00,   2.50000000e+02],\n",
       "       [  1.50000000e+01,   1.60000000e+01,   2.20754698e-05, ...,\n",
       "          4.83100000e+03,   2.10000000e+01,   6.41000000e+02],\n",
       "       ..., \n",
       "       [  1.50000000e+01,   2.20000000e+01,   6.80854648e-05, ...,\n",
       "          1.53500000e+03,   2.33000000e+02,   1.17000000e+02],\n",
       "       [  1.30000000e+01,   2.30000000e+01,   6.99788815e-05, ...,\n",
       "          9.62000000e+02,   1.80000000e+01,   1.41220000e+04],\n",
       "       [  1.20000000e+01,   1.50000000e+01,   8.20854633e-05, ...,\n",
       "          2.55100000e+03,   3.30500000e+03,   0.00000000e+00]])"
      ]
     },
     "execution_count": 16,
     "metadata": {},
     "output_type": "execute_result"
    }
   ],
   "source": [
    "# len(X_train_nl)\n",
    "X_train"
   ]
  },
  {
   "cell_type": "code",
   "execution_count": 17,
   "metadata": {},
   "outputs": [
    {
     "data": {
      "text/plain": [
       "array([[  0.00000000e+00,   0.00000000e+00,   0.00000000e+00, ...,\n",
       "          5.00000000e+01,   1.35000000e+02,   5.01300000e+03],\n",
       "       [  0.00000000e+00,   0.00000000e+00,   0.00000000e+00, ...,\n",
       "          1.73000000e+02,   6.00000000e+00,   2.50000000e+02],\n",
       "       [  0.00000000e+00,   0.00000000e+00,   0.00000000e+00, ...,\n",
       "          4.83100000e+03,   2.10000000e+01,   6.41000000e+02],\n",
       "       ..., \n",
       "       [  0.00000000e+00,   0.00000000e+00,   0.00000000e+00, ...,\n",
       "          1.53500000e+03,   2.33000000e+02,   1.17000000e+02],\n",
       "       [  0.00000000e+00,   0.00000000e+00,   0.00000000e+00, ...,\n",
       "          9.62000000e+02,   1.80000000e+01,   1.41220000e+04],\n",
       "       [  0.00000000e+00,   0.00000000e+00,   0.00000000e+00, ...,\n",
       "          2.55100000e+03,   3.30500000e+03,   0.00000000e+00]])"
      ]
     },
     "execution_count": 17,
     "metadata": {},
     "output_type": "execute_result"
    }
   ],
   "source": [
    "X_train_nl"
   ]
  },
  {
   "cell_type": "code",
   "execution_count": 22,
   "metadata": {
    "scrolled": true
   },
   "outputs": [
    {
     "name": "stderr",
     "output_type": "stream",
     "text": [
      "C:\\Users\\Aska\\Anaconda2\\envs\\snakes3_gpu\\lib\\site-packages\\ipykernel\\__main__.py:33: UserWarning: The `Merge` layer is deprecated and will be removed after 08/2017. Use instead layers from `keras.layers.merge`, e.g. `add`, `concatenate`, etc.\n"
     ]
    }
   ],
   "source": [
    "np.random.seed(21)\n",
    "#### Creating the model_1\n",
    "embedding_vecor_length = 150\n",
    "model_nl = Sequential()\n",
    "model_nl.add(Embedding(top_words, embedding_vecor_length, input_length=max_review_length_s+max_review_length_t))\n",
    "# model_nl.add(Convolution1D(64, 4, border_mode='same'))\n",
    "model_nl.add(LSTM(10))\n",
    "# model_nl.add(Convolution1D(128, 3, border_mode='same'))\n",
    "# model_nl.add(Convolution1D(64, 3, border_mode='same'))\n",
    "# model_nl.add(Convolution1D(32, 3, border_mode='same'))\n",
    "# model_nl.add(Convolution1D(16, 3, border_mode='same'))\n",
    "# model_nl.add(Flatten())\n",
    "model_nl.add(Dropout(0.1))\n",
    "model_nl.add(Dense(100,activation='relu'))\n",
    "model_nl.add(Dense(100,activation='relu'))\n",
    "model_nl.add(Dense(100,activation='relu'))\n",
    "# model_nl.add(Dense(150,activation='relu'))\n",
    "model_nl.add(Dropout(0.1))\n",
    "model_nl.add(Dense(2,activation='relu'))\n",
    "\n",
    "#### Creating the model_2\n",
    "model_ct = Sequential()\n",
    "model_ct.add(Dense(50, input_shape=(3,),activation='relu'))\n",
    "model_ct.add(Dense(50,activation='relu'))\n",
    "# model_ct.add(Dense(20,activation='relu'))\n",
    "model_ct.add(Dense(25,activation='relu'))\n",
    "# model_ct.add(Dense(150,activation='relu'))\n",
    "# model_ct.add(Dense(150,activation='relu'))\n",
    "model_ct.add(Dropout(0.1))\n",
    "model_ct.add(Dense(2,activation='relu'))\n",
    "\n",
    "model = Sequential()\n",
    "model.add(Merge([model_ct,model_nl], mode='concat'))\n",
    "model.add(Dense(1,activation='sigmoid'))\n",
    "\n",
    "model2=model\n",
    "\n",
    "# opt = SGD(lr=0.1)\n",
    "opt= adam(lr=0.0009) #0.001\n",
    "\n",
    "# model.compile(loss = \"categorical_crossentropy\", optimizer = opt)\n",
    "model.compile(loss='binary_crossentropy', optimizer=opt, metrics=['accuracy','mse'])\n",
    "# model.compile(loss='binary_crossentropy', optimizer=opt, metrics=['accuracy','mse'])\n",
    "# model.compile(loss='mse', optimizer=opt, metrics=['accuracy','mse'])\n",
    "\n",
    "\n",
    "\n",
    "# checkpoint\n",
    "# filepath=weight_log+\"weights_best_ycl_3_1.hdf5\"\n",
    "filepath=weight_log+\"weights_best_ycl_5_1.hdf5\"\n",
    "\n",
    "checkpoint = ModelCheckpoint(filepath, monitor='val_mean_squared_error', verbose=1, save_best_only=True, mode='min')\n",
    "callbacks_list = [checkpoint]"
   ]
  },
  {
   "cell_type": "code",
   "execution_count": 23,
   "metadata": {},
   "outputs": [
    {
     "data": {
      "text/plain": [
       "[(None, 3), (None, 190)]"
      ]
     },
     "execution_count": 23,
     "metadata": {},
     "output_type": "execute_result"
    }
   ],
   "source": [
    "model.input_shape"
   ]
  },
  {
   "cell_type": "code",
   "execution_count": 24,
   "metadata": {},
   "outputs": [
    {
     "name": "stdout",
     "output_type": "stream",
     "text": [
      "(25398, 3) (25398, 190)\n"
     ]
    }
   ],
   "source": [
    "print(X_train_ct.shape,X_train_nl.shape)"
   ]
  },
  {
   "cell_type": "code",
   "execution_count": 25,
   "metadata": {
    "scrolled": true
   },
   "outputs": [
    {
     "name": "stdout",
     "output_type": "stream",
     "text": [
      "Train on 25398 samples, validate on 10885 samples\n",
      "Epoch 1/100\n",
      "25300/25398 [============================>.] - ETA: 0s - loss: 0.2622 - acc: 0.9425 - mean_squared_error: 0.0602Epoch 00000: val_mean_squared_error improved from inf to 0.05494, saving model to weight_logs/weights_best_ycl_5_1.hdf5\n",
      "25398/25398 [==============================] - 131s - loss: 0.2622 - acc: 0.9425 - mean_squared_error: 0.0602 - val_loss: 0.2355 - val_acc: 0.9450 - val_mean_squared_error: 0.0549\n",
      "Epoch 2/100\n",
      "25300/25398 [============================>.] - ETA: 0s - loss: 0.2397 - acc: 0.9427 - mean_squared_error: 0.0566Epoch 00001: val_mean_squared_error improved from 0.05494 to 0.05309, saving model to weight_logs/weights_best_ycl_5_1.hdf5\n",
      "25398/25398 [==============================] - 182s - loss: 0.2397 - acc: 0.9427 - mean_squared_error: 0.0566 - val_loss: 0.2220 - val_acc: 0.9450 - val_mean_squared_error: 0.0531\n",
      "Epoch 3/100\n",
      "25300/25398 [============================>.] - ETA: 0s - loss: 0.2276 - acc: 0.9428 - mean_squared_error: 0.0550Epoch 00002: val_mean_squared_error improved from 0.05309 to 0.05186, saving model to weight_logs/weights_best_ycl_5_1.hdf5\n",
      "25398/25398 [==============================] - 199s - loss: 0.2279 - acc: 0.9427 - mean_squared_error: 0.0551 - val_loss: 0.2129 - val_acc: 0.9450 - val_mean_squared_error: 0.0519\n",
      "Epoch 4/100\n",
      "25300/25398 [============================>.] - ETA: 0s - loss: 0.2228 - acc: 0.9425 - mean_squared_error: 0.0545Epoch 00003: val_mean_squared_error improved from 0.05186 to 0.05182, saving model to weight_logs/weights_best_ycl_5_1.hdf5\n",
      "25398/25398 [==============================] - 153s - loss: 0.2224 - acc: 0.9427 - mean_squared_error: 0.0543 - val_loss: 0.2113 - val_acc: 0.9450 - val_mean_squared_error: 0.0518\n",
      "Epoch 5/100\n",
      "25300/25398 [============================>.] - ETA: 0s - loss: 0.2209 - acc: 0.9426 - mean_squared_error: 0.0544Epoch 00004: val_mean_squared_error improved from 0.05182 to 0.05175, saving model to weight_logs/weights_best_ycl_5_1.hdf5\n",
      "25398/25398 [==============================] - 196s - loss: 0.2208 - acc: 0.9427 - mean_squared_error: 0.0543 - val_loss: 0.2116 - val_acc: 0.9450 - val_mean_squared_error: 0.0518\n",
      "Epoch 6/100\n",
      "25300/25398 [============================>.] - ETA: 0s - loss: 0.2204 - acc: 0.9426 - mean_squared_error: 0.0543Epoch 00005: val_mean_squared_error improved from 0.05175 to 0.05159, saving model to weight_logs/weights_best_ycl_5_1.hdf5\n",
      "25398/25398 [==============================] - 201s - loss: 0.2202 - acc: 0.9427 - mean_squared_error: 0.0542 - val_loss: 0.2093 - val_acc: 0.9450 - val_mean_squared_error: 0.0516\n",
      "Epoch 7/100\n",
      " 2100/25398 [=>............................] - ETA: 167s - loss: 0.1960 - acc: 0.9486 - mean_squared_error: 0.0481"
     ]
    },
    {
     "ename": "KeyboardInterrupt",
     "evalue": "",
     "output_type": "error",
     "traceback": [
      "\u001b[1;31m---------------------------------------------------------------------------\u001b[0m",
      "\u001b[1;31mKeyboardInterrupt\u001b[0m                         Traceback (most recent call last)",
      "\u001b[1;32m<ipython-input-25-6e831ed5e46f>\u001b[0m in \u001b[0;36m<module>\u001b[1;34m()\u001b[0m\n\u001b[1;32m----> 1\u001b[1;33m \u001b[0mmodel\u001b[0m\u001b[1;33m.\u001b[0m\u001b[0mfit\u001b[0m\u001b[1;33m(\u001b[0m\u001b[1;33m[\u001b[0m\u001b[0mX_train_ct\u001b[0m\u001b[1;33m,\u001b[0m\u001b[0mX_train_nl\u001b[0m\u001b[1;33m]\u001b[0m\u001b[1;33m,\u001b[0m\u001b[0mycl_train\u001b[0m\u001b[1;33m,\u001b[0m \u001b[0mclass_weight\u001b[0m\u001b[1;33m=\u001b[0m\u001b[0mclas_weight\u001b[0m\u001b[1;33m,\u001b[0m \u001b[0mvalidation_data\u001b[0m\u001b[1;33m=\u001b[0m\u001b[1;33m(\u001b[0m\u001b[1;33m[\u001b[0m\u001b[0mX_test_ct\u001b[0m\u001b[1;33m,\u001b[0m\u001b[0mX_test_nl\u001b[0m\u001b[1;33m]\u001b[0m\u001b[1;33m,\u001b[0m\u001b[0mycl_test\u001b[0m\u001b[1;33m)\u001b[0m\u001b[1;33m,\u001b[0m\u001b[0mcallbacks\u001b[0m\u001b[1;33m=\u001b[0m\u001b[0mcallbacks_list\u001b[0m\u001b[1;33m,\u001b[0m \u001b[0mepochs\u001b[0m\u001b[1;33m=\u001b[0m\u001b[1;36m100\u001b[0m\u001b[1;33m,\u001b[0m \u001b[0mbatch_size\u001b[0m\u001b[1;33m=\u001b[0m\u001b[1;36m100\u001b[0m\u001b[1;33m,\u001b[0m \u001b[0mverbose\u001b[0m\u001b[1;33m=\u001b[0m\u001b[1;36m1\u001b[0m\u001b[1;33m)\u001b[0m\u001b[1;33m\u001b[0m\u001b[0m\n\u001b[0m",
      "\u001b[1;32mC:\\Users\\Aska\\Anaconda2\\envs\\snakes3_gpu\\lib\\site-packages\\keras\\models.py\u001b[0m in \u001b[0;36mfit\u001b[1;34m(self, x, y, batch_size, epochs, verbose, callbacks, validation_split, validation_data, shuffle, class_weight, sample_weight, initial_epoch, **kwargs)\u001b[0m\n\u001b[0;32m    854\u001b[0m                               \u001b[0mclass_weight\u001b[0m\u001b[1;33m=\u001b[0m\u001b[0mclass_weight\u001b[0m\u001b[1;33m,\u001b[0m\u001b[1;33m\u001b[0m\u001b[0m\n\u001b[0;32m    855\u001b[0m                               \u001b[0msample_weight\u001b[0m\u001b[1;33m=\u001b[0m\u001b[0msample_weight\u001b[0m\u001b[1;33m,\u001b[0m\u001b[1;33m\u001b[0m\u001b[0m\n\u001b[1;32m--> 856\u001b[1;33m                               initial_epoch=initial_epoch)\n\u001b[0m\u001b[0;32m    857\u001b[0m \u001b[1;33m\u001b[0m\u001b[0m\n\u001b[0;32m    858\u001b[0m     def evaluate(self, x, y, batch_size=32, verbose=1,\n",
      "\u001b[1;32mC:\\Users\\Aska\\Anaconda2\\envs\\snakes3_gpu\\lib\\site-packages\\keras\\engine\\training.py\u001b[0m in \u001b[0;36mfit\u001b[1;34m(self, x, y, batch_size, epochs, verbose, callbacks, validation_split, validation_data, shuffle, class_weight, sample_weight, initial_epoch, **kwargs)\u001b[0m\n\u001b[0;32m   1496\u001b[0m                               \u001b[0mval_f\u001b[0m\u001b[1;33m=\u001b[0m\u001b[0mval_f\u001b[0m\u001b[1;33m,\u001b[0m \u001b[0mval_ins\u001b[0m\u001b[1;33m=\u001b[0m\u001b[0mval_ins\u001b[0m\u001b[1;33m,\u001b[0m \u001b[0mshuffle\u001b[0m\u001b[1;33m=\u001b[0m\u001b[0mshuffle\u001b[0m\u001b[1;33m,\u001b[0m\u001b[1;33m\u001b[0m\u001b[0m\n\u001b[0;32m   1497\u001b[0m                               \u001b[0mcallback_metrics\u001b[0m\u001b[1;33m=\u001b[0m\u001b[0mcallback_metrics\u001b[0m\u001b[1;33m,\u001b[0m\u001b[1;33m\u001b[0m\u001b[0m\n\u001b[1;32m-> 1498\u001b[1;33m                               initial_epoch=initial_epoch)\n\u001b[0m\u001b[0;32m   1499\u001b[0m \u001b[1;33m\u001b[0m\u001b[0m\n\u001b[0;32m   1500\u001b[0m     \u001b[1;32mdef\u001b[0m \u001b[0mevaluate\u001b[0m\u001b[1;33m(\u001b[0m\u001b[0mself\u001b[0m\u001b[1;33m,\u001b[0m \u001b[0mx\u001b[0m\u001b[1;33m,\u001b[0m \u001b[0my\u001b[0m\u001b[1;33m,\u001b[0m \u001b[0mbatch_size\u001b[0m\u001b[1;33m=\u001b[0m\u001b[1;36m32\u001b[0m\u001b[1;33m,\u001b[0m \u001b[0mverbose\u001b[0m\u001b[1;33m=\u001b[0m\u001b[1;36m1\u001b[0m\u001b[1;33m,\u001b[0m \u001b[0msample_weight\u001b[0m\u001b[1;33m=\u001b[0m\u001b[1;32mNone\u001b[0m\u001b[1;33m)\u001b[0m\u001b[1;33m:\u001b[0m\u001b[1;33m\u001b[0m\u001b[0m\n",
      "\u001b[1;32mC:\\Users\\Aska\\Anaconda2\\envs\\snakes3_gpu\\lib\\site-packages\\keras\\engine\\training.py\u001b[0m in \u001b[0;36m_fit_loop\u001b[1;34m(self, f, ins, out_labels, batch_size, epochs, verbose, callbacks, val_f, val_ins, shuffle, callback_metrics, initial_epoch)\u001b[0m\n\u001b[0;32m   1150\u001b[0m                 \u001b[0mbatch_logs\u001b[0m\u001b[1;33m[\u001b[0m\u001b[1;34m'size'\u001b[0m\u001b[1;33m]\u001b[0m \u001b[1;33m=\u001b[0m \u001b[0mlen\u001b[0m\u001b[1;33m(\u001b[0m\u001b[0mbatch_ids\u001b[0m\u001b[1;33m)\u001b[0m\u001b[1;33m\u001b[0m\u001b[0m\n\u001b[0;32m   1151\u001b[0m                 \u001b[0mcallbacks\u001b[0m\u001b[1;33m.\u001b[0m\u001b[0mon_batch_begin\u001b[0m\u001b[1;33m(\u001b[0m\u001b[0mbatch_index\u001b[0m\u001b[1;33m,\u001b[0m \u001b[0mbatch_logs\u001b[0m\u001b[1;33m)\u001b[0m\u001b[1;33m\u001b[0m\u001b[0m\n\u001b[1;32m-> 1152\u001b[1;33m                 \u001b[0mouts\u001b[0m \u001b[1;33m=\u001b[0m \u001b[0mf\u001b[0m\u001b[1;33m(\u001b[0m\u001b[0mins_batch\u001b[0m\u001b[1;33m)\u001b[0m\u001b[1;33m\u001b[0m\u001b[0m\n\u001b[0m\u001b[0;32m   1153\u001b[0m                 \u001b[1;32mif\u001b[0m \u001b[1;32mnot\u001b[0m \u001b[0misinstance\u001b[0m\u001b[1;33m(\u001b[0m\u001b[0mouts\u001b[0m\u001b[1;33m,\u001b[0m \u001b[0mlist\u001b[0m\u001b[1;33m)\u001b[0m\u001b[1;33m:\u001b[0m\u001b[1;33m\u001b[0m\u001b[0m\n\u001b[0;32m   1154\u001b[0m                     \u001b[0mouts\u001b[0m \u001b[1;33m=\u001b[0m \u001b[1;33m[\u001b[0m\u001b[0mouts\u001b[0m\u001b[1;33m]\u001b[0m\u001b[1;33m\u001b[0m\u001b[0m\n",
      "\u001b[1;32mC:\\Users\\Aska\\Anaconda2\\envs\\snakes3_gpu\\lib\\site-packages\\keras\\backend\\tensorflow_backend.py\u001b[0m in \u001b[0;36m__call__\u001b[1;34m(self, inputs)\u001b[0m\n\u001b[0;32m   2227\u001b[0m         \u001b[0msession\u001b[0m \u001b[1;33m=\u001b[0m \u001b[0mget_session\u001b[0m\u001b[1;33m(\u001b[0m\u001b[1;33m)\u001b[0m\u001b[1;33m\u001b[0m\u001b[0m\n\u001b[0;32m   2228\u001b[0m         updated = session.run(self.outputs + [self.updates_op],\n\u001b[1;32m-> 2229\u001b[1;33m                               feed_dict=feed_dict)\n\u001b[0m\u001b[0;32m   2230\u001b[0m         \u001b[1;32mreturn\u001b[0m \u001b[0mupdated\u001b[0m\u001b[1;33m[\u001b[0m\u001b[1;33m:\u001b[0m\u001b[0mlen\u001b[0m\u001b[1;33m(\u001b[0m\u001b[0mself\u001b[0m\u001b[1;33m.\u001b[0m\u001b[0moutputs\u001b[0m\u001b[1;33m)\u001b[0m\u001b[1;33m]\u001b[0m\u001b[1;33m\u001b[0m\u001b[0m\n\u001b[0;32m   2231\u001b[0m \u001b[1;33m\u001b[0m\u001b[0m\n",
      "\u001b[1;32mC:\\Users\\Aska\\Anaconda2\\envs\\snakes3_gpu\\lib\\site-packages\\tensorflow\\python\\client\\session.py\u001b[0m in \u001b[0;36mrun\u001b[1;34m(self, fetches, feed_dict, options, run_metadata)\u001b[0m\n\u001b[0;32m    765\u001b[0m     \u001b[1;32mtry\u001b[0m\u001b[1;33m:\u001b[0m\u001b[1;33m\u001b[0m\u001b[0m\n\u001b[0;32m    766\u001b[0m       result = self._run(None, fetches, feed_dict, options_ptr,\n\u001b[1;32m--> 767\u001b[1;33m                          run_metadata_ptr)\n\u001b[0m\u001b[0;32m    768\u001b[0m       \u001b[1;32mif\u001b[0m \u001b[0mrun_metadata\u001b[0m\u001b[1;33m:\u001b[0m\u001b[1;33m\u001b[0m\u001b[0m\n\u001b[0;32m    769\u001b[0m         \u001b[0mproto_data\u001b[0m \u001b[1;33m=\u001b[0m \u001b[0mtf_session\u001b[0m\u001b[1;33m.\u001b[0m\u001b[0mTF_GetBuffer\u001b[0m\u001b[1;33m(\u001b[0m\u001b[0mrun_metadata_ptr\u001b[0m\u001b[1;33m)\u001b[0m\u001b[1;33m\u001b[0m\u001b[0m\n",
      "\u001b[1;32mC:\\Users\\Aska\\Anaconda2\\envs\\snakes3_gpu\\lib\\site-packages\\tensorflow\\python\\client\\session.py\u001b[0m in \u001b[0;36m_run\u001b[1;34m(self, handle, fetches, feed_dict, options, run_metadata)\u001b[0m\n\u001b[0;32m    963\u001b[0m     \u001b[1;32mif\u001b[0m \u001b[0mfinal_fetches\u001b[0m \u001b[1;32mor\u001b[0m \u001b[0mfinal_targets\u001b[0m\u001b[1;33m:\u001b[0m\u001b[1;33m\u001b[0m\u001b[0m\n\u001b[0;32m    964\u001b[0m       results = self._do_run(handle, final_targets, final_fetches,\n\u001b[1;32m--> 965\u001b[1;33m                              feed_dict_string, options, run_metadata)\n\u001b[0m\u001b[0;32m    966\u001b[0m     \u001b[1;32melse\u001b[0m\u001b[1;33m:\u001b[0m\u001b[1;33m\u001b[0m\u001b[0m\n\u001b[0;32m    967\u001b[0m       \u001b[0mresults\u001b[0m \u001b[1;33m=\u001b[0m \u001b[1;33m[\u001b[0m\u001b[1;33m]\u001b[0m\u001b[1;33m\u001b[0m\u001b[0m\n",
      "\u001b[1;32mC:\\Users\\Aska\\Anaconda2\\envs\\snakes3_gpu\\lib\\site-packages\\tensorflow\\python\\client\\session.py\u001b[0m in \u001b[0;36m_do_run\u001b[1;34m(self, handle, target_list, fetch_list, feed_dict, options, run_metadata)\u001b[0m\n\u001b[0;32m   1013\u001b[0m     \u001b[1;32mif\u001b[0m \u001b[0mhandle\u001b[0m \u001b[1;32mis\u001b[0m \u001b[1;32mNone\u001b[0m\u001b[1;33m:\u001b[0m\u001b[1;33m\u001b[0m\u001b[0m\n\u001b[0;32m   1014\u001b[0m       return self._do_call(_run_fn, self._session, feed_dict, fetch_list,\n\u001b[1;32m-> 1015\u001b[1;33m                            target_list, options, run_metadata)\n\u001b[0m\u001b[0;32m   1016\u001b[0m     \u001b[1;32melse\u001b[0m\u001b[1;33m:\u001b[0m\u001b[1;33m\u001b[0m\u001b[0m\n\u001b[0;32m   1017\u001b[0m       return self._do_call(_prun_fn, self._session, handle, feed_dict,\n",
      "\u001b[1;32mC:\\Users\\Aska\\Anaconda2\\envs\\snakes3_gpu\\lib\\site-packages\\tensorflow\\python\\client\\session.py\u001b[0m in \u001b[0;36m_do_call\u001b[1;34m(self, fn, *args)\u001b[0m\n\u001b[0;32m   1020\u001b[0m   \u001b[1;32mdef\u001b[0m \u001b[0m_do_call\u001b[0m\u001b[1;33m(\u001b[0m\u001b[0mself\u001b[0m\u001b[1;33m,\u001b[0m \u001b[0mfn\u001b[0m\u001b[1;33m,\u001b[0m \u001b[1;33m*\u001b[0m\u001b[0margs\u001b[0m\u001b[1;33m)\u001b[0m\u001b[1;33m:\u001b[0m\u001b[1;33m\u001b[0m\u001b[0m\n\u001b[0;32m   1021\u001b[0m     \u001b[1;32mtry\u001b[0m\u001b[1;33m:\u001b[0m\u001b[1;33m\u001b[0m\u001b[0m\n\u001b[1;32m-> 1022\u001b[1;33m       \u001b[1;32mreturn\u001b[0m \u001b[0mfn\u001b[0m\u001b[1;33m(\u001b[0m\u001b[1;33m*\u001b[0m\u001b[0margs\u001b[0m\u001b[1;33m)\u001b[0m\u001b[1;33m\u001b[0m\u001b[0m\n\u001b[0m\u001b[0;32m   1023\u001b[0m     \u001b[1;32mexcept\u001b[0m \u001b[0merrors\u001b[0m\u001b[1;33m.\u001b[0m\u001b[0mOpError\u001b[0m \u001b[1;32mas\u001b[0m \u001b[0me\u001b[0m\u001b[1;33m:\u001b[0m\u001b[1;33m\u001b[0m\u001b[0m\n\u001b[0;32m   1024\u001b[0m       \u001b[0mmessage\u001b[0m \u001b[1;33m=\u001b[0m \u001b[0mcompat\u001b[0m\u001b[1;33m.\u001b[0m\u001b[0mas_text\u001b[0m\u001b[1;33m(\u001b[0m\u001b[0me\u001b[0m\u001b[1;33m.\u001b[0m\u001b[0mmessage\u001b[0m\u001b[1;33m)\u001b[0m\u001b[1;33m\u001b[0m\u001b[0m\n",
      "\u001b[1;32mC:\\Users\\Aska\\Anaconda2\\envs\\snakes3_gpu\\lib\\site-packages\\tensorflow\\python\\client\\session.py\u001b[0m in \u001b[0;36m_run_fn\u001b[1;34m(session, feed_dict, fetch_list, target_list, options, run_metadata)\u001b[0m\n\u001b[0;32m   1002\u001b[0m         return tf_session.TF_Run(session, options,\n\u001b[0;32m   1003\u001b[0m                                  \u001b[0mfeed_dict\u001b[0m\u001b[1;33m,\u001b[0m \u001b[0mfetch_list\u001b[0m\u001b[1;33m,\u001b[0m \u001b[0mtarget_list\u001b[0m\u001b[1;33m,\u001b[0m\u001b[1;33m\u001b[0m\u001b[0m\n\u001b[1;32m-> 1004\u001b[1;33m                                  status, run_metadata)\n\u001b[0m\u001b[0;32m   1005\u001b[0m \u001b[1;33m\u001b[0m\u001b[0m\n\u001b[0;32m   1006\u001b[0m     \u001b[1;32mdef\u001b[0m \u001b[0m_prun_fn\u001b[0m\u001b[1;33m(\u001b[0m\u001b[0msession\u001b[0m\u001b[1;33m,\u001b[0m \u001b[0mhandle\u001b[0m\u001b[1;33m,\u001b[0m \u001b[0mfeed_dict\u001b[0m\u001b[1;33m,\u001b[0m \u001b[0mfetch_list\u001b[0m\u001b[1;33m)\u001b[0m\u001b[1;33m:\u001b[0m\u001b[1;33m\u001b[0m\u001b[0m\n",
      "\u001b[1;31mKeyboardInterrupt\u001b[0m: "
     ]
    }
   ],
   "source": [
    "model.fit([X_train_ct,X_train_nl],ycl_train, class_weight=clas_weight, validation_data=([X_test_ct,X_test_nl],ycl_test),callbacks=callbacks_list, epochs=100, batch_size=100, verbose=1)"
   ]
  },
  {
   "cell_type": "code",
   "execution_count": null,
   "metadata": {
    "collapsed": true
   },
   "outputs": [],
   "source": [
    "# model2.load_weights(weight_log+\"weights_best_ycl_3_1.hdf5\")\n",
    "model2.load_weights(weight_log+\"weights_best_ycl_5_1.hdf5\")\n",
    "\n",
    "model2.compile(loss='binary_crossentropy', optimizer=opt, metrics=['accuracy','mse'])"
   ]
  },
  {
   "cell_type": "code",
   "execution_count": null,
   "metadata": {
    "collapsed": true
   },
   "outputs": [],
   "source": [
    "#### Evaluation on the test set\n",
    "ycl_predc=model2.predict_classes(X_test)\n",
    "ycl_predp=model2.predict(X_test)\n",
    "\n",
    "ycl_predc=[i[0] for i in ycl_predc]\n",
    "ycl_predp=[i[0] for i in ycl_predp]\n",
    "\n",
    "scores = model2.evaluate(X_test, ycl_test, verbose=0)\n",
    "mse_c=mse(ycl_test,ycl_predc)\n",
    "mse_p=mse(ycl_test,ycl_predp)\n",
    "print(\"Accuracy: %.2f%%\" % (scores[1]*100)) \n",
    "print(\"MSE_class : \",mse_c)\n",
    "print(\"MSE_prob : \",mse_p)"
   ]
  },
  {
   "cell_type": "code",
   "execution_count": 49,
   "metadata": {
    "collapsed": true
   },
   "outputs": [],
   "source": [
    "# model.save('model_ycl_2_1_2.h5') <-3 epoch 0.04628\n",
    "# model2.save('model_ycl_3_4.h5') #<-0.04567\n",
    "model2.save('model_ycl_5_1.h5')"
   ]
  },
  {
   "cell_type": "code",
   "execution_count": null,
   "metadata": {
    "collapsed": true
   },
   "outputs": [],
   "source": [
    "#### model.save('model_ycl_3_3.h5')\n",
    "np.random.seed(21)\n",
    "\n",
    "# Using embedding from Keras\n",
    "embedding_vecor_length = 150\n",
    "model = Sequential()\n",
    "model.add(Embedding(top_words, embedding_vecor_length, input_length=max_review_length_s+max_review_length_t))\n",
    "\n",
    "# model.add(Convolution1D(256, 3, border_mode='same'))\n",
    "model.add(Convolution1D(128, 3, border_mode='same'))\n",
    "model.add(Convolution1D(64, 3, border_mode='same'))\n",
    "model.add(Convolution1D(32, 3, border_mode='same'))\n",
    "model.add(Convolution1D(16, 3, border_mode='same'))\n",
    "# model.add(Convolution1D(8, 3, border_mode='same'))\n",
    "model.add(Flatten())\n",
    "model.add(Dropout(0.35))\n",
    "model.add(Dense(200,activation='sigmoid'))\n",
    "model.add(Dense(200,activation='sigmoid'))\n",
    "# model.add(Dense(200,activation='sigmoid'))\n",
    "model.add(Dropout(0.3))\n",
    "model.add(Dense(1,activation='sigmoid'))\n",
    "\n",
    "model2=model\n",
    "\n",
    "# Log to tensorboard\n",
    "# tensorBoardCallback = TensorBoard(log_dir='./logs', write_graph=True)\n",
    "model.compile(loss='binary_crossentropy', optimizer='adam', metrics=['accuracy','mse'])"
   ]
  },
  {
   "cell_type": "code",
   "execution_count": null,
   "metadata": {
    "collapsed": true
   },
   "outputs": [],
   "source": []
  },
  {
   "cell_type": "markdown",
   "metadata": {},
   "source": [
    "### Validation"
   ]
  },
  {
   "cell_type": "code",
   "execution_count": 50,
   "metadata": {
    "collapsed": true
   },
   "outputs": [],
   "source": [
    "# X_vl=np.loadtxt(base_dir_vl+'data_input_ycl_3_4.txt')\n",
    "# ycl_model=load_model('model_ycl_3_4.h5')\n",
    "\n",
    "X_vl=np.loadtxt(base_dir_vl+'data_input_ycl_4_1.txt')\n",
    "ycl_model=load_model('model_ycl_4_1.h5')"
   ]
  },
  {
   "cell_type": "code",
   "execution_count": 66,
   "metadata": {},
   "outputs": [
    {
     "data": {
      "text/plain": [
       "array([[ True,  True,  True, ...,  True,  True,  True],\n",
       "       [ True,  True,  True, ...,  True,  True,  True],\n",
       "       [ True,  True,  True, ...,  True,  True,  True],\n",
       "       ..., \n",
       "       [ True,  True,  True, ...,  True,  True,  True],\n",
       "       [ True,  True,  True, ...,  True,  True,  True],\n",
       "       [ True,  True,  True, ...,  True,  True,  True]], dtype=bool)"
      ]
     },
     "execution_count": 66,
     "metadata": {},
     "output_type": "execute_result"
    }
   ],
   "source": [
    "X_v==X_vl"
   ]
  },
  {
   "cell_type": "code",
   "execution_count": 51,
   "metadata": {
    "collapsed": true
   },
   "outputs": [],
   "source": [
    "ycl_predp=ycl_model.predict(X_vl)\n",
    "ycl_predp=[i[0] for i in ycl_predp]"
   ]
  },
  {
   "cell_type": "code",
   "execution_count": 52,
   "metadata": {
    "collapsed": true
   },
   "outputs": [],
   "source": [
    "with open('clarity_valid.predict','w') as fcl:\n",
    "    for pp in ycl_predp:\n",
    "        fcl.write(str(pp))\n",
    "        fcl.write('\\n')\n",
    "fcl.close()"
   ]
  },
  {
   "cell_type": "code",
   "execution_count": null,
   "metadata": {
    "collapsed": true
   },
   "outputs": [],
   "source": []
  },
  {
   "cell_type": "code",
   "execution_count": null,
   "metadata": {
    "collapsed": true
   },
   "outputs": [],
   "source": []
  }
 ],
 "metadata": {
  "anaconda-cloud": {},
  "kernelspec": {
   "display_name": "Python [conda env:snakes3_gpu]",
   "language": "python",
   "name": "conda-env-snakes3_gpu-py"
  },
  "language_info": {
   "codemirror_mode": {
    "name": "ipython",
    "version": 3
   },
   "file_extension": ".py",
   "mimetype": "text/x-python",
   "name": "python",
   "nbconvert_exporter": "python",
   "pygments_lexer": "ipython3",
   "version": "3.5.2"
  }
 },
 "nbformat": 4,
 "nbformat_minor": 2
}
